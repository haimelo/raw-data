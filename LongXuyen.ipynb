{
 "cells": [
  {
   "cell_type": "code",
   "execution_count": 42,
   "id": "611b9f18",
   "metadata": {},
   "outputs": [],
   "source": [
    "from clickhouse_driver import Client\n",
    "import pandas as pd \n",
    "import datetime\n",
    "from datetime import datetime as dt, date"
   ]
  },
  {
   "cell_type": "code",
   "execution_count": 43,
   "id": "8e375ced",
   "metadata": {},
   "outputs": [],
   "source": [
    "client = Client(host = 'localhost',\n",
    "                client_name = 'python-driver',\n",
    "                port = 49000,\n",
    "                user='primedata',\n",
    "                password='primedata',\n",
    "                secure=False,\n",
    "                verify=False,\n",
    "                database = 'eventify_stag',\n",
    "               )"
   ]
  },
  {
   "cell_type": "code",
   "execution_count": 44,
   "id": "e3fa76c4",
   "metadata": {},
   "outputs": [],
   "source": [
    "def query_erp(CH_schema):#ch_client,schema,start_time, end_time\n",
    "    query_transaction = f\"\"\" \n",
    "                select a.*,b.gender,c.Province,d.card_tier_name,e.dob from\n",
    "                (\n",
    "                select at,anonymous_id,\n",
    "                    `str_properties.vals`[indexOf(`str_properties.keys`,'properties.account_id')] as account_id,\n",
    "                    `str_properties.vals`[indexOf(`str_properties.keys`,'properties.ngay_ct')] as ngay_ct,\n",
    "                    `str_properties.vals`[indexOf(`str_properties.keys`,'properties.gio_gh')] as gio_gh,\n",
    "                    `str_properties.vals`[indexOf(`str_properties.keys`,'properties.stt_rec')] as stt_rec,\n",
    "                    `str_properties.vals`[indexOf(`str_properties.keys`,'properties.dich_vu')] as dich_vu,\n",
    "                    `str_properties.vals`[indexOf(`str_properties.keys`,'properties.dvt')] as dvt,\n",
    "                    `str_properties.vals`[indexOf(`str_properties.keys`,'properties.nguon_dh')] as nguon_dh,\n",
    "                    `str_properties.vals`[indexOf(`str_properties.keys`,'properties.ma_vt')] as ma_vt,\n",
    "                    `str_properties.vals`[indexOf(`str_properties.keys`,'properties.ma_vt2')] as ma_vt2,\n",
    "                    `str_properties.vals`[indexOf(`str_properties.keys`,'properties.ma_ct_km')] as ma_ct_km,\n",
    "                    `str_properties.vals`[indexOf(`str_properties.keys`,'properties.ten_ct_km')] as ten_ct_km,\n",
    "                    `str_properties.vals`[indexOf(`str_properties.keys`,'properties.ma_voucher')] as ma_voucher,\n",
    "                    `str_properties.vals`[indexOf(`str_properties.keys`,'properties.ma_dvcs')] as ma_dvcs,\n",
    "                    `num_properties.vals`[indexOf(`num_properties.keys`,'properties.gia_ban')] as gia_ban,\n",
    "                    `num_properties.vals`[indexOf(`num_properties.keys`,'properties.tien_kh_nop')] as tien_kh_nop,\n",
    "                    `num_properties.vals`[indexOf(`num_properties.keys`,'properties.t_tien_sau_ck')] as t_tien_sau_ck,\n",
    "                    `num_properties.vals`[indexOf(`num_properties.keys`,'properties.tien_ck_voucher')] as tien_ck_voucher,\n",
    "                    `num_properties.vals`[indexOf(`num_properties.keys`,'properties.tien_ck_voucher_tm')] as tien_ck_voucher_tm,\n",
    "                    `num_properties.vals`[indexOf(`num_properties.keys`,'properties.tien_voucher')] as tien_voucher,\n",
    "                    `num_properties.vals`[indexOf(`num_properties.keys`,'properties.ck')] as ck,\n",
    "                    `num_properties.vals`[indexOf(`num_properties.keys`,'properties.pt_ck')] as pt_ck,\n",
    "                    `num_properties.vals`[indexOf(`num_properties.keys`,'properties.pt_ck_dh')] as pt_ck_dh,\n",
    "                    `num_properties.vals`[indexOf(`num_properties.keys`,'properties.so_luong')] as so_luong,\n",
    "                    `num_properties.vals`[indexOf(`num_properties.keys`,'properties.phi_vc')] as phi_vc \n",
    "                    from {CH_schema}.events \n",
    "                    where event_name ='erp_item_order_completed' \n",
    "                    and ma_dvcs ='0102') a\n",
    "\n",
    "                    left outer join \n",
    "\n",
    "                    (select anonymous_id, str_val as gender \n",
    "                    from {CH_schema}.profile_str_final_v \n",
    "                    where str_key='gender') b\n",
    "                    on a.anonymous_id = b.anonymous_id\n",
    "\n",
    "                    left outer join \n",
    "\n",
    "                    (select anonymous_id,str_val as Province\n",
    "                    from {CH_schema}.profile_str_final_v \n",
    "                    where str_key='city') c\n",
    "                    on a.anonymous_id = c.anonymous_id\n",
    "\n",
    "                    left outer join\n",
    "                    (select anonymous_id,str_val as card_tier_name \n",
    "                    from {CH_schema}.profile_str_final_v \n",
    "                    where str_key='card_tier_name') d\n",
    "                    on a.anonymous_id = d.anonymous_id \n",
    "\n",
    "                    left outer join\n",
    "                    (select anonymous_id,str_val as dob \n",
    "                    from {CH_schema}.profile_str_final_v \n",
    "                    where str_key = 'dob') e \n",
    "                    on a.anonymous_id = e.anonymous_id\n",
    "            \"\"\"\n",
    "    iterator = client.execute_iter(query_transaction, {'max_block_size': 5000}, with_column_types=True)\n",
    "    columns = next(iterator)\n",
    "    transaction_data = []\n",
    "    for item in iterator:\n",
    "        transaction_data.append(item)\n",
    "    transaction_df = pd.DataFrame(transaction_data[1:], columns=[col[0][2:] for col in columns])\n",
    "    return transaction_df"
   ]
  },
  {
   "cell_type": "code",
   "execution_count": 45,
   "id": "8795dd13",
   "metadata": {
    "code_folding": [
     9
    ]
   },
   "outputs": [],
   "source": [
    "def interval_age(age):\n",
    "    if age in range(10, 20):\n",
    "        return '<20'\n",
    "    if age in range(20, 26):\n",
    "        return '20-25'\n",
    "    if age in range(26, 31):\n",
    "        return '26-30'\n",
    "    if age in range(31, 36):\n",
    "        return '31-35'\n",
    "    if age in range(36, 41):\n",
    "        return '36-40'\n",
    "    if age in range(41, 46):\n",
    "        return '41-46'\n",
    "    if age in range(46, 51):\n",
    "        return '46-50'\n",
    "    if age in range(51, 100):\n",
    "        return \">50\"\n",
    "    return 'undefined'"
   ]
  },
  {
   "cell_type": "code",
   "execution_count": 46,
   "id": "21784633",
   "metadata": {},
   "outputs": [],
   "source": [
    "def calculate_age(born):\n",
    "    if born !=\"\":\n",
    "        today = date.today()\n",
    "        return today.year - born.year - ((today.month, today.day) < (born.month, born.day))"
   ]
  },
  {
   "cell_type": "code",
   "execution_count": 47,
   "id": "a0b1c785",
   "metadata": {},
   "outputs": [],
   "source": [
    "def convert_datetime(datetime_ob):\n",
    "    if not datetime_ob:\n",
    "        return datetime_ob\n",
    "    try:\n",
    "        return dt.strptime(datetime_ob, \"%Y-%m-%dT%H:%M:%S\")\n",
    "    except ValueError:\n",
    "        return dt.strptime(datetime_ob, \"%Y-%m-%d\")"
   ]
  },
  {
   "cell_type": "code",
   "execution_count": 48,
   "id": "85c717c0",
   "metadata": {},
   "outputs": [],
   "source": [
    "def agg_interval_age(dataframe):\n",
    "    dataframe['age'] = dataframe['dob'].apply(convert_datetime).apply(calculate_age)\n",
    "    dataframe['interval_age'] = dataframe['age'].apply(interval_age)\n",
    "    return dataframe"
   ]
  },
  {
   "cell_type": "code",
   "execution_count": 49,
   "id": "4c059d99",
   "metadata": {},
   "outputs": [],
   "source": [
    "def replace_EmptyNanNull(x):\n",
    "    if x == None or x == '' or x==np.NaN:\n",
    "        return 'undefined'\n",
    "    else:\n",
    "        return x"
   ]
  },
  {
   "cell_type": "code",
   "execution_count": 50,
   "id": "0460f9ee",
   "metadata": {},
   "outputs": [],
   "source": [
    "def convert_time(datetime_ob):\n",
    "    if not datetime_ob:\n",
    "        return datetime_ob\n",
    "    return dt.strptime(datetime_ob,\"%H:%M:%S\").time()"
   ]
  },
  {
   "cell_type": "code",
   "execution_count": 51,
   "id": "fbb64234",
   "metadata": {},
   "outputs": [],
   "source": [
    "def interval_time(time):\n",
    "        if time in list(pd.date_range(\"08:30:00\", \"13:00:00\", freq=\"1S\").time):\n",
    "            return '8h30 - 13h'\n",
    "        if time in list(pd.date_range(\"13:00:00\", \"18:00:00\", freq=\"1S\").time):\n",
    "            return '13h - 18h'\n",
    "        if time in list(pd.date_range(\"18:00:00\", \"22:00:00\", freq=\"1S\").time):\n",
    "            return '18h - 22h'\n",
    "        else:\n",
    "            return '22h - 8h30'"
   ]
  },
  {
   "cell_type": "code",
   "execution_count": 52,
   "id": "18e767e9",
   "metadata": {},
   "outputs": [],
   "source": [
    "def agg_interval_time(dataframe):\n",
    "    dataframe['interval_time']= dataframe['gio_gh'].apply(convert_time).apply(interval_time)\n",
    "    return dataframe"
   ]
  },
  {
   "cell_type": "code",
   "execution_count": 53,
   "id": "237bf9d1",
   "metadata": {},
   "outputs": [],
   "source": [
    "def detail_voucher(ma_voucher):\n",
    "        if ma_voucher[0:5] =='CK214':\n",
    "            return 'Voucher 300k AD Bill 1200k triệu - CT Khai trương SR Long Xuyên - HSD: 30/01/2022'\n",
    "        if ma_voucher[0:5] =='CK215':\n",
    "            return 'Voucher 500k AD Bill 1500k triệu - CT Khai trương SR Long Xuyên - HSD: 30/01/2022'\n",
    "        if ma_voucher[0:5] =='CK216':\n",
    "            return 'Voucher CK 650k AD bill từ 1 triệu - CT Khai trương SR Long Xuyên - HSD: 30/01/2022'\n",
    "        return 'Không voucher'"
   ]
  },
  {
   "cell_type": "code",
   "execution_count": 54,
   "id": "de757e23",
   "metadata": {},
   "outputs": [],
   "source": [
    "def erp_pipeline(data):#ch_client,schema,start_time, end_time)\\n\",\n",
    "    erp_result = data.copy()\n",
    "    erp_result = agg_interval_age(erp_result)\n",
    "    erp_result = agg_interval_time(erp_result)\n",
    "    erp_result['Province'] = erp_result['Province'].apply(replace_EmptyNanNull)\n",
    "    erp_result['card_tier_name'] = erp_result['card_tier_name'].apply(replace_EmptyNanNull)\n",
    "    erp_result['interval_age']= erp_result['interval_age'].apply(replace_EmptyNanNull)\n",
    "    erp_result['gender']=erp_result['gender'].apply(replace_EmptyNanNull)\n",
    "    erp_result.drop(columns = ['age','dob','anonymous_id'],inplace=True)\n",
    "    erp_result.rename(columns ={'account_id':'anonymous_id'},inplace=True)\n",
    "    return erp_result"
   ]
  },
  {
   "cell_type": "code",
   "execution_count": 55,
   "id": "0c3491dc",
   "metadata": {
    "scrolled": true
   },
   "outputs": [],
   "source": [
    "raw = query_erp('eventify_stag')"
   ]
  },
  {
   "cell_type": "code",
   "execution_count": 56,
   "id": "f089f8b5",
   "metadata": {},
   "outputs": [
    {
     "data": {
      "text/html": [
       "<div>\n",
       "<style scoped>\n",
       "    .dataframe tbody tr th:only-of-type {\n",
       "        vertical-align: middle;\n",
       "    }\n",
       "\n",
       "    .dataframe tbody tr th {\n",
       "        vertical-align: top;\n",
       "    }\n",
       "\n",
       "    .dataframe thead th {\n",
       "        text-align: right;\n",
       "    }\n",
       "</style>\n",
       "<table border=\"1\" class=\"dataframe\">\n",
       "  <thead>\n",
       "    <tr style=\"text-align: right;\">\n",
       "      <th></th>\n",
       "      <th>at</th>\n",
       "      <th>anonymous_id</th>\n",
       "      <th>account_id</th>\n",
       "      <th>ngay_ct</th>\n",
       "      <th>gio_gh</th>\n",
       "      <th>stt_rec</th>\n",
       "      <th>dich_vu</th>\n",
       "      <th>dvt</th>\n",
       "      <th>nguon_dh</th>\n",
       "      <th>ma_vt</th>\n",
       "      <th>...</th>\n",
       "      <th>tien_voucher</th>\n",
       "      <th>ck</th>\n",
       "      <th>pt_ck</th>\n",
       "      <th>pt_ck_dh</th>\n",
       "      <th>so_luong</th>\n",
       "      <th>phi_vc</th>\n",
       "      <th>gender</th>\n",
       "      <th>Province</th>\n",
       "      <th>card_tier_name</th>\n",
       "      <th>dob</th>\n",
       "    </tr>\n",
       "  </thead>\n",
       "  <tbody>\n",
       "    <tr>\n",
       "      <th>0</th>\n",
       "      <td>2022-01-02 10:39:35</td>\n",
       "      <td>239WPbjnG0gxcyr9V2j0DNUZV2j</td>\n",
       "      <td>710895</td>\n",
       "      <td>2022-01-02T00:00:00</td>\n",
       "      <td>10:39:35</td>\n",
       "      <td>K1000000004770873BL2</td>\n",
       "      <td></td>\n",
       "      <td>CHIEC</td>\n",
       "      <td></td>\n",
       "      <td>AJN00701WCO03DN01395</td>\n",
       "      <td>...</td>\n",
       "      <td>0.0</td>\n",
       "      <td>0.0</td>\n",
       "      <td>0.0</td>\n",
       "      <td>0.0</td>\n",
       "      <td>1.0</td>\n",
       "      <td>0.0</td>\n",
       "      <td>Nam</td>\n",
       "      <td>An Giang</td>\n",
       "      <td></td>\n",
       "      <td>1994-02-02T00:00:00</td>\n",
       "    </tr>\n",
       "    <tr>\n",
       "      <th>1</th>\n",
       "      <td>2022-01-02 21:38:48</td>\n",
       "      <td>239WPlhYytM5U8Go7hcs0YGxLUZ</td>\n",
       "      <td>711075</td>\n",
       "      <td>2022-01-02T00:00:00</td>\n",
       "      <td>21:38:48</td>\n",
       "      <td>K1000000004771485BL2</td>\n",
       "      <td></td>\n",
       "      <td>CHIEC</td>\n",
       "      <td></td>\n",
       "      <td>ASS177S1WMO02M177093</td>\n",
       "      <td>...</td>\n",
       "      <td>0.0</td>\n",
       "      <td>0.0</td>\n",
       "      <td>0.0</td>\n",
       "      <td>0.0</td>\n",
       "      <td>1.0</td>\n",
       "      <td>0.0</td>\n",
       "      <td>Nam</td>\n",
       "      <td>An Giang</td>\n",
       "      <td>MEMBER</td>\n",
       "      <td>2005-07-18T00:00:00</td>\n",
       "    </tr>\n",
       "    <tr>\n",
       "      <th>2</th>\n",
       "      <td>2022-01-02 21:38:48</td>\n",
       "      <td>239WPlhYytM5U8Go7hcs0YGxLUZ</td>\n",
       "      <td>711075</td>\n",
       "      <td>2022-01-02T00:00:00</td>\n",
       "      <td>21:38:48</td>\n",
       "      <td>K1000000004771485BL2</td>\n",
       "      <td></td>\n",
       "      <td>CHIEC</td>\n",
       "      <td></td>\n",
       "      <td>ASS258S1WCO10M258064</td>\n",
       "      <td>...</td>\n",
       "      <td>0.0</td>\n",
       "      <td>0.0</td>\n",
       "      <td>0.0</td>\n",
       "      <td>0.0</td>\n",
       "      <td>1.0</td>\n",
       "      <td>0.0</td>\n",
       "      <td>Nam</td>\n",
       "      <td>An Giang</td>\n",
       "      <td>MEMBER</td>\n",
       "      <td>2005-07-18T00:00:00</td>\n",
       "    </tr>\n",
       "    <tr>\n",
       "      <th>3</th>\n",
       "      <td>2022-01-02 21:38:48</td>\n",
       "      <td>239WPlhYytM5U8Go7hcs0YGxLUZ</td>\n",
       "      <td>711075</td>\n",
       "      <td>2022-01-02T00:00:00</td>\n",
       "      <td>21:38:48</td>\n",
       "      <td>K1000000004771485BL2</td>\n",
       "      <td></td>\n",
       "      <td>CHIEC</td>\n",
       "      <td></td>\n",
       "      <td>AJN00409WCO02DN01393</td>\n",
       "      <td>...</td>\n",
       "      <td>0.0</td>\n",
       "      <td>0.0</td>\n",
       "      <td>0.0</td>\n",
       "      <td>0.0</td>\n",
       "      <td>1.0</td>\n",
       "      <td>0.0</td>\n",
       "      <td>Nam</td>\n",
       "      <td>An Giang</td>\n",
       "      <td>MEMBER</td>\n",
       "      <td>2005-07-18T00:00:00</td>\n",
       "    </tr>\n",
       "    <tr>\n",
       "      <th>4</th>\n",
       "      <td>2022-01-02 21:38:48</td>\n",
       "      <td>239WPlhYytM5U8Go7hcs0YGxLUZ</td>\n",
       "      <td>711075</td>\n",
       "      <td>2022-01-02T00:00:00</td>\n",
       "      <td>21:38:48</td>\n",
       "      <td>K1000000004771485BL2</td>\n",
       "      <td></td>\n",
       "      <td>CHIEC</td>\n",
       "      <td></td>\n",
       "      <td>ATS009S1KCO03W006002</td>\n",
       "      <td>...</td>\n",
       "      <td>0.0</td>\n",
       "      <td>0.0</td>\n",
       "      <td>0.0</td>\n",
       "      <td>0.0</td>\n",
       "      <td>1.0</td>\n",
       "      <td>0.0</td>\n",
       "      <td>Nam</td>\n",
       "      <td>An Giang</td>\n",
       "      <td>MEMBER</td>\n",
       "      <td>2005-07-18T00:00:00</td>\n",
       "    </tr>\n",
       "    <tr>\n",
       "      <th>...</th>\n",
       "      <td>...</td>\n",
       "      <td>...</td>\n",
       "      <td>...</td>\n",
       "      <td>...</td>\n",
       "      <td>...</td>\n",
       "      <td>...</td>\n",
       "      <td>...</td>\n",
       "      <td>...</td>\n",
       "      <td>...</td>\n",
       "      <td>...</td>\n",
       "      <td>...</td>\n",
       "      <td>...</td>\n",
       "      <td>...</td>\n",
       "      <td>...</td>\n",
       "      <td>...</td>\n",
       "      <td>...</td>\n",
       "      <td>...</td>\n",
       "      <td>...</td>\n",
       "      <td>...</td>\n",
       "      <td>...</td>\n",
       "      <td>...</td>\n",
       "    </tr>\n",
       "    <tr>\n",
       "      <th>484</th>\n",
       "      <td>2022-01-01 16:51:58</td>\n",
       "      <td>236gt0kz5eQW2PMcJw2fEvqWQEC</td>\n",
       "      <td>710789</td>\n",
       "      <td>2022-01-01T00:00:00</td>\n",
       "      <td>16:51:58</td>\n",
       "      <td>K1000000004770137BL2</td>\n",
       "      <td></td>\n",
       "      <td>CHIEC</td>\n",
       "      <td></td>\n",
       "      <td>ABF06309KNY000000003</td>\n",
       "      <td>...</td>\n",
       "      <td>0.0</td>\n",
       "      <td>0.0</td>\n",
       "      <td>0.0</td>\n",
       "      <td>0.0</td>\n",
       "      <td>1.0</td>\n",
       "      <td>0.0</td>\n",
       "      <td>Nam</td>\n",
       "      <td>An Giang</td>\n",
       "      <td></td>\n",
       "      <td>2022-01-01T00:00:00</td>\n",
       "    </tr>\n",
       "    <tr>\n",
       "      <th>485</th>\n",
       "      <td>2022-01-01 16:51:58</td>\n",
       "      <td>236gt0kz5eQW2PMcJw2fEvqWQEC</td>\n",
       "      <td>710789</td>\n",
       "      <td>2022-01-01T00:00:00</td>\n",
       "      <td>16:51:58</td>\n",
       "      <td>K1000000004770137BL2</td>\n",
       "      <td></td>\n",
       "      <td>CHIEC</td>\n",
       "      <td></td>\n",
       "      <td>AJN00701WCO03DN01393</td>\n",
       "      <td>...</td>\n",
       "      <td>0.0</td>\n",
       "      <td>0.0</td>\n",
       "      <td>0.0</td>\n",
       "      <td>0.0</td>\n",
       "      <td>2.0</td>\n",
       "      <td>0.0</td>\n",
       "      <td>Nam</td>\n",
       "      <td>An Giang</td>\n",
       "      <td></td>\n",
       "      <td>2022-01-01T00:00:00</td>\n",
       "    </tr>\n",
       "    <tr>\n",
       "      <th>486</th>\n",
       "      <td>2022-01-01 17:06:58</td>\n",
       "      <td>236hCp63A0p9YYRejQ0fwAvSgdj</td>\n",
       "      <td>710801</td>\n",
       "      <td>2022-01-01T00:00:00</td>\n",
       "      <td>17:06:58</td>\n",
       "      <td>K1000000004770225BL2</td>\n",
       "      <td></td>\n",
       "      <td>CHIEC</td>\n",
       "      <td></td>\n",
       "      <td>ALS13509WMO02J135104</td>\n",
       "      <td>...</td>\n",
       "      <td>0.0</td>\n",
       "      <td>0.0</td>\n",
       "      <td>0.0</td>\n",
       "      <td>0.0</td>\n",
       "      <td>1.0</td>\n",
       "      <td>0.0</td>\n",
       "      <td>Nam</td>\n",
       "      <td>An Giang</td>\n",
       "      <td></td>\n",
       "      <td>1995-11-07T00:00:00</td>\n",
       "    </tr>\n",
       "    <tr>\n",
       "      <th>487</th>\n",
       "      <td>2022-01-01 20:27:00</td>\n",
       "      <td>236hCsOMYxL65Jva4PwaNndswjF</td>\n",
       "      <td>710854</td>\n",
       "      <td>2022-01-01T00:00:00</td>\n",
       "      <td>20:27:00</td>\n",
       "      <td>K1000000004770509BL2</td>\n",
       "      <td></td>\n",
       "      <td>CHIEC</td>\n",
       "      <td></td>\n",
       "      <td>ABX06409KNY000000005</td>\n",
       "      <td>...</td>\n",
       "      <td>0.0</td>\n",
       "      <td>0.0</td>\n",
       "      <td>0.0</td>\n",
       "      <td>0.0</td>\n",
       "      <td>1.0</td>\n",
       "      <td>0.0</td>\n",
       "      <td>Nam</td>\n",
       "      <td>An Giang</td>\n",
       "      <td></td>\n",
       "      <td>1993-10-17T00:00:00</td>\n",
       "    </tr>\n",
       "    <tr>\n",
       "      <th>488</th>\n",
       "      <td>2022-01-01 20:27:00</td>\n",
       "      <td>236hCsOMYxL65Jva4PwaNndswjF</td>\n",
       "      <td>710854</td>\n",
       "      <td>2022-01-01T00:00:00</td>\n",
       "      <td>20:27:00</td>\n",
       "      <td>K1000000004770509BL2</td>\n",
       "      <td></td>\n",
       "      <td>CHIEC</td>\n",
       "      <td></td>\n",
       "      <td>AM016-BX07COXXX.4</td>\n",
       "      <td>...</td>\n",
       "      <td>0.0</td>\n",
       "      <td>0.0</td>\n",
       "      <td>0.0</td>\n",
       "      <td>0.0</td>\n",
       "      <td>1.0</td>\n",
       "      <td>0.0</td>\n",
       "      <td>Nam</td>\n",
       "      <td>An Giang</td>\n",
       "      <td></td>\n",
       "      <td>1993-10-17T00:00:00</td>\n",
       "    </tr>\n",
       "  </tbody>\n",
       "</table>\n",
       "<p>489 rows × 30 columns</p>\n",
       "</div>"
      ],
      "text/plain": [
       "                     at                 anonymous_id account_id  \\\n",
       "0   2022-01-02 10:39:35  239WPbjnG0gxcyr9V2j0DNUZV2j     710895   \n",
       "1   2022-01-02 21:38:48  239WPlhYytM5U8Go7hcs0YGxLUZ     711075   \n",
       "2   2022-01-02 21:38:48  239WPlhYytM5U8Go7hcs0YGxLUZ     711075   \n",
       "3   2022-01-02 21:38:48  239WPlhYytM5U8Go7hcs0YGxLUZ     711075   \n",
       "4   2022-01-02 21:38:48  239WPlhYytM5U8Go7hcs0YGxLUZ     711075   \n",
       "..                  ...                          ...        ...   \n",
       "484 2022-01-01 16:51:58  236gt0kz5eQW2PMcJw2fEvqWQEC     710789   \n",
       "485 2022-01-01 16:51:58  236gt0kz5eQW2PMcJw2fEvqWQEC     710789   \n",
       "486 2022-01-01 17:06:58  236hCp63A0p9YYRejQ0fwAvSgdj     710801   \n",
       "487 2022-01-01 20:27:00  236hCsOMYxL65Jva4PwaNndswjF     710854   \n",
       "488 2022-01-01 20:27:00  236hCsOMYxL65Jva4PwaNndswjF     710854   \n",
       "\n",
       "                 ngay_ct    gio_gh               stt_rec dich_vu    dvt  \\\n",
       "0    2022-01-02T00:00:00  10:39:35  K1000000004770873BL2          CHIEC   \n",
       "1    2022-01-02T00:00:00  21:38:48  K1000000004771485BL2          CHIEC   \n",
       "2    2022-01-02T00:00:00  21:38:48  K1000000004771485BL2          CHIEC   \n",
       "3    2022-01-02T00:00:00  21:38:48  K1000000004771485BL2          CHIEC   \n",
       "4    2022-01-02T00:00:00  21:38:48  K1000000004771485BL2          CHIEC   \n",
       "..                   ...       ...                   ...     ...    ...   \n",
       "484  2022-01-01T00:00:00  16:51:58  K1000000004770137BL2          CHIEC   \n",
       "485  2022-01-01T00:00:00  16:51:58  K1000000004770137BL2          CHIEC   \n",
       "486  2022-01-01T00:00:00  17:06:58  K1000000004770225BL2          CHIEC   \n",
       "487  2022-01-01T00:00:00  20:27:00  K1000000004770509BL2          CHIEC   \n",
       "488  2022-01-01T00:00:00  20:27:00  K1000000004770509BL2          CHIEC   \n",
       "\n",
       "    nguon_dh                 ma_vt  ... tien_voucher   ck pt_ck pt_ck_dh  \\\n",
       "0             AJN00701WCO03DN01395  ...          0.0  0.0   0.0      0.0   \n",
       "1             ASS177S1WMO02M177093  ...          0.0  0.0   0.0      0.0   \n",
       "2             ASS258S1WCO10M258064  ...          0.0  0.0   0.0      0.0   \n",
       "3             AJN00409WCO02DN01393  ...          0.0  0.0   0.0      0.0   \n",
       "4             ATS009S1KCO03W006002  ...          0.0  0.0   0.0      0.0   \n",
       "..       ...                   ...  ...          ...  ...   ...      ...   \n",
       "484           ABF06309KNY000000003  ...          0.0  0.0   0.0      0.0   \n",
       "485           AJN00701WCO03DN01393  ...          0.0  0.0   0.0      0.0   \n",
       "486           ALS13509WMO02J135104  ...          0.0  0.0   0.0      0.0   \n",
       "487           ABX06409KNY000000005  ...          0.0  0.0   0.0      0.0   \n",
       "488              AM016-BX07COXXX.4  ...          0.0  0.0   0.0      0.0   \n",
       "\n",
       "    so_luong  phi_vc  gender  Province  card_tier_name                  dob  \n",
       "0        1.0     0.0     Nam  An Giang                  1994-02-02T00:00:00  \n",
       "1        1.0     0.0     Nam  An Giang          MEMBER  2005-07-18T00:00:00  \n",
       "2        1.0     0.0     Nam  An Giang          MEMBER  2005-07-18T00:00:00  \n",
       "3        1.0     0.0     Nam  An Giang          MEMBER  2005-07-18T00:00:00  \n",
       "4        1.0     0.0     Nam  An Giang          MEMBER  2005-07-18T00:00:00  \n",
       "..       ...     ...     ...       ...             ...                  ...  \n",
       "484      1.0     0.0     Nam  An Giang                  2022-01-01T00:00:00  \n",
       "485      2.0     0.0     Nam  An Giang                  2022-01-01T00:00:00  \n",
       "486      1.0     0.0     Nam  An Giang                  1995-11-07T00:00:00  \n",
       "487      1.0     0.0     Nam  An Giang                  1993-10-17T00:00:00  \n",
       "488      1.0     0.0     Nam  An Giang                  1993-10-17T00:00:00  \n",
       "\n",
       "[489 rows x 30 columns]"
      ]
     },
     "execution_count": 56,
     "metadata": {},
     "output_type": "execute_result"
    }
   ],
   "source": [
    "raw"
   ]
  },
  {
   "cell_type": "code",
   "execution_count": 57,
   "id": "c77acd2f",
   "metadata": {},
   "outputs": [
    {
     "name": "stderr",
     "output_type": "stream",
     "text": [
      "C:\\Users\\ADMIN\\AppData\\Local\\Temp/ipykernel_10088/1737037030.py:2: FutureWarning: Inferring datetime64[ns] from data containing strings is deprecated and will be removed in a future version. To retain the old behavior explicitly pass Series(data, dtype={value.dtype})\n",
      "  dataframe['age'] = dataframe['dob'].apply(convert_datetime).apply(calculate_age)\n"
     ]
    }
   ],
   "source": [
    "raw_new = erp_pipeline(raw)"
   ]
  },
  {
   "cell_type": "code",
   "execution_count": 19,
   "id": "016a9a37",
   "metadata": {},
   "outputs": [
    {
     "data": {
      "text/plain": [
       "26-30        102\n",
       "undefined     95\n",
       "31-35         85\n",
       "36-40         52\n",
       "20-25         49\n",
       "41-46         47\n",
       ">50           14\n",
       "<20            9\n",
       "46-50          9\n",
       "Name: interval_age, dtype: int64"
      ]
     },
     "execution_count": 19,
     "metadata": {},
     "output_type": "execute_result"
    }
   ],
   "source": [
    "raw_new['interval_age'].value_counts()"
   ]
  },
  {
   "cell_type": "markdown",
   "id": "8c382cea",
   "metadata": {},
   "source": [
    "# voucher\n"
   ]
  },
  {
   "cell_type": "code",
   "execution_count": 58,
   "id": "a748e57e",
   "metadata": {},
   "outputs": [],
   "source": [
    "voucher_fact = pd.DataFrame({'ma_voucher':list(raw_new['ma_voucher'].unique())})"
   ]
  },
  {
   "cell_type": "code",
   "execution_count": 59,
   "id": "701992aa",
   "metadata": {},
   "outputs": [],
   "source": [
    "voucher_fact['voucher_name'] = voucher_fact['ma_voucher'].apply(detail_voucher)"
   ]
  },
  {
   "cell_type": "code",
   "execution_count": 60,
   "id": "8f7223be",
   "metadata": {},
   "outputs": [],
   "source": [
    "voucher_fact.to_csv('voucher_fact.txt',mode = 'w', sep = ';', header = True, index = None,encoding = 'utf-8')"
   ]
  },
  {
   "cell_type": "code",
   "execution_count": 61,
   "id": "fb9de507",
   "metadata": {},
   "outputs": [],
   "source": [
    "raw_new.to_csv('Long_xuyen_raw.txt',mode = 'w', sep = '\\t', header = True, index = False,encoding = 'utf-8')"
   ]
  },
  {
   "cell_type": "markdown",
   "id": "95036e33",
   "metadata": {},
   "source": [
    "# test age"
   ]
  },
  {
   "cell_type": "code",
   "execution_count": 41,
   "id": "b1fac42f",
   "metadata": {},
   "outputs": [],
   "source": [
    "under20 = raw_new[raw_new['age']<20].copy()"
   ]
  },
  {
   "cell_type": "code",
   "execution_count": 55,
   "id": "1da4915a",
   "metadata": {},
   "outputs": [
    {
     "data": {
      "text/plain": [
       "age\n",
       "0.0     11\n",
       "16.0     2\n",
       "18.0     1\n",
       "19.0     1\n",
       "Name: account_id, dtype: int64"
      ]
     },
     "execution_count": 55,
     "metadata": {},
     "output_type": "execute_result"
    }
   ],
   "source": [
    "under20.groupby('age')['account_id'].nunique()"
   ]
  },
  {
   "cell_type": "code",
   "execution_count": 61,
   "id": "fb46cd0b",
   "metadata": {},
   "outputs": [
    {
     "data": {
      "text/plain": [
       "interval_age\n",
       "20-25         4\n",
       "26-30        19\n",
       "31-35         9\n",
       "36-40         8\n",
       "41-46         7\n",
       "<20           4\n",
       ">50           4\n",
       "undefined    29\n",
       "Name: account_id, dtype: int64"
      ]
     },
     "execution_count": 61,
     "metadata": {},
     "output_type": "execute_result"
    }
   ],
   "source": [
    "raw_new.groupby('interval_age')['account_id'].nunique()"
   ]
  },
  {
   "cell_type": "code",
   "execution_count": 66,
   "id": "88831349",
   "metadata": {},
   "outputs": [
    {
     "data": {
      "text/plain": [
       "card_tier_name\n",
       "MEMBER        3\n",
       "SILVER        1\n",
       "undefined    80\n",
       "Name: anonymous_id, dtype: int64"
      ]
     },
     "execution_count": 66,
     "metadata": {},
     "output_type": "execute_result"
    }
   ],
   "source": [
    "raw_new.groupby('card_tier_name')['anonymous_id'].nunique()"
   ]
  },
  {
   "cell_type": "code",
   "execution_count": 70,
   "id": "9855a65f",
   "metadata": {},
   "outputs": [
    {
     "data": {
      "text/plain": [
       "81"
      ]
     },
     "execution_count": 70,
     "metadata": {},
     "output_type": "execute_result"
    }
   ],
   "source": [
    "len(raw_new['anonymous_id'].unique())"
   ]
  },
  {
   "cell_type": "code",
   "execution_count": 71,
   "id": "081ac425",
   "metadata": {},
   "outputs": [],
   "source": [
    "test = raw_new[['anonymous_id','card_tier_name']].copy()"
   ]
  },
  {
   "cell_type": "code",
   "execution_count": 80,
   "id": "dfec6f1f",
   "metadata": {},
   "outputs": [],
   "source": [
    "test= test.groupby('anonymous_id').agg({'card_tier_name':['unique']}).reset_index()"
   ]
  },
  {
   "cell_type": "code",
   "execution_count": 82,
   "id": "f74a13bb",
   "metadata": {},
   "outputs": [],
   "source": [
    "test.columns = ['anonymous_id','card_tier_name']"
   ]
  },
  {
   "cell_type": "code",
   "execution_count": 84,
   "id": "d75724c8",
   "metadata": {},
   "outputs": [],
   "source": [
    "test['count'] = [len(i) for i in test['card_tier_name']]"
   ]
  },
  {
   "cell_type": "code",
   "execution_count": 90,
   "id": "ac9be2ac",
   "metadata": {},
   "outputs": [
    {
     "data": {
      "text/html": [
       "<div>\n",
       "<style scoped>\n",
       "    .dataframe tbody tr th:only-of-type {\n",
       "        vertical-align: middle;\n",
       "    }\n",
       "\n",
       "    .dataframe tbody tr th {\n",
       "        vertical-align: top;\n",
       "    }\n",
       "\n",
       "    .dataframe thead th {\n",
       "        text-align: right;\n",
       "    }\n",
       "</style>\n",
       "<table border=\"1\" class=\"dataframe\">\n",
       "  <thead>\n",
       "    <tr style=\"text-align: right;\">\n",
       "      <th></th>\n",
       "      <th>anonymous_id</th>\n",
       "      <th>card_tier_name</th>\n",
       "      <th>count</th>\n",
       "    </tr>\n",
       "  </thead>\n",
       "  <tbody>\n",
       "    <tr>\n",
       "      <th>63</th>\n",
       "      <td>713719</td>\n",
       "      <td>[undefined, MEMBER]</td>\n",
       "      <td>2</td>\n",
       "    </tr>\n",
       "    <tr>\n",
       "      <th>4</th>\n",
       "      <td>710854</td>\n",
       "      <td>[undefined, MEMBER]</td>\n",
       "      <td>2</td>\n",
       "    </tr>\n",
       "    <tr>\n",
       "      <th>55</th>\n",
       "      <td>713473</td>\n",
       "      <td>[undefined, MEMBER]</td>\n",
       "      <td>2</td>\n",
       "    </tr>\n",
       "    <tr>\n",
       "      <th>0</th>\n",
       "      <td>415708</td>\n",
       "      <td>[SILVER]</td>\n",
       "      <td>1</td>\n",
       "    </tr>\n",
       "    <tr>\n",
       "      <th>51</th>\n",
       "      <td>713371</td>\n",
       "      <td>[undefined]</td>\n",
       "      <td>1</td>\n",
       "    </tr>\n",
       "    <tr>\n",
       "      <th>...</th>\n",
       "      <td>...</td>\n",
       "      <td>...</td>\n",
       "      <td>...</td>\n",
       "    </tr>\n",
       "    <tr>\n",
       "      <th>26</th>\n",
       "      <td>713114</td>\n",
       "      <td>[undefined]</td>\n",
       "      <td>1</td>\n",
       "    </tr>\n",
       "    <tr>\n",
       "      <th>25</th>\n",
       "      <td>713111</td>\n",
       "      <td>[undefined]</td>\n",
       "      <td>1</td>\n",
       "    </tr>\n",
       "    <tr>\n",
       "      <th>24</th>\n",
       "      <td>713109</td>\n",
       "      <td>[undefined]</td>\n",
       "      <td>1</td>\n",
       "    </tr>\n",
       "    <tr>\n",
       "      <th>23</th>\n",
       "      <td>713107</td>\n",
       "      <td>[undefined]</td>\n",
       "      <td>1</td>\n",
       "    </tr>\n",
       "    <tr>\n",
       "      <th>80</th>\n",
       "      <td>714111</td>\n",
       "      <td>[undefined]</td>\n",
       "      <td>1</td>\n",
       "    </tr>\n",
       "  </tbody>\n",
       "</table>\n",
       "<p>81 rows × 3 columns</p>\n",
       "</div>"
      ],
      "text/plain": [
       "   anonymous_id       card_tier_name  count\n",
       "63       713719  [undefined, MEMBER]      2\n",
       "4        710854  [undefined, MEMBER]      2\n",
       "55       713473  [undefined, MEMBER]      2\n",
       "0        415708             [SILVER]      1\n",
       "51       713371          [undefined]      1\n",
       "..          ...                  ...    ...\n",
       "26       713114          [undefined]      1\n",
       "25       713111          [undefined]      1\n",
       "24       713109          [undefined]      1\n",
       "23       713107          [undefined]      1\n",
       "80       714111          [undefined]      1\n",
       "\n",
       "[81 rows x 3 columns]"
      ]
     },
     "execution_count": 90,
     "metadata": {},
     "output_type": "execute_result"
    }
   ],
   "source": [
    "test.sort_values('count',ascending = False)"
   ]
  },
  {
   "cell_type": "code",
   "execution_count": 88,
   "id": "00043c5f",
   "metadata": {},
   "outputs": [
    {
     "data": {
      "text/html": [
       "<div>\n",
       "<style scoped>\n",
       "    .dataframe tbody tr th:only-of-type {\n",
       "        vertical-align: middle;\n",
       "    }\n",
       "\n",
       "    .dataframe tbody tr th {\n",
       "        vertical-align: top;\n",
       "    }\n",
       "\n",
       "    .dataframe thead th {\n",
       "        text-align: right;\n",
       "    }\n",
       "</style>\n",
       "<table border=\"1\" class=\"dataframe\">\n",
       "  <thead>\n",
       "    <tr style=\"text-align: right;\">\n",
       "      <th></th>\n",
       "      <th>anonymous_id</th>\n",
       "      <th>card_tier_name</th>\n",
       "      <th>count</th>\n",
       "    </tr>\n",
       "  </thead>\n",
       "  <tbody>\n",
       "    <tr>\n",
       "      <th>0</th>\n",
       "      <td>415708</td>\n",
       "      <td>[SILVER]</td>\n",
       "      <td>1</td>\n",
       "    </tr>\n",
       "    <tr>\n",
       "      <th>1</th>\n",
       "      <td>653997</td>\n",
       "      <td>[undefined]</td>\n",
       "      <td>1</td>\n",
       "    </tr>\n",
       "    <tr>\n",
       "      <th>2</th>\n",
       "      <td>710789</td>\n",
       "      <td>[undefined]</td>\n",
       "      <td>1</td>\n",
       "    </tr>\n",
       "    <tr>\n",
       "      <th>3</th>\n",
       "      <td>710801</td>\n",
       "      <td>[undefined]</td>\n",
       "      <td>1</td>\n",
       "    </tr>\n",
       "    <tr>\n",
       "      <th>4</th>\n",
       "      <td>710854</td>\n",
       "      <td>[undefined, MEMBER]</td>\n",
       "      <td>2</td>\n",
       "    </tr>\n",
       "    <tr>\n",
       "      <th>...</th>\n",
       "      <td>...</td>\n",
       "      <td>...</td>\n",
       "      <td>...</td>\n",
       "    </tr>\n",
       "    <tr>\n",
       "      <th>76</th>\n",
       "      <td>713917</td>\n",
       "      <td>[undefined]</td>\n",
       "      <td>1</td>\n",
       "    </tr>\n",
       "    <tr>\n",
       "      <th>77</th>\n",
       "      <td>714076</td>\n",
       "      <td>[undefined]</td>\n",
       "      <td>1</td>\n",
       "    </tr>\n",
       "    <tr>\n",
       "      <th>78</th>\n",
       "      <td>714087</td>\n",
       "      <td>[undefined]</td>\n",
       "      <td>1</td>\n",
       "    </tr>\n",
       "    <tr>\n",
       "      <th>79</th>\n",
       "      <td>714094</td>\n",
       "      <td>[undefined]</td>\n",
       "      <td>1</td>\n",
       "    </tr>\n",
       "    <tr>\n",
       "      <th>80</th>\n",
       "      <td>714111</td>\n",
       "      <td>[undefined]</td>\n",
       "      <td>1</td>\n",
       "    </tr>\n",
       "  </tbody>\n",
       "</table>\n",
       "<p>81 rows × 3 columns</p>\n",
       "</div>"
      ],
      "text/plain": [
       "   anonymous_id       card_tier_name  count\n",
       "0        415708             [SILVER]      1\n",
       "1        653997          [undefined]      1\n",
       "2        710789          [undefined]      1\n",
       "3        710801          [undefined]      1\n",
       "4        710854  [undefined, MEMBER]      2\n",
       "..          ...                  ...    ...\n",
       "76       713917          [undefined]      1\n",
       "77       714076          [undefined]      1\n",
       "78       714087          [undefined]      1\n",
       "79       714094          [undefined]      1\n",
       "80       714111          [undefined]      1\n",
       "\n",
       "[81 rows x 3 columns]"
      ]
     },
     "execution_count": 88,
     "metadata": {},
     "output_type": "execute_result"
    }
   ],
   "source": [
    "test"
   ]
  },
  {
   "cell_type": "code",
   "execution_count": 91,
   "id": "32b7ef65",
   "metadata": {},
   "outputs": [],
   "source": [
    "import subprocess"
   ]
  },
  {
   "cell_type": "code",
   "execution_count": 95,
   "id": "15f04e4f",
   "metadata": {},
   "outputs": [],
   "source": [
    "test = subprocess.run(['python.exe',\"db-fwd.sh\"])"
   ]
  },
  {
   "cell_type": "code",
   "execution_count": 96,
   "id": "9dfa2598",
   "metadata": {},
   "outputs": [
    {
     "data": {
      "text/plain": [
       "CompletedProcess(args=['python.exe', 'db-fwd.sh'], returncode=1)"
      ]
     },
     "execution_count": 96,
     "metadata": {},
     "output_type": "execute_result"
    }
   ],
   "source": [
    "te"
   ]
  },
  {
   "cell_type": "code",
   "execution_count": 34,
   "id": "1d7b6940",
   "metadata": {},
   "outputs": [],
   "source": [
    " a= {\n",
    "  \"erp\": {\n",
    "    \"at\": \"2021-01-01 22:35:00\"\n",
    "  },\n",
    "  \"dim_segment\": {\n",
    "    \"at\": \"2022-01-18 04:13:18\",\n",
    "    \"segment_id\": \"23r57Q2ivubcXyiylyUYnCwegEp\"\n",
    "  },\n",
    "  \"fact_segment\": {\n",
    "    \"at\": \"2021-06-04 07:00:00\",\n",
    "    \"segment_id\": \"1tPwihd7vkzjf5sCyEIL6IFLBqn\",\n",
    "    \"user_id\": \"1udlaZSrUaUGjaLdO57ndaLzccy\"\n",
    "  },\n",
    "  \"user\": {\n",
    "    \"user_id\": \"1uceymgCXyQ0dH1zZgqljwPGXwO\"\n",
    "  },\n",
    "  \"product\": {\n",
    "    \"ma_vt\": \"11901320000.0\"\n",
    "  }\n",
    "}"
   ]
  },
  {
   "cell_type": "code",
   "execution_count": 35,
   "id": "128df4ab",
   "metadata": {},
   "outputs": [],
   "source": [
    " b= {\n",
    "  \"erp\": {\n",
    "    \"at\": \"2021-01-01 22:35:00\"\n",
    "  },\n",
    "  \"dim_segment\": {\n",
    "    \"at\": \"2022-01-18 04:13:18\",\n",
    "    \"segment_id\": \"23r57Q2ivubcXyiylyUYnCwegEp\"\n",
    "  },\n",
    "  \"fact_segment\": {\n",
    "    \"at\": \"2021-06-04 07:00:00\",\n",
    "    \"segment_id\": \"1tPwihd7vkzjf5sCyEIL6IFLBqn\",\n",
    "    \"user_id\": \"1udlaZSrUaUGjaLdO57ndaLzccy\"\n",
    "  },\n",
    "  \"user\": {\n",
    "    \"user_id\": \"1uceymgCXyQ0dH1zZgqljwPGXwO\"\n",
    "  },\n",
    "  \"product\": {\n",
    "    \"ma_vt\": \"11901320000.0\"\n",
    "  }\n",
    "}"
   ]
  },
  {
   "cell_type": "code",
   "execution_count": 32,
   "id": "5ce4e013",
   "metadata": {},
   "outputs": [],
   "source": [
    " c= {\n",
    "  \"erp\": {\n",
    "    \"at\": \"2021-01-01 22:35:00\"\n",
    "  },\n",
    "  \"dim_segment\": {\n",
    "    \"at\": \"2022-01-18 04:13:18\",\n",
    "    \"segment_id\": \"23r57Q2ivubcXyiylyUYnCwegEp\"\n",
    "  },\n",
    "  \"fact_segment\": {\n",
    "    \"at\": \"2021-06-04 07:00:00\",\n",
    "    \"segment_id\": \"1tPwihd7vkzjf5sCyEIL6IFLBqn\",\n",
    "    \"user_id\": \"1udlaZSrUaUGjaLdO57ndaLzccy\"\n",
    "  },\n",
    "  \"user\": {\n",
    "    \"user_id\": \"1uceymgCXyQ0dH1zZgqljwPGXw\"\n",
    "  },\n",
    "  \"product\": {\n",
    "    \"ma_vt\": \"11901320000.0\"\n",
    "  }\n",
    "}"
   ]
  },
  {
   "cell_type": "code",
   "execution_count": 36,
   "id": "abc8fa9f",
   "metadata": {},
   "outputs": [
    {
     "data": {
      "text/plain": [
       "True"
      ]
     },
     "execution_count": 36,
     "metadata": {},
     "output_type": "execute_result"
    }
   ],
   "source": [
    "a == b"
   ]
  },
  {
   "cell_type": "code",
   "execution_count": 33,
   "id": "d83684fc",
   "metadata": {},
   "outputs": [
    {
     "data": {
      "text/plain": [
       "False"
      ]
     },
     "execution_count": 33,
     "metadata": {},
     "output_type": "execute_result"
    }
   ],
   "source": [
    "a==c"
   ]
  },
  {
   "cell_type": "code",
   "execution_count": 37,
   "id": "e0ea2493",
   "metadata": {},
   "outputs": [],
   "source": [
    "from loguru import logger"
   ]
  },
  {
   "cell_type": "code",
   "execution_count": 38,
   "id": "675b165a",
   "metadata": {},
   "outputs": [],
   "source": [
    "logger()"
   ]
  },
  {
   "cell_type": "code",
   "execution_count": 41,
   "id": "5627b23f",
   "metadata": {},
   "outputs": [
    {
     "data": {
      "text/plain": [
       "[('channels_reachable.onsite.notification_token',),\n",
       " ('channels_reachable.onsite.status',),\n",
       " ('firstVisit',),\n",
       " ('lastVisit',),\n",
       " ('previousVisit',),\n",
       " ('systems.goals.1uh2kNXybUQtcErIjidZ01lauWL_0_0StartReached',),\n",
       " ('systems.goals.1uh2kNXybUQtcErIjidZ01lauWL_0_0TargetReached',),\n",
       " ('systems.goals.1vO758S2AIdi0kfqaGWawBBJmAc_0_0StartReached',),\n",
       " ('systems.goals.1vO758S2AIdi0kfqaGWawBBJmAc_0_0TargetReached',),\n",
       " ('systems.goals.1vO758S2AIdi0kfqaGWawBBJmAc_0_1StartReached',),\n",
       " ('systems.goals.1veUU3DoR0cS7AYEJkIAt1zuJ9n_0_0StartReached',),\n",
       " ('systems.goals.1veUU3DoR0cS7AYEJkIAt1zuJ9n_0_0TargetReached',),\n",
       " ('systems.goals.1veUU3DoR0cS7AYEJkIAt1zuJ9n_0_1StartReached',),\n",
       " ('systems.goals.1veUU3DoR0cS7AYEJkIAt1zuJ9n_0_1TargetReached',),\n",
       " ('systems.goals.1vyJXgpS0l5pBdAXqndPYgnkmYC_0_0StartReached',),\n",
       " ('systems.goals.1vyJXgpS0l5pBdAXqndPYgnkmYC_0_0TargetReached',),\n",
       " ('systems.goals.1vyJXgpS0l5pBdAXqndPYgnkmYC_0_1StartReached',),\n",
       " ('systems.goals.1vyJXgpS0l5pBdAXqndPYgnkmYC_0_1TargetReached',),\n",
       " ('systems.goals.1xRJDlwLzk5taUWKJvwWxhR23Wp_0_0StartReached',),\n",
       " ('systems.goals.1xRJDlwLzk5taUWKJvwWxhR23Wp_0_0TargetReached',),\n",
       " ('systems.lastUpdated',),\n",
       " ('systems.goals.1xwMpyUvPQenU1lxQ4Z2T4Z0fUy_0_0StartReached',),\n",
       " ('systems.goals.1xRKJajUdAWdHQ7Xbe2HJJdVHMi_0_0StartReached',),\n",
       " ('systems.goals.1xRKJajUdAWdHQ7Xbe2HJJdVHMi_0_0TargetReached',),\n",
       " ('systems.goals.1vcMb6dKKsZ9bqyjBq9aglMErTZ_0_0StartReached',),\n",
       " ('systems.goals.1vcMb6dKKsZ9bqyjBq9aglMErTZ_0_0TargetReached',),\n",
       " ('systems.goals.1vcMb6dKKsZ9bqyjBq9aglMErTZ_0_1StartReached',),\n",
       " ('systems.goals.1vcMb6dKKsZ9bqyjBq9aglMErTZ_0_1TargetReached',),\n",
       " ('systems.goals.1uh1VazOXaZH4vjDu51zZ7cX92d_0_0StartReached',),\n",
       " ('systems.goals.1y7WC39oFhdpg3MoF6LEbtb9sPn_0_0StartReached',),\n",
       " ('channels_reachable.email.address',),\n",
       " ('channels_reachable.email.status',),\n",
       " ('email',),\n",
       " ('first_name',),\n",
       " ('id',),\n",
       " ('touch_campaign',),\n",
       " ('touch_channel',),\n",
       " ('touch_event',),\n",
       " ('touch_source',),\n",
       " ('touch_type',),\n",
       " ('customerID',),\n",
       " ('full_name',),\n",
       " ('gender',),\n",
       " ('paymentMethod',),\n",
       " ('phone_number',),\n",
       " ('signupDate',),\n",
       " ('signupSource',),\n",
       " ('systems.goals.1uh1VazOXaZH4vjDu51zZ7cX92d_0_0TargetReached',),\n",
       " ('card_issued_date',),\n",
       " ('card_tier_name',),\n",
       " ('city1',),\n",
       " ('country',),\n",
       " ('customer_id',),\n",
       " ('dob',),\n",
       " ('identifier_id',),\n",
       " ('itg_erp_account_id',),\n",
       " ('loyalty_status',),\n",
       " ('preferred_language',),\n",
       " ('shippingAddress1',),\n",
       " ('shippingName1',),\n",
       " ('shippingNumber1',),\n",
       " ('status',),\n",
       " ('systems.goals.1vO758S2AIdi0kfqaGWawBBJmAc_0_1TargetReached',),\n",
       " ('acquisition_type',),\n",
       " ('caresoft_contact_id',),\n",
       " ('channels',),\n",
       " ('city',),\n",
       " ('most_purchased_store_code',),\n",
       " ('phone',),\n",
       " ('phone_no',),\n",
       " ('rfm_level',),\n",
       " ('rfm_level_30',),\n",
       " ('rfm_level_60',),\n",
       " ('rfm_level_90',),\n",
       " ('systems.goals.1ugp1DmyiFldR8VubjZGVvZNWKh_0_0StartReached',),\n",
       " ('systems.goals.1vhHCJaQ6oxDEiSiDrSzjsjApu5_0_0StartReached',),\n",
       " ('systems.goals.1vhHCJaQ6oxDEiSiDrSzjsjApu5_0_0TargetReached',),\n",
       " ('systems.goals.1vyOLmZFBwnReXPbGHpvF79AEtN_0_0StartReached',),\n",
       " ('timezone',),\n",
       " ('district1',),\n",
       " ('loginDate',),\n",
       " ('date_of_birth',),\n",
       " ('ma_dvcs',),\n",
       " ('member_id',),\n",
       " ('unit_id',),\n",
       " ('facebook',),\n",
       " ('ma_dvcs2',),\n",
       " ('systems.goals.1vyvhQDQCb3DLJHrGAN461VPal1_0_0StartReached',),\n",
       " ('systems.goals.1vzLBr6aU6dNq380nFWkGFrCDZU_0_0StartReached',),\n",
       " ('systems.goals.1ugp1DmyiFldR8VubjZGVvZNWKh_0_0TargetReached',),\n",
       " ('custom_label_10',),\n",
       " ('custom_label_6',),\n",
       " ('custom_label_7',),\n",
       " ('custom_label_9',),\n",
       " ('nh_dvcs1',),\n",
       " ('nh_dvcs2',),\n",
       " ('ten_dvcs',),\n",
       " ('systems.goals.1yDEXkgqnA30Hj41Y6hh7uidsbI_0_0StartReached',),\n",
       " ('systems.goals.1yDEXkgqnA30Hj41Y6hh7uidsbI_0_0TargetReached',),\n",
       " ('systems.goals.1yFM4384ayyWRpVVhVboHegNOZy_0_0StartReached',),\n",
       " ('systems.goals.1yFM4384ayyWRpVVhVboHegNOZy_0_0TargetReached',),\n",
       " ('systems.goals.1xRIrjiz9l80HVVmlik3AQBfPWb_0_0StartReached',),\n",
       " ('store',),\n",
       " ('last_name',),\n",
       " ('custom_label_8',),\n",
       " ('nh_dvcs3',),\n",
       " ('systems.goals.1vyOLmZFBwnReXPbGHpvF79AEtN_0_0TargetReached',),\n",
       " ('systems.goals.21fV6GPYWX36HGZIHnKy3nY4Ti0_0_0StartReached',),\n",
       " ('systems.goals.21fV6GPYWX36HGZIHnKy3nY4Ti0_0_0TargetReached',),\n",
       " ('systems.goals.21fVHseuxrprI7kheWdnyLFtIOI_0_0StartReached',),\n",
       " ('systems.goals.21fVHseuxrprI7kheWdnyLFtIOI_0_0TargetReached',),\n",
       " ('systems.goals.21fXrOwoEo7o9HCeuBYRpu8FT3O_0_0StartReached',),\n",
       " ('systems.goals.21fXrOwoEo7o9HCeuBYRpu8FT3O_0_0TargetReached',),\n",
       " ('systems.goals.21fb1eizVWkkKz7XVmpyrmgR6jS_0_0StartReached',),\n",
       " ('systems.goals.21fb1eizVWkkKz7XVmpyrmgR6jS_0_0TargetReached',),\n",
       " ('systems.goals.1ztxSuD1Au8LOxB4omUt9oHQWCt_0_0StartReached',),\n",
       " ('systems.goals.1ztxSuD1Au8LOxB4omUt9oHQWCt_0_0TargetReached',),\n",
       " ('systems.goals.1zLuePGDOeZTqUcDe3Q5R2CG3f3_0_0StartReached',),\n",
       " ('systems.goals.1zLuePGDOeZTqUcDe3Q5R2CG3f3_0_0TargetReached',),\n",
       " ('custom_label_1',),\n",
       " ('chuc_vu',),\n",
       " ('ma_nganhnghe',),\n",
       " ('custom_label_4',),\n",
       " ('systems.goals.1xRE4T0gPCxPhfbUFjN4cRLzu8b_0_0StartReached',),\n",
       " ('systems.goals.1xREEDvKjVD0hRiAGEoPvYRpwcW_0_0StartReached',),\n",
       " ('systems.goals.1vyvhQDQCb3DLJHrGAN461VPal1_0_0TargetReached',),\n",
       " ('systems.goals.1vzLBr6aU6dNq380nFWkGFrCDZU_0_0TargetReached',),\n",
       " ('systems.goals.1y7WC39oFhdpg3MoF6LEbtb9sPn_0_0TargetReached',),\n",
       " ('address',),\n",
       " ('fname',),\n",
       " ('systems.goals.1vyoTeiNhZy0LfH9a6lAF5Pgk3z_0_0StartReached',),\n",
       " ('systems.goals.1vySbA129i9CcLpfXyTEnMqM15U_0_0StartReached',),\n",
       " ('systems.goals.1xRIrjiz9l80HVVmlik3AQBfPWb_0_0TargetReached',),\n",
       " ('systems.goals.22g6f92G3zke3sU6FUmk9rBEKw0_0_0StartReached',)]"
      ]
     },
     "execution_count": 41,
     "metadata": {},
     "output_type": "execute_result"
    }
   ],
   "source": [
    "client.execute('select distinct str_key from profile_str_final_v')"
   ]
  },
  {
   "cell_type": "code",
   "execution_count": 67,
   "id": "50c20a3c",
   "metadata": {},
   "outputs": [],
   "source": [
    "def add_months(sourcedate, months):\n",
    "    \"\"\"\n",
    "\n",
    "    :param sourcedate:\n",
    "    :param months:\n",
    "    :return:\n",
    "    \"\"\"\n",
    "    if type(sourcedate) == datetime:\n",
    "        sourcedate = sourcedate\n",
    "    else:\n",
    "        sourcedate = datetime.strptime(sourcedate,\"%Y-%m-%d %H:%M:%S\")\n",
    "    month = sourcedate.month - 1 + months\n",
    "    year = sourcedate.year + month // 12\n",
    "    month = month % 12 + 1\n",
    "    day = min(sourcedate.day, calendar.monthrange(year,month)[1])\n",
    "    hour = sourcedate.hour\n",
    "    minute = sourcedate.minute\n",
    "    second = sourcedate.second\n",
    "    return datetime(year, month, day,hour,minute,second)"
   ]
  },
  {
   "cell_type": "code",
   "execution_count": 107,
   "id": "d039db92",
   "metadata": {},
   "outputs": [],
   "source": [
    "from datetime import datetime, timedelta\n",
    "import calendar"
   ]
  },
  {
   "cell_type": "code",
   "execution_count": 86,
   "id": "90031248",
   "metadata": {},
   "outputs": [],
   "source": [
    "import time"
   ]
  },
  {
   "cell_type": "code",
   "execution_count": 101,
   "id": "0f5ee314",
   "metadata": {},
   "outputs": [],
   "source": [
    "a =datetime.strptime(\"2021-01-01 00:00:00\",\"%Y-%m-%d %H:%M:%S\")"
   ]
  },
  {
   "cell_type": "code",
   "execution_count": 84,
   "id": "bf3bb98b",
   "metadata": {},
   "outputs": [
    {
     "data": {
      "text/plain": [
       "datetime.datetime(2021, 2, 1, 0, 0)"
      ]
     },
     "execution_count": 84,
     "metadata": {},
     "output_type": "execute_result"
    }
   ],
   "source": [
    "add_months(datetime.strptime(a,\"%Y-%m-%d %H:%M:%S\"),1)"
   ]
  },
  {
   "cell_type": "code",
   "execution_count": 108,
   "id": "23182d90",
   "metadata": {},
   "outputs": [
    {
     "ename": "AttributeError",
     "evalue": "type object 'datetime.datetime' has no attribute 'timedelta'",
     "output_type": "error",
     "traceback": [
      "\u001b[1;31m---------------------------------------------------------------------------\u001b[0m",
      "\u001b[1;31mAttributeError\u001b[0m                            Traceback (most recent call last)",
      "\u001b[1;32m~\\AppData\\Local\\Temp/ipykernel_10088/925476857.py\u001b[0m in \u001b[0;36m<module>\u001b[1;34m\u001b[0m\n\u001b[1;32m----> 1\u001b[1;33m \u001b[0ma\u001b[0m\u001b[1;33m+\u001b[0m \u001b[0mdatetime\u001b[0m\u001b[1;33m.\u001b[0m\u001b[0mtimedelta\u001b[0m\u001b[1;33m(\u001b[0m\u001b[0mmonths\u001b[0m\u001b[1;33m=\u001b[0m\u001b[1;36m1\u001b[0m\u001b[1;33m)\u001b[0m\u001b[1;33m\u001b[0m\u001b[1;33m\u001b[0m\u001b[0m\n\u001b[0m",
      "\u001b[1;31mAttributeError\u001b[0m: type object 'datetime.datetime' has no attribute 'timedelta'"
     ]
    }
   ],
   "source": [
    "a+ datetime.timedelta(days=30)"
   ]
  },
  {
   "cell_type": "code",
   "execution_count": null,
   "id": "237dcc80",
   "metadata": {},
   "outputs": [],
   "source": []
  }
 ],
 "metadata": {
  "kernelspec": {
   "display_name": "Python 3 (ipykernel)",
   "language": "python",
   "name": "python3"
  },
  "language_info": {
   "codemirror_mode": {
    "name": "ipython",
    "version": 3
   },
   "file_extension": ".py",
   "mimetype": "text/x-python",
   "name": "python",
   "nbconvert_exporter": "python",
   "pygments_lexer": "ipython3",
   "version": "3.9.0"
  },
  "toc": {
   "base_numbering": 1,
   "nav_menu": {},
   "number_sections": true,
   "sideBar": true,
   "skip_h1_title": false,
   "title_cell": "Table of Contents",
   "title_sidebar": "Contents",
   "toc_cell": false,
   "toc_position": {},
   "toc_section_display": true,
   "toc_window_display": false
  },
  "varInspector": {
   "cols": {
    "lenName": 16,
    "lenType": 16,
    "lenVar": 40
   },
   "kernels_config": {
    "python": {
     "delete_cmd_postfix": "",
     "delete_cmd_prefix": "del ",
     "library": "var_list.py",
     "varRefreshCmd": "print(var_dic_list())"
    },
    "r": {
     "delete_cmd_postfix": ") ",
     "delete_cmd_prefix": "rm(",
     "library": "var_list.r",
     "varRefreshCmd": "cat(var_dic_list()) "
    }
   },
   "types_to_exclude": [
    "module",
    "function",
    "builtin_function_or_method",
    "instance",
    "_Feature"
   ],
   "window_display": false
  }
 },
 "nbformat": 4,
 "nbformat_minor": 5
}
