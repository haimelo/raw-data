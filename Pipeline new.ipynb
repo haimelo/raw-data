{
 "cells": [
  {
   "cell_type": "code",
   "execution_count": 1,
   "id": "bfce022d",
   "metadata": {},
   "outputs": [],
   "source": [
    "import pandas as pd\n",
    "from clickhouse_driver import Client\n",
    "from datetime import datetime,date,timedelta\n",
    "import time\n",
    "import json"
   ]
  },
  {
   "cell_type": "markdown",
   "id": "9de3f460",
   "metadata": {},
   "source": [
    "# create datetime dimension"
   ]
  },
  {
   "cell_type": "code",
   "execution_count": 615,
   "id": "9f929f3f",
   "metadata": {},
   "outputs": [],
   "source": [
    "def create_date_dimension(start, end):\n",
    "    df = pd.DataFrame({\"date\": pd.date_range(start, end,freq='D')})\n",
    "    df[\"week_day\"] = df.date.dt.day_name()\n",
    "    df[\"day\"] = df.date.dt.day\n",
    "    df[\"month\"] = df.date.dt.month\n",
    "    df[\"year\"] = df.date.dt.year\n",
    "    df[\"week\"] = df.date.dt.weekofyear\n",
    "    df[\"quarter\"] = df.date.dt.quarter\n",
    "    df.insert(0, 'date_id', (df.year.astype(str) + df.month.astype(str).str.zfill(2) + df.day.astype(str).str.zfill(2)).astype(int))\n",
    "    return df"
   ]
  },
  {
   "cell_type": "code",
   "execution_count": 28,
   "id": "d59bb184",
   "metadata": {},
   "outputs": [],
   "source": [
    "start = date(2020,1,1)\n",
    "end = date(2023,2 ,1)"
   ]
  },
  {
   "cell_type": "code",
   "execution_count": 31,
   "id": "36218937",
   "metadata": {
    "scrolled": true
   },
   "outputs": [
    {
     "name": "stderr",
     "output_type": "stream",
     "text": [
      "C:\\Users\\ADMIN\\AppData\\Local\\Temp/ipykernel_24052/1492513383.py:7: FutureWarning: Series.dt.weekofyear and Series.dt.week have been deprecated.  Please use Series.dt.isocalendar().week instead.\n",
      "  df[\"week\"] = df.date.dt.weekofyear\n"
     ]
    },
    {
     "data": {
      "text/plain": [
       "Index(['date_id', 'date', 'week_day', 'day', 'month', 'year', 'week',\n",
       "       'quarter'],\n",
       "      dtype='object')"
      ]
     },
     "execution_count": 31,
     "metadata": {},
     "output_type": "execute_result"
    }
   ],
   "source": [
    "create_date_table(start, end).columns"
   ]
  },
  {
   "cell_type": "code",
   "execution_count": 32,
   "id": "253e3cb1",
   "metadata": {},
   "outputs": [
    {
     "name": "stderr",
     "output_type": "stream",
     "text": [
      "C:\\Users\\ADMIN\\AppData\\Local\\Temp/ipykernel_24052/1492513383.py:7: FutureWarning: Series.dt.weekofyear and Series.dt.week have been deprecated.  Please use Series.dt.isocalendar().week instead.\n",
      "  df[\"week\"] = df.date.dt.weekofyear\n"
     ]
    },
    {
     "data": {
      "text/html": [
       "<div>\n",
       "<style scoped>\n",
       "    .dataframe tbody tr th:only-of-type {\n",
       "        vertical-align: middle;\n",
       "    }\n",
       "\n",
       "    .dataframe tbody tr th {\n",
       "        vertical-align: top;\n",
       "    }\n",
       "\n",
       "    .dataframe thead th {\n",
       "        text-align: right;\n",
       "    }\n",
       "</style>\n",
       "<table border=\"1\" class=\"dataframe\">\n",
       "  <thead>\n",
       "    <tr style=\"text-align: right;\">\n",
       "      <th></th>\n",
       "      <th>date_id</th>\n",
       "      <th>date</th>\n",
       "      <th>week_day</th>\n",
       "      <th>day</th>\n",
       "      <th>month</th>\n",
       "      <th>year</th>\n",
       "      <th>week</th>\n",
       "      <th>quarter</th>\n",
       "    </tr>\n",
       "  </thead>\n",
       "  <tbody>\n",
       "    <tr>\n",
       "      <th>0</th>\n",
       "      <td>20200101</td>\n",
       "      <td>2020-01-01</td>\n",
       "      <td>Wednesday</td>\n",
       "      <td>1</td>\n",
       "      <td>1</td>\n",
       "      <td>2020</td>\n",
       "      <td>1</td>\n",
       "      <td>1</td>\n",
       "    </tr>\n",
       "    <tr>\n",
       "      <th>1</th>\n",
       "      <td>20200102</td>\n",
       "      <td>2020-01-02</td>\n",
       "      <td>Thursday</td>\n",
       "      <td>2</td>\n",
       "      <td>1</td>\n",
       "      <td>2020</td>\n",
       "      <td>1</td>\n",
       "      <td>1</td>\n",
       "    </tr>\n",
       "    <tr>\n",
       "      <th>2</th>\n",
       "      <td>20200103</td>\n",
       "      <td>2020-01-03</td>\n",
       "      <td>Friday</td>\n",
       "      <td>3</td>\n",
       "      <td>1</td>\n",
       "      <td>2020</td>\n",
       "      <td>1</td>\n",
       "      <td>1</td>\n",
       "    </tr>\n",
       "    <tr>\n",
       "      <th>3</th>\n",
       "      <td>20200104</td>\n",
       "      <td>2020-01-04</td>\n",
       "      <td>Saturday</td>\n",
       "      <td>4</td>\n",
       "      <td>1</td>\n",
       "      <td>2020</td>\n",
       "      <td>1</td>\n",
       "      <td>1</td>\n",
       "    </tr>\n",
       "    <tr>\n",
       "      <th>4</th>\n",
       "      <td>20200105</td>\n",
       "      <td>2020-01-05</td>\n",
       "      <td>Sunday</td>\n",
       "      <td>5</td>\n",
       "      <td>1</td>\n",
       "      <td>2020</td>\n",
       "      <td>1</td>\n",
       "      <td>1</td>\n",
       "    </tr>\n",
       "  </tbody>\n",
       "</table>\n",
       "</div>"
      ],
      "text/plain": [
       "    date_id       date   week_day  day  month  year  week  quarter\n",
       "0  20200101 2020-01-01  Wednesday    1      1  2020     1        1\n",
       "1  20200102 2020-01-02   Thursday    2      1  2020     1        1\n",
       "2  20200103 2020-01-03     Friday    3      1  2020     1        1\n",
       "3  20200104 2020-01-04   Saturday    4      1  2020     1        1\n",
       "4  20200105 2020-01-05     Sunday    5      1  2020     1        1"
      ]
     },
     "execution_count": 32,
     "metadata": {},
     "output_type": "execute_result"
    }
   ],
   "source": [
    "create_date_table(start, end).head(5)"
   ]
  },
  {
   "cell_type": "markdown",
   "id": "bf3a754d",
   "metadata": {},
   "source": [
    "create table in powerBi"
   ]
  },
  {
   "cell_type": "code",
   "execution_count": 33,
   "id": "451e76d0",
   "metadata": {},
   "outputs": [
    {
     "data": {
      "text/plain": [
       "{'name': 'date',\n",
       " 'columns': [{'name': 'date_id', 'dataType': 'Int64'},\n",
       "  {'name': 'date', 'dataType': 'DateTime'},\n",
       "  {'name': 'week_day', 'dataType': 'string'},\n",
       "  {'name': 'day', 'dataType': 'Int64'},\n",
       "  {'name': 'month', 'dataType': 'Int64'},\n",
       "  {'name': 'year', 'dataType': 'Int64'},\n",
       "  {'name': 'week', 'dataType': 'Int64'},\n",
       "  {'name': 'quarter', 'dataType': 'Int64'}]}"
      ]
     },
     "execution_count": 33,
     "metadata": {},
     "output_type": "execute_result"
    }
   ],
   "source": [
    "{'name': 'date', 'columns':\n",
    " [{ 'name': 'date_id', 'dataType': 'Int64'},\n",
    "  { 'name': 'date', 'dataType': 'DateTime'},\n",
    "  { 'name': 'week_day', 'dataType': 'string'},\n",
    "  { 'name': 'day', 'dataType': 'Int64'},\n",
    "  { 'name': 'month', 'dataType': 'Int64'},\n",
    "  { 'name': 'year', 'dataType': 'Int64'},\n",
    "  { 'name': 'week', 'dataType': 'Int64'},\n",
    "  { 'name': 'quarter', 'dataType': 'Int64'}\n",
    "]\n",
    "  }\n",
    "    \n",
    "      "
   ]
  },
  {
   "cell_type": "markdown",
   "id": "7f6c1e1e",
   "metadata": {},
   "source": [
    "# time "
   ]
  },
  {
   "cell_type": "code",
   "execution_count": 37,
   "id": "080824e5",
   "metadata": {},
   "outputs": [],
   "source": [
    "df = pd.DataFrame({\"time\":pd.date_range(\"00:00:00\", \"23:59:59\", freq=\"1S\").time})\n",
    "    "
   ]
  },
  {
   "cell_type": "code",
   "execution_count": 2,
   "id": "6ad4175c",
   "metadata": {},
   "outputs": [],
   "source": [
    "def get_hour(time):\n",
    "    hour = time.strftime('%H')\n",
    "    return hour"
   ]
  },
  {
   "cell_type": "code",
   "execution_count": 3,
   "id": "89c74837",
   "metadata": {},
   "outputs": [],
   "source": [
    "def get_second(time):\n",
    "    second = time.strftime('%S')\n",
    "    return second"
   ]
  },
  {
   "cell_type": "code",
   "execution_count": 4,
   "id": "1e098b3f",
   "metadata": {},
   "outputs": [],
   "source": [
    "def get_minute(time):\n",
    "    minute = time.strftime('%M')\n",
    "    return minute"
   ]
  },
  {
   "cell_type": "code",
   "execution_count": 48,
   "id": "e909222b",
   "metadata": {},
   "outputs": [],
   "source": [
    "df['hour'] = df['time'].apply(get_hour)"
   ]
  },
  {
   "cell_type": "code",
   "execution_count": 54,
   "id": "e2d08539",
   "metadata": {},
   "outputs": [],
   "source": [
    "df['minute'] = df['time'].apply(get_minute)"
   ]
  },
  {
   "cell_type": "code",
   "execution_count": 55,
   "id": "befe02a0",
   "metadata": {},
   "outputs": [],
   "source": [
    "df['second'] = df['time'].apply(get_second)"
   ]
  },
  {
   "cell_type": "code",
   "execution_count": 5,
   "id": "a09e9b5d",
   "metadata": {},
   "outputs": [],
   "source": [
    "def create_time_dimension():\n",
    "    df = pd.DataFrame({\"time\":pd.date_range(\"00:00:00\", \"23:59:59\", freq=\"1S\").time})\n",
    "    df['hour'] = df['time'].apply(get_hour)\n",
    "    df['minute'] = df['time'].apply(get_minute)\n",
    "    df['second'] = df['time'].apply(get_second)\n",
    "    return df"
   ]
  },
  {
   "cell_type": "code",
   "execution_count": 58,
   "id": "0e4dbb2a",
   "metadata": {},
   "outputs": [
    {
     "data": {
      "text/html": [
       "<div>\n",
       "<style scoped>\n",
       "    .dataframe tbody tr th:only-of-type {\n",
       "        vertical-align: middle;\n",
       "    }\n",
       "\n",
       "    .dataframe tbody tr th {\n",
       "        vertical-align: top;\n",
       "    }\n",
       "\n",
       "    .dataframe thead th {\n",
       "        text-align: right;\n",
       "    }\n",
       "</style>\n",
       "<table border=\"1\" class=\"dataframe\">\n",
       "  <thead>\n",
       "    <tr style=\"text-align: right;\">\n",
       "      <th></th>\n",
       "      <th>time</th>\n",
       "      <th>hour</th>\n",
       "      <th>minute</th>\n",
       "      <th>second</th>\n",
       "    </tr>\n",
       "  </thead>\n",
       "  <tbody>\n",
       "    <tr>\n",
       "      <th>0</th>\n",
       "      <td>00:00:00</td>\n",
       "      <td>00</td>\n",
       "      <td>00</td>\n",
       "      <td>00</td>\n",
       "    </tr>\n",
       "    <tr>\n",
       "      <th>1</th>\n",
       "      <td>00:00:01</td>\n",
       "      <td>00</td>\n",
       "      <td>00</td>\n",
       "      <td>01</td>\n",
       "    </tr>\n",
       "    <tr>\n",
       "      <th>2</th>\n",
       "      <td>00:00:02</td>\n",
       "      <td>00</td>\n",
       "      <td>00</td>\n",
       "      <td>02</td>\n",
       "    </tr>\n",
       "    <tr>\n",
       "      <th>3</th>\n",
       "      <td>00:00:03</td>\n",
       "      <td>00</td>\n",
       "      <td>00</td>\n",
       "      <td>03</td>\n",
       "    </tr>\n",
       "    <tr>\n",
       "      <th>4</th>\n",
       "      <td>00:00:04</td>\n",
       "      <td>00</td>\n",
       "      <td>00</td>\n",
       "      <td>04</td>\n",
       "    </tr>\n",
       "    <tr>\n",
       "      <th>...</th>\n",
       "      <td>...</td>\n",
       "      <td>...</td>\n",
       "      <td>...</td>\n",
       "      <td>...</td>\n",
       "    </tr>\n",
       "    <tr>\n",
       "      <th>86395</th>\n",
       "      <td>23:59:55</td>\n",
       "      <td>23</td>\n",
       "      <td>59</td>\n",
       "      <td>55</td>\n",
       "    </tr>\n",
       "    <tr>\n",
       "      <th>86396</th>\n",
       "      <td>23:59:56</td>\n",
       "      <td>23</td>\n",
       "      <td>59</td>\n",
       "      <td>56</td>\n",
       "    </tr>\n",
       "    <tr>\n",
       "      <th>86397</th>\n",
       "      <td>23:59:57</td>\n",
       "      <td>23</td>\n",
       "      <td>59</td>\n",
       "      <td>57</td>\n",
       "    </tr>\n",
       "    <tr>\n",
       "      <th>86398</th>\n",
       "      <td>23:59:58</td>\n",
       "      <td>23</td>\n",
       "      <td>59</td>\n",
       "      <td>58</td>\n",
       "    </tr>\n",
       "    <tr>\n",
       "      <th>86399</th>\n",
       "      <td>23:59:59</td>\n",
       "      <td>23</td>\n",
       "      <td>59</td>\n",
       "      <td>59</td>\n",
       "    </tr>\n",
       "  </tbody>\n",
       "</table>\n",
       "<p>86400 rows × 4 columns</p>\n",
       "</div>"
      ],
      "text/plain": [
       "           time hour minute second\n",
       "0      00:00:00   00     00     00\n",
       "1      00:00:01   00     00     01\n",
       "2      00:00:02   00     00     02\n",
       "3      00:00:03   00     00     03\n",
       "4      00:00:04   00     00     04\n",
       "...         ...  ...    ...    ...\n",
       "86395  23:59:55   23     59     55\n",
       "86396  23:59:56   23     59     56\n",
       "86397  23:59:57   23     59     57\n",
       "86398  23:59:58   23     59     58\n",
       "86399  23:59:59   23     59     59\n",
       "\n",
       "[86400 rows x 4 columns]"
      ]
     },
     "execution_count": 58,
     "metadata": {},
     "output_type": "execute_result"
    }
   ],
   "source": [
    "create_time_dimension()"
   ]
  },
  {
   "cell_type": "code",
   "execution_count": 59,
   "id": "8d467fa5",
   "metadata": {
    "scrolled": true
   },
   "outputs": [
    {
     "data": {
      "text/plain": [
       "{'name': 'date',\n",
       " 'columns': [{'name': 'time', 'dataType': 'time'},\n",
       "  {'name': 'hour', 'dataType': 'Int64'},\n",
       "  {'name': 'minutes', 'dataType': 'Int64'},\n",
       "  {'name': 'second', 'dataType': 'Int64'}]}"
      ]
     },
     "execution_count": 59,
     "metadata": {},
     "output_type": "execute_result"
    }
   ],
   "source": [
    "{'name': 'date', 'columns':\n",
    " [{ 'name': 'time', 'dataType': 'time'},\n",
    "  { 'name': 'hour', 'dataType': 'Int64'},\n",
    "  { 'name': 'minutes', 'dataType': 'Int64'},\n",
    "  { 'name': 'second', 'dataType': 'Int64'}\n",
    "]\n",
    "}\n",
    "    \n",
    "      "
   ]
  },
  {
   "cell_type": "markdown",
   "id": "4f79e7b4",
   "metadata": {},
   "source": [
    "# erp"
   ]
  },
  {
   "cell_type": "markdown",
   "id": "32462cb3",
   "metadata": {},
   "source": [
    "<h2> agg interval age, card_tier_name,gender,province"
   ]
  },
  {
   "cell_type": "code",
   "execution_count": 35,
   "id": "758553b1",
   "metadata": {},
   "outputs": [],
   "source": [
    "client = Client(host = 'localhost',\n",
    "                client_name = 'python-driver',\n",
    "                port = 19000,\n",
    "                user='primedata',\n",
    "                password='primedata',\n",
    "                secure=False,\n",
    "                verify=False,\n",
    "                database = 'eventify',\n",
    "               )"
   ]
  },
  {
   "cell_type": "code",
   "execution_count": 36,
   "id": "b15e0b13",
   "metadata": {},
   "outputs": [],
   "source": [
    "def query_erp(start_time,end_time):\n",
    "    query_transaction = f\"\"\" \n",
    "                select a.*,b.gender,c.Province,d.card_tier_name,e.dob from\n",
    "                (\n",
    "                select anonymous_id,at,\n",
    "                `str_properties.vals`[indexOf(`str_properties.keys`,'properties.ngay_ct')] as ngay_ct,\n",
    "                `str_properties.vals`[indexOf(`str_properties.keys`,'properties.gio_gh')] as gio_gh,\n",
    "                `num_properties.vals`[indexOf(`num_properties.keys`,'properties.gia_ban')] * `num_properties.vals`[indexOf(`num_properties.keys`,'properties.so_luong')] as order_value,\n",
    "                `num_properties.vals`[indexOf(`num_properties.keys`,'properties.t_tien_sau_ck')] as t_tien_sau_ck,\n",
    "                `num_properties.vals`[indexOf(`num_properties.keys`,'properties.so_luong')] as so_luong,\n",
    "                `str_properties.vals`[indexOf(`str_properties.keys`,'properties.stt_rec')] as stt_rec,\n",
    "                `str_properties.vals`[indexOf(`str_properties.keys`,'properties.dich_vu')] as dich_vu,\n",
    "                `str_properties.vals`[indexOf(`str_properties.keys`,'properties.dvt')] as dvt,\n",
    "                `str_properties.vals`[indexOf(`str_properties.keys`,'properties.nguon_dh')] as nguon_dh,\n",
    "                `str_properties.vals`[indexOf(`str_properties.keys`,'properties.status')] as status,\n",
    "                `str_properties.vals`[indexOf(`str_properties.keys`,'properties.ma_vt')] as ma_vt,\n",
    "                `str_properties.vals`[indexOf(`str_properties.keys`,'properties.ma_vt2')] as ma_vt2,\n",
    "                `str_properties.vals`[indexOf(`str_properties.keys`,'properties.ma_ct_km')] as ma_ct_km,\n",
    "                `str_properties.vals`[indexOf(`str_properties.keys`,'properties.ten_ct_km')] as ten_ct_km,\n",
    "                `str_properties.vals`[indexOf(`str_properties.keys`,'properties.nh_dvcs1')] as nh_dvcs1,\n",
    "                `str_properties.vals`[indexOf(`str_properties.keys`,'properties.nh_dvcs3')] as nh_dvcs3 \n",
    "                from events \n",
    "                where event_name = 'erp_item_order_completed' \n",
    "                and at >= toDateTime('{start_time}') AND at < toDateTime('{end_time}')\n",
    "                ) a\n",
    "                \n",
    "                left outer join \n",
    "                \n",
    "                (select anonymous_id, str_val as gender \n",
    "                from eventify_stag.profile_str_final_v \n",
    "                where str_key='gender') b\n",
    "                on a.anonymous_id = b.anonymous_id\n",
    "                \n",
    "                left outer join \n",
    "                \n",
    "                (select anonymous_id,str_val as Province\n",
    "                from eventify_stag.profile_str_final_v \n",
    "                where str_key='city') c\n",
    "                on a.anonymous_id = c.anonymous_id\n",
    "                \n",
    "                left outer join\n",
    "                (select anonymous_id,str_val as card_tier_name \n",
    "                from eventify_stag.profile_str_final_v \n",
    "                where str_key='card_tier_name') d\n",
    "                on a.anonymous_id = d.anonymous_id \n",
    "                \n",
    "                left outer join\n",
    "                (select anonymous_id,str_val as dob \n",
    "                from eventify_stag.profile_str_final_v \n",
    "                where str_key = 'dob') e \n",
    "                on a.anonymous_id = e.anonymous_id\n",
    "                \n",
    "            \"\"\"\n",
    "    iterator= client.execute_iter(query_transaction,{'max_block_size': 5000},with_column_types=True)\n",
    "    columns = next(iterator)\n",
    "    transaction_data=[]\n",
    "    for item in iterator:\n",
    "        transaction_data.append(item)\n",
    "    transaction_df=pd.DataFrame(transaction_data[1:],columns=[col[0][2:] for col in columns])\n",
    "    return transaction_df"
   ]
  },
  {
   "cell_type": "code",
   "execution_count": 37,
   "id": "2016418f",
   "metadata": {},
   "outputs": [],
   "source": [
    "def interval_age(age):\n",
    "    if age in range(0,20):\n",
    "        return '<20'\n",
    "    if age in range(20,26):\n",
    "        return '20-25'\n",
    "    if age in range(26,31):\n",
    "        return '26-30'\n",
    "    if age in range(31,36):\n",
    "        return '31-35'\n",
    "    if age in range(36,41):\n",
    "        return '36-40'\n",
    "    if age in range(41,46):\n",
    "        return '41-46'\n",
    "    if age in range(46,51):\n",
    "        return '46-50'\n",
    "    if age in range(51,100):\n",
    "        return \">50\"\n",
    "    return 'undefined'\n",
    "    "
   ]
  },
  {
   "cell_type": "code",
   "execution_count": 38,
   "id": "f7ed95ee",
   "metadata": {},
   "outputs": [],
   "source": [
    "def calculate_age(born):\n",
    "    if born !=\"\":\n",
    "        today = date.today()\n",
    "        return today.year - born.year - ((today.month, today.day) < (born.month, born.day))"
   ]
  },
  {
   "cell_type": "code",
   "execution_count": 39,
   "id": "5783b3ce",
   "metadata": {},
   "outputs": [],
   "source": [
    "def convert_datetime(datetime_ob):\n",
    "    if datetime_ob != \"\":\n",
    "        dt = datetime.strptime(datetime_ob,\"%Y-%m-%dT%H:%M:%S\")\n",
    "    else:\n",
    "        dt = \"\"\n",
    "    return dt"
   ]
  },
  {
   "cell_type": "code",
   "execution_count": 40,
   "id": "46e9ba10",
   "metadata": {},
   "outputs": [],
   "source": [
    "def agg_interval_age(dataframe):\n",
    "    dataframe['age']= dataframe['dob'].apply(convert_datetime).apply(calculate_age)\n",
    "    dataframe['interval_age'] = dataframe['age'].apply(interval_age)\n",
    "    return dataframe "
   ]
  },
  {
   "cell_type": "code",
   "execution_count": 41,
   "id": "7ccdb28f",
   "metadata": {},
   "outputs": [],
   "source": [
    "def erp_pipeline(start_time,end_time):\n",
    "    erp_query = query_erp(start_time,end_time)\n",
    "    erp_query = agg_interval_age(erp_query)\n",
    "    return erp_query\n",
    "    \n",
    "    "
   ]
  },
  {
   "cell_type": "code",
   "execution_count": 13,
   "id": "5c9c2c6e",
   "metadata": {},
   "outputs": [
    {
     "data": {
      "text/html": [
       "<div>\n",
       "<style scoped>\n",
       "    .dataframe tbody tr th:only-of-type {\n",
       "        vertical-align: middle;\n",
       "    }\n",
       "\n",
       "    .dataframe tbody tr th {\n",
       "        vertical-align: top;\n",
       "    }\n",
       "\n",
       "    .dataframe thead th {\n",
       "        text-align: right;\n",
       "    }\n",
       "</style>\n",
       "<table border=\"1\" class=\"dataframe\">\n",
       "  <thead>\n",
       "    <tr style=\"text-align: right;\">\n",
       "      <th></th>\n",
       "      <th>anonymous_id</th>\n",
       "      <th>at</th>\n",
       "      <th>ngay_ct</th>\n",
       "      <th>gio_gh</th>\n",
       "      <th>order_value</th>\n",
       "      <th>t_tien_sau_ck</th>\n",
       "      <th>so_luong</th>\n",
       "      <th>stt_rec</th>\n",
       "      <th>dich_vu</th>\n",
       "      <th>dvt</th>\n",
       "      <th>...</th>\n",
       "      <th>ma_ct_km</th>\n",
       "      <th>ten_ct_km</th>\n",
       "      <th>nh_dvcs1</th>\n",
       "      <th>nh_dvcs3</th>\n",
       "      <th>gender</th>\n",
       "      <th>Province</th>\n",
       "      <th>card_tier_name</th>\n",
       "      <th>dob</th>\n",
       "      <th>age</th>\n",
       "      <th>interval_age</th>\n",
       "    </tr>\n",
       "  </thead>\n",
       "  <tbody>\n",
       "    <tr>\n",
       "      <th>0</th>\n",
       "      <td>22vOFybZD9x7Lz9QnmaTYEAvuKA</td>\n",
       "      <td>2021-12-28 22:27:27</td>\n",
       "      <td>2021-12-28T00:00:00</td>\n",
       "      <td>22:27:27</td>\n",
       "      <td>750000.0</td>\n",
       "      <td>750000.0</td>\n",
       "      <td>1.0</td>\n",
       "      <td>K1000000004716350BL2</td>\n",
       "      <td></td>\n",
       "      <td>CHIEC</td>\n",
       "      <td>...</td>\n",
       "      <td></td>\n",
       "      <td></td>\n",
       "      <td>SRMB</td>\n",
       "      <td>DQMB</td>\n",
       "      <td>Nữ</td>\n",
       "      <td>Hà Nội</td>\n",
       "      <td></td>\n",
       "      <td>1988-05-26T00:00:00</td>\n",
       "      <td>33.0</td>\n",
       "      <td>31-35</td>\n",
       "    </tr>\n",
       "    <tr>\n",
       "      <th>1</th>\n",
       "      <td>22vOFybZD9x7Lz9QnmaTYEAvuKA</td>\n",
       "      <td>2021-12-28 22:27:27</td>\n",
       "      <td>2021-12-28T00:00:00</td>\n",
       "      <td>22:27:27</td>\n",
       "      <td>0.0</td>\n",
       "      <td>0.0</td>\n",
       "      <td>1.0</td>\n",
       "      <td>K1000000004716350BL2</td>\n",
       "      <td></td>\n",
       "      <td>CHIEC</td>\n",
       "      <td>...</td>\n",
       "      <td></td>\n",
       "      <td></td>\n",
       "      <td>SRMB</td>\n",
       "      <td>DQMB</td>\n",
       "      <td>Nữ</td>\n",
       "      <td>Hà Nội</td>\n",
       "      <td></td>\n",
       "      <td>1988-05-26T00:00:00</td>\n",
       "      <td>33.0</td>\n",
       "      <td>31-35</td>\n",
       "    </tr>\n",
       "    <tr>\n",
       "      <th>2</th>\n",
       "      <td>22vOFybZD9x7Lz9QnmaTYEAvuKA</td>\n",
       "      <td>2021-12-28 22:27:27</td>\n",
       "      <td>2021-12-28T00:00:00</td>\n",
       "      <td>22:27:27</td>\n",
       "      <td>0.0</td>\n",
       "      <td>0.0</td>\n",
       "      <td>1.0</td>\n",
       "      <td>K1000000004716350BL2</td>\n",
       "      <td></td>\n",
       "      <td>CAI</td>\n",
       "      <td>...</td>\n",
       "      <td></td>\n",
       "      <td></td>\n",
       "      <td>SRMB</td>\n",
       "      <td>DQMB</td>\n",
       "      <td>Nữ</td>\n",
       "      <td>Hà Nội</td>\n",
       "      <td></td>\n",
       "      <td>1988-05-26T00:00:00</td>\n",
       "      <td>33.0</td>\n",
       "      <td>31-35</td>\n",
       "    </tr>\n",
       "    <tr>\n",
       "      <th>3</th>\n",
       "      <td>1uchkxy2mSlSGWq2iSC4ry5KGmu</td>\n",
       "      <td>2021-12-30 12:18:38</td>\n",
       "      <td>2021-12-30T00:00:00</td>\n",
       "      <td>12:18:38</td>\n",
       "      <td>45000.0</td>\n",
       "      <td>45000.0</td>\n",
       "      <td>1.0</td>\n",
       "      <td>K1000000004764699BL2</td>\n",
       "      <td></td>\n",
       "      <td>DOI</td>\n",
       "      <td>...</td>\n",
       "      <td></td>\n",
       "      <td></td>\n",
       "      <td>SRMT</td>\n",
       "      <td>DQMT</td>\n",
       "      <td>Nữ</td>\n",
       "      <td>Đà Nẵng</td>\n",
       "      <td>MEMBER</td>\n",
       "      <td>1900-01-01T00:00:00</td>\n",
       "      <td>122.0</td>\n",
       "      <td>undefined</td>\n",
       "    </tr>\n",
       "    <tr>\n",
       "      <th>4</th>\n",
       "      <td>1uchkxy2mSlSGWq2iSC4ry5KGmu</td>\n",
       "      <td>2021-12-30 12:18:38</td>\n",
       "      <td>2021-12-30T00:00:00</td>\n",
       "      <td>12:18:38</td>\n",
       "      <td>1250000.0</td>\n",
       "      <td>1250000.0</td>\n",
       "      <td>1.0</td>\n",
       "      <td>K1000000004764699BL2</td>\n",
       "      <td></td>\n",
       "      <td>CHIEC</td>\n",
       "      <td>...</td>\n",
       "      <td></td>\n",
       "      <td></td>\n",
       "      <td>SRMT</td>\n",
       "      <td>DQMT</td>\n",
       "      <td>Nữ</td>\n",
       "      <td>Đà Nẵng</td>\n",
       "      <td>MEMBER</td>\n",
       "      <td>1900-01-01T00:00:00</td>\n",
       "      <td>122.0</td>\n",
       "      <td>undefined</td>\n",
       "    </tr>\n",
       "    <tr>\n",
       "      <th>...</th>\n",
       "      <td>...</td>\n",
       "      <td>...</td>\n",
       "      <td>...</td>\n",
       "      <td>...</td>\n",
       "      <td>...</td>\n",
       "      <td>...</td>\n",
       "      <td>...</td>\n",
       "      <td>...</td>\n",
       "      <td>...</td>\n",
       "      <td>...</td>\n",
       "      <td>...</td>\n",
       "      <td>...</td>\n",
       "      <td>...</td>\n",
       "      <td>...</td>\n",
       "      <td>...</td>\n",
       "      <td>...</td>\n",
       "      <td>...</td>\n",
       "      <td>...</td>\n",
       "      <td>...</td>\n",
       "      <td>...</td>\n",
       "      <td>...</td>\n",
       "    </tr>\n",
       "    <tr>\n",
       "      <th>4698</th>\n",
       "      <td>2313udii0sapuqUqD5VNuCQftSv</td>\n",
       "      <td>2021-12-30 21:25:31</td>\n",
       "      <td>2021-12-30T00:00:00</td>\n",
       "      <td>21:25:31</td>\n",
       "      <td>325000.0</td>\n",
       "      <td>325000.0</td>\n",
       "      <td>1.0</td>\n",
       "      <td>K1000000004766163BL2</td>\n",
       "      <td></td>\n",
       "      <td>CHIEC</td>\n",
       "      <td>...</td>\n",
       "      <td></td>\n",
       "      <td></td>\n",
       "      <td>SRMB</td>\n",
       "      <td>DQMB</td>\n",
       "      <td></td>\n",
       "      <td>Ninh Bình</td>\n",
       "      <td></td>\n",
       "      <td></td>\n",
       "      <td>NaN</td>\n",
       "      <td>undefined</td>\n",
       "    </tr>\n",
       "    <tr>\n",
       "      <th>4699</th>\n",
       "      <td>2313uggMKVuWuFFY2MET1VPhtx3</td>\n",
       "      <td>2021-12-30 19:04:47</td>\n",
       "      <td>2021-12-30T00:00:00</td>\n",
       "      <td>19:04:47</td>\n",
       "      <td>110000.0</td>\n",
       "      <td>110000.0</td>\n",
       "      <td>2.0</td>\n",
       "      <td>K1000000004766012BL2</td>\n",
       "      <td></td>\n",
       "      <td>DOI</td>\n",
       "      <td>...</td>\n",
       "      <td></td>\n",
       "      <td></td>\n",
       "      <td>SRMB</td>\n",
       "      <td>DQMB</td>\n",
       "      <td></td>\n",
       "      <td>Hà Nội</td>\n",
       "      <td></td>\n",
       "      <td></td>\n",
       "      <td>NaN</td>\n",
       "      <td>undefined</td>\n",
       "    </tr>\n",
       "    <tr>\n",
       "      <th>4700</th>\n",
       "      <td>2313uhpJoSkxGgqtNPvpUuas4r7</td>\n",
       "      <td>2021-12-30 19:04:47</td>\n",
       "      <td>2021-12-30T00:00:00</td>\n",
       "      <td>19:04:47</td>\n",
       "      <td>570000.0</td>\n",
       "      <td>570000.0</td>\n",
       "      <td>1.0</td>\n",
       "      <td>K1000000004766012BL2</td>\n",
       "      <td></td>\n",
       "      <td>CHIEC</td>\n",
       "      <td>...</td>\n",
       "      <td></td>\n",
       "      <td></td>\n",
       "      <td>SRMB</td>\n",
       "      <td>DQMB</td>\n",
       "      <td></td>\n",
       "      <td>Hà Nội</td>\n",
       "      <td></td>\n",
       "      <td></td>\n",
       "      <td>NaN</td>\n",
       "      <td>undefined</td>\n",
       "    </tr>\n",
       "    <tr>\n",
       "      <th>4701</th>\n",
       "      <td>2313ukYqw7ztIITZhoXfo4iibSS</td>\n",
       "      <td>2021-12-30 21:25:31</td>\n",
       "      <td>2021-12-30T00:00:00</td>\n",
       "      <td>21:25:31</td>\n",
       "      <td>795000.0</td>\n",
       "      <td>795000.0</td>\n",
       "      <td>1.0</td>\n",
       "      <td>K1000000004766163BL2</td>\n",
       "      <td></td>\n",
       "      <td>CHIEC</td>\n",
       "      <td>...</td>\n",
       "      <td></td>\n",
       "      <td></td>\n",
       "      <td>SRMB</td>\n",
       "      <td>DQMB</td>\n",
       "      <td></td>\n",
       "      <td>Ninh Bình</td>\n",
       "      <td></td>\n",
       "      <td></td>\n",
       "      <td>NaN</td>\n",
       "      <td>undefined</td>\n",
       "    </tr>\n",
       "    <tr>\n",
       "      <th>4702</th>\n",
       "      <td>2313wX5EKVomWhz6XPQeuqk5nWg</td>\n",
       "      <td>2021-12-30 15:36:28</td>\n",
       "      <td>2021-12-30T00:00:00</td>\n",
       "      <td>15:36:28</td>\n",
       "      <td>550000.0</td>\n",
       "      <td>550000.0</td>\n",
       "      <td>1.0</td>\n",
       "      <td>K1000000004765485BL2</td>\n",
       "      <td></td>\n",
       "      <td>CHIEC</td>\n",
       "      <td>...</td>\n",
       "      <td></td>\n",
       "      <td></td>\n",
       "      <td>SRMT</td>\n",
       "      <td>DQMT</td>\n",
       "      <td>Nữ</td>\n",
       "      <td>Gia Lai</td>\n",
       "      <td></td>\n",
       "      <td>1988-12-08T00:00:00</td>\n",
       "      <td>33.0</td>\n",
       "      <td>31-35</td>\n",
       "    </tr>\n",
       "  </tbody>\n",
       "</table>\n",
       "<p>4703 rows × 24 columns</p>\n",
       "</div>"
      ],
      "text/plain": [
       "                     anonymous_id                  at              ngay_ct  \\\n",
       "0     22vOFybZD9x7Lz9QnmaTYEAvuKA 2021-12-28 22:27:27  2021-12-28T00:00:00   \n",
       "1     22vOFybZD9x7Lz9QnmaTYEAvuKA 2021-12-28 22:27:27  2021-12-28T00:00:00   \n",
       "2     22vOFybZD9x7Lz9QnmaTYEAvuKA 2021-12-28 22:27:27  2021-12-28T00:00:00   \n",
       "3     1uchkxy2mSlSGWq2iSC4ry5KGmu 2021-12-30 12:18:38  2021-12-30T00:00:00   \n",
       "4     1uchkxy2mSlSGWq2iSC4ry5KGmu 2021-12-30 12:18:38  2021-12-30T00:00:00   \n",
       "...                           ...                 ...                  ...   \n",
       "4698  2313udii0sapuqUqD5VNuCQftSv 2021-12-30 21:25:31  2021-12-30T00:00:00   \n",
       "4699  2313uggMKVuWuFFY2MET1VPhtx3 2021-12-30 19:04:47  2021-12-30T00:00:00   \n",
       "4700  2313uhpJoSkxGgqtNPvpUuas4r7 2021-12-30 19:04:47  2021-12-30T00:00:00   \n",
       "4701  2313ukYqw7ztIITZhoXfo4iibSS 2021-12-30 21:25:31  2021-12-30T00:00:00   \n",
       "4702  2313wX5EKVomWhz6XPQeuqk5nWg 2021-12-30 15:36:28  2021-12-30T00:00:00   \n",
       "\n",
       "        gio_gh  order_value  t_tien_sau_ck  so_luong               stt_rec  \\\n",
       "0     22:27:27     750000.0       750000.0       1.0  K1000000004716350BL2   \n",
       "1     22:27:27          0.0            0.0       1.0  K1000000004716350BL2   \n",
       "2     22:27:27          0.0            0.0       1.0  K1000000004716350BL2   \n",
       "3     12:18:38      45000.0        45000.0       1.0  K1000000004764699BL2   \n",
       "4     12:18:38    1250000.0      1250000.0       1.0  K1000000004764699BL2   \n",
       "...        ...          ...            ...       ...                   ...   \n",
       "4698  21:25:31     325000.0       325000.0       1.0  K1000000004766163BL2   \n",
       "4699  19:04:47     110000.0       110000.0       2.0  K1000000004766012BL2   \n",
       "4700  19:04:47     570000.0       570000.0       1.0  K1000000004766012BL2   \n",
       "4701  21:25:31     795000.0       795000.0       1.0  K1000000004766163BL2   \n",
       "4702  15:36:28     550000.0       550000.0       1.0  K1000000004765485BL2   \n",
       "\n",
       "     dich_vu    dvt  ... ma_ct_km ten_ct_km nh_dvcs1 nh_dvcs3 gender  \\\n",
       "0             CHIEC  ...                        SRMB     DQMB     Nữ   \n",
       "1             CHIEC  ...                        SRMB     DQMB     Nữ   \n",
       "2               CAI  ...                        SRMB     DQMB     Nữ   \n",
       "3               DOI  ...                        SRMT     DQMT     Nữ   \n",
       "4             CHIEC  ...                        SRMT     DQMT     Nữ   \n",
       "...      ...    ...  ...      ...       ...      ...      ...    ...   \n",
       "4698          CHIEC  ...                        SRMB     DQMB          \n",
       "4699            DOI  ...                        SRMB     DQMB          \n",
       "4700          CHIEC  ...                        SRMB     DQMB          \n",
       "4701          CHIEC  ...                        SRMB     DQMB          \n",
       "4702          CHIEC  ...                        SRMT     DQMT     Nữ   \n",
       "\n",
       "       Province card_tier_name                  dob    age interval_age  \n",
       "0        Hà Nội                 1988-05-26T00:00:00   33.0        31-35  \n",
       "1        Hà Nội                 1988-05-26T00:00:00   33.0        31-35  \n",
       "2        Hà Nội                 1988-05-26T00:00:00   33.0        31-35  \n",
       "3       Đà Nẵng         MEMBER  1900-01-01T00:00:00  122.0    undefined  \n",
       "4       Đà Nẵng         MEMBER  1900-01-01T00:00:00  122.0    undefined  \n",
       "...         ...            ...                  ...    ...          ...  \n",
       "4698  Ninh Bình                                        NaN    undefined  \n",
       "4699     Hà Nội                                        NaN    undefined  \n",
       "4700     Hà Nội                                        NaN    undefined  \n",
       "4701  Ninh Bình                                        NaN    undefined  \n",
       "4702    Gia Lai                 1988-12-08T00:00:00   33.0        31-35  \n",
       "\n",
       "[4703 rows x 24 columns]"
      ]
     },
     "execution_count": 13,
     "metadata": {},
     "output_type": "execute_result"
    }
   ],
   "source": [
    "erp3"
   ]
  },
  {
   "cell_type": "code",
   "execution_count": 28,
   "id": "4a6ed5b9",
   "metadata": {},
   "outputs": [],
   "source": [
    "from datetime import date, timedelta, datetime\n",
    "\n",
    "def daterange(start_date, end_date):\n",
    "    for n in range(0,int((end_date - start_date).days),7):\n",
    "        yield start_date + timedelta(n)\n",
    "\n",
    "\n",
    "\n",
    "    "
   ]
  },
  {
   "cell_type": "code",
   "execution_count": 22,
   "id": "6fe641cd",
   "metadata": {
    "scrolled": true
   },
   "outputs": [
    {
     "name": "stdout",
     "output_type": "stream",
     "text": [
      "2020-01-01 00:00:00 2020-01-08 00:00:00 status: Done \n",
      " shape:  (10805, 22)\n",
      "2020-01-08 00:00:00 2020-01-15 00:00:00 status: Done \n",
      " shape:  (9318, 22)\n",
      "2020-01-15 00:00:00 2020-01-22 00:00:00 status: Done \n",
      " shape:  (28113, 22)\n",
      "2020-01-22 00:00:00 2020-01-29 00:00:00 status: Done \n",
      " shape:  (10843, 22)\n",
      "2020-01-29 00:00:00 2020-02-05 00:00:00 status: Done \n",
      " shape:  (4387, 22)\n",
      "2020-02-05 00:00:00 2020-02-12 00:00:00 status: Done \n",
      " shape:  (4188, 22)\n",
      "2020-02-12 00:00:00 2020-02-19 00:00:00 status: Done \n",
      " shape:  (5508, 22)\n",
      "2020-02-19 00:00:00 2020-02-26 00:00:00 status: Done \n",
      " shape:  (5687, 22)\n",
      "2020-02-26 00:00:00 2020-03-04 00:00:00 status: Done \n",
      " shape:  (8119, 22)\n",
      "2020-03-04 00:00:00 2020-03-11 00:00:00 status: Done \n",
      " shape:  (8618, 22)\n",
      "2020-03-11 00:00:00 2020-03-18 00:00:00 status: Done \n",
      " shape:  (9883, 22)\n",
      "2020-03-18 00:00:00 2020-03-25 00:00:00 status: Done \n",
      " shape:  (8089, 22)\n",
      "2020-03-25 00:00:00 2020-04-01 00:00:00 status: Done \n",
      " shape:  (6789, 22)\n",
      "2020-04-01 00:00:00 2020-04-08 00:00:00 status: Done \n",
      " shape:  (2590, 22)\n",
      "2020-04-08 00:00:00 2020-04-15 00:00:00 status: Done \n",
      " shape:  (4320, 22)\n",
      "2020-04-15 00:00:00 2020-04-22 00:00:00 status: Done \n",
      " shape:  (4377, 22)\n",
      "2020-04-22 00:00:00 2020-04-29 00:00:00 status: Done \n",
      " shape:  (8672, 22)\n",
      "2020-04-29 00:00:00 2020-05-06 00:00:00 status: Done \n",
      " shape:  (14179, 22)\n",
      "2020-05-06 00:00:00 2020-05-13 00:00:00 status: Done \n",
      " shape:  (13569, 22)\n",
      "2020-05-13 00:00:00 2020-05-20 00:00:00 status: Done \n",
      " shape:  (11365, 22)\n",
      "2020-05-20 00:00:00 2020-05-27 00:00:00 status: Done \n",
      " shape:  (10824, 22)\n",
      "2020-05-27 00:00:00 2020-06-03 00:00:00 status: Done \n",
      " shape:  (11523, 22)\n",
      "2020-06-03 00:00:00 2020-06-10 00:00:00 status: Done \n",
      " shape:  (12585, 22)\n",
      "2020-06-10 00:00:00 2020-06-17 00:00:00 status: Done \n",
      " shape:  (12516, 22)\n",
      "2020-06-17 00:00:00 2020-06-24 00:00:00 status: Done \n",
      " shape:  (12564, 22)\n",
      "2020-06-24 00:00:00 2020-07-01 00:00:00 status: Done \n",
      " shape:  (13858, 22)\n",
      "2020-07-01 00:00:00 2020-07-08 00:00:00 status: Done \n",
      " shape:  (12759, 22)\n",
      "2020-07-08 00:00:00 2020-07-15 00:00:00 status: Done \n",
      " shape:  (14705, 22)\n",
      "2020-07-15 00:00:00 2020-07-22 00:00:00 status: Done \n",
      " shape:  (12196, 22)\n",
      "2020-07-22 00:00:00 2020-07-29 00:00:00 status: Done \n",
      " shape:  (11207, 22)\n",
      "2020-07-29 00:00:00 2020-08-05 00:00:00 status: Done \n",
      " shape:  (10236, 22)\n",
      "2020-08-05 00:00:00 2020-08-12 00:00:00 status: Done \n",
      " shape:  (9052, 22)\n",
      "2020-08-12 00:00:00 2020-08-19 00:00:00 status: Done \n",
      " shape:  (9023, 22)\n",
      "2020-08-19 00:00:00 2020-08-26 00:00:00 status: Done \n",
      " shape:  (9988, 22)\n",
      "2020-08-26 00:00:00 2020-09-02 00:00:00 status: Done \n",
      " shape:  (11020, 22)\n",
      "2020-09-02 00:00:00 2020-09-09 00:00:00 status: Done \n",
      " shape:  (12514, 22)\n",
      "2020-09-09 00:00:00 2020-09-16 00:00:00 status: Done \n",
      " shape:  (10631, 22)\n",
      "2020-09-16 00:00:00 2020-09-23 00:00:00 status: Done \n",
      " shape:  (10272, 22)\n",
      "2020-09-23 00:00:00 2020-09-30 00:00:00 status: Done \n",
      " shape:  (12245, 22)\n",
      "2020-09-30 00:00:00 2020-10-07 00:00:00 status: Done \n",
      " shape:  (12099, 22)\n",
      "2020-10-07 00:00:00 2020-10-14 00:00:00 status: Done \n",
      " shape:  (14323, 22)\n",
      "2020-10-14 00:00:00 2020-10-21 00:00:00 status: Done \n",
      " shape:  (11896, 22)\n",
      "2020-10-21 00:00:00 2020-10-28 00:00:00 status: Done \n",
      " shape:  (12728, 22)\n",
      "2020-10-28 00:00:00 2020-11-04 00:00:00 status: Done \n",
      " shape:  (12395, 22)\n",
      "2020-11-04 00:00:00 2020-11-11 00:00:00 status: Done \n",
      " shape:  (11699, 22)\n",
      "2020-11-11 00:00:00 2020-11-18 00:00:00 status: Done \n",
      " shape:  (15839, 22)\n",
      "2020-11-18 00:00:00 2020-11-25 00:00:00 status: Done \n",
      " shape:  (20190, 22)\n",
      "2020-11-25 00:00:00 2020-12-02 00:00:00 status: Done \n",
      " shape:  (56422, 22)\n",
      "2020-12-02 00:00:00 2020-12-09 00:00:00 status: Done \n",
      " shape:  (9680, 22)\n",
      "2020-12-09 00:00:00 2020-12-16 00:00:00 status: Done \n",
      " shape:  (12927, 22)\n",
      "2020-12-16 00:00:00 2020-12-23 00:00:00 status: Done \n",
      " shape:  (15947, 22)\n",
      "2020-12-23 00:00:00 2020-12-30 00:00:00 status: Done \n",
      " shape:  (14726, 22)\n",
      "2020-12-30 00:00:00 2021-01-06 00:00:00 status: Done \n",
      " shape:  (11696, 22)\n"
     ]
    }
   ],
   "source": [
    "start_date= datetime(2020,1,1,0,0,0)\n",
    "end_date=datetime(2021,1,1,0,0,0)\n",
    "query_result=[]\n",
    "for single_date in daterange(start_date, end_date):\n",
    "    batch_start = single_date.strftime(\"%Y-%m-%d %H:%M:%S\")\n",
    "    batch_end = (single_date + timedelta(days=7)).strftime(\"%Y-%m-%d %H:%M:%S\")\n",
    "    transaction=query_erp(start_time = batch_start,end_time = batch_end)\n",
    "    query_result.append(transaction)\n",
    "    print(batch_start,batch_end,'status: Done \\n','shape: ',transaction.shape)\n",
    "    "
   ]
  },
  {
   "cell_type": "code",
   "execution_count": 531,
   "id": "2b3da51f",
   "metadata": {},
   "outputs": [
    {
     "data": {
      "text/plain": [
       "Timestamp('2021-01-05 22:25:06')"
      ]
     },
     "execution_count": 531,
     "metadata": {},
     "output_type": "execute_result"
    }
   ],
   "source": [
    "query_result[-1]['at'].max()"
   ]
  },
  {
   "cell_type": "code",
   "execution_count": 554,
   "id": "894d40f7",
   "metadata": {
    "scrolled": true
   },
   "outputs": [
    {
     "name": "stdout",
     "output_type": "stream",
     "text": [
      "2021-01-06 00:00:00 2021-01-13 00:00:00 status: Done \n",
      " shape:  (13531, 22)\n",
      "2021-01-13 00:00:00 2021-01-20 00:00:00 status: Done \n",
      " shape:  (11778, 22)\n",
      "2021-01-20 00:00:00 2021-01-27 00:00:00 status: Done \n",
      " shape:  (17203, 22)\n",
      "2021-01-27 00:00:00 2021-02-03 00:00:00 status: Done \n",
      " shape:  (20579, 22)\n",
      "2021-02-03 00:00:00 2021-02-10 00:00:00 status: Done \n",
      " shape:  (29781, 22)\n",
      "2021-02-10 00:00:00 2021-02-17 00:00:00 status: Done \n",
      " shape:  (5982, 22)\n",
      "2021-02-17 00:00:00 2021-02-24 00:00:00 status: Done \n",
      " shape:  (6073, 22)\n",
      "2021-02-24 00:00:00 2021-03-03 00:00:00 status: Done \n",
      " shape:  (6977, 22)\n",
      "2021-03-03 00:00:00 2021-03-10 00:00:00 status: Done \n",
      " shape:  (10275, 22)\n",
      "2021-03-10 00:00:00 2021-03-17 00:00:00 status: Done \n",
      " shape:  (15025, 22)\n",
      "2021-03-17 00:00:00 2021-03-24 00:00:00 status: Done \n",
      " shape:  (14074, 22)\n",
      "2021-03-24 00:00:00 2021-03-31 00:00:00 status: Done \n",
      " shape:  (15166, 22)\n",
      "2021-03-31 00:00:00 2021-04-07 00:00:00 status: Done \n",
      " shape:  (15827, 22)\n",
      "2021-04-07 00:00:00 2021-04-14 00:00:00 status: Done \n",
      " shape:  (15794, 22)\n",
      "2021-04-14 00:00:00 2021-04-21 00:00:00 status: Done \n",
      " shape:  (18178, 22)\n",
      "2021-04-21 00:00:00 2021-04-28 00:00:00 status: Done \n",
      " shape:  (19172, 22)\n",
      "2021-04-28 00:00:00 2021-05-05 00:00:00 status: Done \n",
      " shape:  (18549, 22)\n",
      "2021-05-05 00:00:00 2021-05-12 00:00:00 status: Done \n",
      " shape:  (9555, 22)\n",
      "2021-05-12 00:00:00 2021-05-19 00:00:00 status: Done \n",
      " shape:  (11825, 22)\n",
      "2021-05-19 00:00:00 2021-05-26 00:00:00 status: Done \n",
      " shape:  (12037, 22)\n",
      "2021-05-26 00:00:00 2021-06-02 00:00:00 status: Done \n",
      " shape:  (10851, 22)\n",
      "2021-06-02 00:00:00 2021-06-09 00:00:00 status: Done \n",
      " shape:  (13220, 22)\n",
      "2021-06-09 00:00:00 2021-06-16 00:00:00 status: Done \n",
      " shape:  (13743, 22)\n",
      "2021-06-16 00:00:00 2021-06-23 00:00:00 status: Done \n",
      " shape:  (19704, 22)\n",
      "2021-06-23 00:00:00 2021-06-30 00:00:00 status: Done \n",
      " shape:  (12357, 22)\n",
      "2021-06-30 00:00:00 2021-07-07 00:00:00 status: Done \n",
      " shape:  (12113, 22)\n",
      "2021-07-07 00:00:00 2021-07-14 00:00:00 status: Done \n",
      " shape:  (12316, 22)\n",
      "2021-07-14 00:00:00 2021-07-21 00:00:00 status: Done \n",
      " shape:  (10587, 22)\n",
      "2021-07-21 00:00:00 2021-07-28 00:00:00 status: Done \n",
      " shape:  (5888, 22)\n",
      "2021-07-28 00:00:00 2021-08-04 00:00:00 status: Done \n",
      " shape:  (5193, 22)\n",
      "2021-08-04 00:00:00 2021-08-11 00:00:00 status: Done \n",
      " shape:  (5935, 22)\n",
      "2021-08-11 00:00:00 2021-08-18 00:00:00 status: Done \n",
      " shape:  (5969, 22)\n",
      "2021-08-18 00:00:00 2021-08-25 00:00:00 status: Done \n",
      " shape:  (4949, 22)\n",
      "2021-08-25 00:00:00 2021-09-01 00:00:00 status: Done \n",
      " shape:  (4602, 22)\n",
      "2021-09-01 00:00:00 2021-09-08 00:00:00 status: Done \n",
      " shape:  (4599, 22)\n",
      "2021-09-08 00:00:00 2021-09-15 00:00:00 status: Done \n",
      " shape:  (9507, 22)\n",
      "2021-09-15 00:00:00 2021-09-22 00:00:00 status: Done \n",
      " shape:  (7270, 22)\n",
      "2021-09-22 00:00:00 2021-09-29 00:00:00 status: Done \n",
      " shape:  (10943, 22)\n",
      "2021-09-29 00:00:00 2021-10-06 00:00:00 status: Done \n",
      " shape:  (13372, 22)\n",
      "2021-10-06 00:00:00 2021-10-13 00:00:00 status: Done \n",
      " shape:  (18209, 22)\n",
      "2021-10-13 00:00:00 2021-10-20 00:00:00 status: Done \n",
      " shape:  (14690, 22)\n",
      "2021-10-20 00:00:00 2021-10-27 00:00:00 status: Done \n",
      " shape:  (15518, 22)\n",
      "2021-10-27 00:00:00 2021-11-03 00:00:00 status: Done \n",
      " shape:  (13065, 22)\n",
      "2021-11-03 00:00:00 2021-11-10 00:00:00 status: Done \n",
      " shape:  (12979, 22)\n",
      "2021-11-10 00:00:00 2021-11-17 00:00:00 status: Done \n",
      " shape:  (16712, 22)\n",
      "2021-11-17 00:00:00 2021-11-24 00:00:00 status: Done \n",
      " shape:  (20901, 22)\n",
      "2021-11-24 00:00:00 2021-12-01 00:00:00 status: Done \n",
      " shape:  (31455, 22)\n",
      "2021-12-01 00:00:00 2021-12-08 00:00:00 status: Done \n",
      " shape:  (8887, 22)\n",
      "2021-12-08 00:00:00 2021-12-15 00:00:00 status: Done \n",
      " shape:  (9547, 22)\n",
      "2021-12-15 00:00:00 2021-12-22 00:00:00 status: Done \n",
      " shape:  (9395, 22)\n",
      "2021-12-22 00:00:00 2021-12-29 00:00:00 status: Done \n",
      " shape:  (10459, 22)\n"
     ]
    }
   ],
   "source": [
    "start_date= datetime(2021,1,6,0,0,0)\n",
    "end_date=datetime(2021,12,29,0,0,0)\n",
    "query_result2=[]\n",
    "for single_date in daterange(start_date, end_date):\n",
    "    batch_start = single_date.strftime(\"%Y-%m-%d %H:%M:%S\")\n",
    "    batch_end = (single_date + timedelta(days=7)).strftime(\"%Y-%m-%d %H:%M:%S\")\n",
    "    transaction=query_erp(start_time = batch_start,end_time = batch_end)\n",
    "    query_result2.append(transaction)\n",
    "    print(batch_start,batch_end,'status: Done \\n','shape: ',transaction.shape)\n",
    "    "
   ]
  },
  {
   "cell_type": "code",
   "execution_count": 23,
   "id": "00529caa",
   "metadata": {},
   "outputs": [],
   "source": [
    "erp1 = pd.concat(query_result).reset_index(drop=True)"
   ]
  },
  {
   "cell_type": "code",
   "execution_count": 24,
   "id": "4d5fd4e4",
   "metadata": {},
   "outputs": [],
   "source": [
    "erp1 = agg_interval_age(erp1)"
   ]
  },
  {
   "cell_type": "code",
   "execution_count": 557,
   "id": "0c38ed5a",
   "metadata": {},
   "outputs": [
    {
     "data": {
      "text/plain": [
       "699426"
      ]
     },
     "execution_count": 557,
     "metadata": {},
     "output_type": "execute_result"
    }
   ],
   "source": [
    "len(erp1)"
   ]
  },
  {
   "cell_type": "code",
   "execution_count": 558,
   "id": "f939bdec",
   "metadata": {},
   "outputs": [],
   "source": [
    "erp2=pd.concat(query_result2).reset_index(drop=True)"
   ]
  },
  {
   "cell_type": "code",
   "execution_count": 559,
   "id": "60640180",
   "metadata": {},
   "outputs": [],
   "source": [
    "erp2 = agg_interval_age(erp2)"
   ]
  },
  {
   "cell_type": "code",
   "execution_count": 29,
   "id": "4361baae",
   "metadata": {},
   "outputs": [],
   "source": [
    "def merge_product_and_erp(erp_data):\n",
    "    product = pd.read_csv(r'C:\\Users\\ADMIN\\Desktop\\hello\\Sale dashboard\\product.txt',sep='\\t',encoding='utf-8')\n",
    "    erp_data=erp_data.merge(product[['ma_vt','nh_vt2','nh_vt5','nh_vt8','nh_vt10','nh_vt12','nh_vt13','nh_vt14']],on='ma_vt',how='left')\n",
    "    return erp_data"
   ]
  },
  {
   "cell_type": "code",
   "execution_count": 30,
   "id": "1396a2c7",
   "metadata": {},
   "outputs": [],
   "source": [
    "def erp_pipeline(start_time, end_time):\n",
    "    erp_query = query_erp(start_time, end_time)\n",
    "    erp_result = agg_interval_age(erp_query)\n",
    "    erp_result['Province'] = erp_result['Province'].apply(replace_EmptyNanNull)\n",
    "    erp_result['card_tier_name'] = erp_result['card_tier_name'].apply(replace_EmptyNanNull)\n",
    "    erp_result['interval_age']= erp_result['interval_age'].apply(replace_EmptyNanNull)\n",
    "    erp_result['gender']=erp_result['gender'].apply(replace_EmptyNanNull)\n",
    "    return erp_result"
   ]
  },
  {
   "cell_type": "code",
   "execution_count": 31,
   "id": "62caeb3d",
   "metadata": {},
   "outputs": [],
   "source": [
    "def replace_EmptyNanNull(x):\n",
    "    if x == None or x == '' or x==np.NaN:\n",
    "        return 'undefined'\n",
    "    else:\n",
    "        return x"
   ]
  },
  {
   "cell_type": "code",
   "execution_count": 560,
   "id": "f2db9468",
   "metadata": {
    "scrolled": true
   },
   "outputs": [
    {
     "name": "stderr",
     "output_type": "stream",
     "text": [
      "C:\\Users\\ADMIN\\AppData\\Local\\Temp/ipykernel_24052/4145699638.py:1: DtypeWarning: Columns (1,3,4,5,7,8,10,11,13,15,16,17,18,19,20,21,22,23,24,25,26,27,28,29,30,31,32,33,34,35,36,37,38,39,40,41,42,43,44,45,46,52,53,54) have mixed types.Specify dtype option on import or set low_memory=False.\n",
      "  erp1 = merge_product_and_erp(erp1)\n",
      "C:\\Users\\ADMIN\\AppData\\Local\\Temp/ipykernel_24052/4145699638.py:2: DtypeWarning: Columns (1,3,4,5,7,8,10,11,13,15,16,17,18,19,20,21,22,23,24,25,26,27,28,29,30,31,32,33,34,35,36,37,38,39,40,41,42,43,44,45,46,52,53,54) have mixed types.Specify dtype option on import or set low_memory=False.\n",
      "  erp2 = merge_product_and_erp(erp2)\n"
     ]
    }
   ],
   "source": [
    "erp1 = merge_product_and_erp(erp1)\n",
    "erp2 = merge_product_and_erp(erp2)"
   ]
  },
  {
   "cell_type": "code",
   "execution_count": 42,
   "id": "2bc78ca6",
   "metadata": {},
   "outputs": [],
   "source": [
    "erp3 = erp_pipeline(\"2021-12-28 22:27:27\",\"2022-01-02 12:00:00\")\n",
    "\n",
    "erp3 = merge_product_and_erp(erp3)"
   ]
  },
  {
   "cell_type": "code",
   "execution_count": 17,
   "id": "35749e2e",
   "metadata": {},
   "outputs": [],
   "source": [
    "erp3.to_csv('erp3.txt',mode = 'w', sep = ';', header = True, index = None,encoding = 'utf-8')"
   ]
  },
  {
   "cell_type": "code",
   "execution_count": 19,
   "id": "2c51607b",
   "metadata": {},
   "outputs": [
    {
     "data": {
      "text/html": [
       "<div>\n",
       "<style scoped>\n",
       "    .dataframe tbody tr th:only-of-type {\n",
       "        vertical-align: middle;\n",
       "    }\n",
       "\n",
       "    .dataframe tbody tr th {\n",
       "        vertical-align: top;\n",
       "    }\n",
       "\n",
       "    .dataframe thead th {\n",
       "        text-align: right;\n",
       "    }\n",
       "</style>\n",
       "<table border=\"1\" class=\"dataframe\">\n",
       "  <thead>\n",
       "    <tr style=\"text-align: right;\">\n",
       "      <th></th>\n",
       "      <th>anonymous_id</th>\n",
       "      <th>at</th>\n",
       "      <th>ngay_ct</th>\n",
       "      <th>gio_gh</th>\n",
       "      <th>order_value</th>\n",
       "      <th>t_tien_sau_ck</th>\n",
       "      <th>so_luong</th>\n",
       "      <th>stt_rec</th>\n",
       "      <th>dich_vu</th>\n",
       "      <th>dvt</th>\n",
       "      <th>...</th>\n",
       "      <th>dob</th>\n",
       "      <th>age</th>\n",
       "      <th>interval_age</th>\n",
       "      <th>nh_vt2</th>\n",
       "      <th>nh_vt5</th>\n",
       "      <th>nh_vt8</th>\n",
       "      <th>nh_vt10</th>\n",
       "      <th>nh_vt12</th>\n",
       "      <th>nh_vt13</th>\n",
       "      <th>nh_vt14</th>\n",
       "    </tr>\n",
       "  </thead>\n",
       "  <tbody>\n",
       "    <tr>\n",
       "      <th>0</th>\n",
       "      <td>23CLHKIOTeM4St7sbr0Tr9OtiNS</td>\n",
       "      <td>2022-01-03 12:24:35</td>\n",
       "      <td>2022-01-03T00:00:00</td>\n",
       "      <td>12:24:35</td>\n",
       "      <td>1250000.0</td>\n",
       "      <td>1250000.0</td>\n",
       "      <td>1.0</td>\n",
       "      <td>K1000000004772968BL2</td>\n",
       "      <td></td>\n",
       "      <td>CHIEC</td>\n",
       "      <td>...</td>\n",
       "      <td>1985-09-30T00:00:00</td>\n",
       "      <td>36.0</td>\n",
       "      <td>36-40</td>\n",
       "      <td>N02-ARISTINO</td>\n",
       "      <td>N05-2021</td>\n",
       "      <td>N08-JACKET</td>\n",
       "      <td>N10-E00200</td>\n",
       "      <td>N12-00</td>\n",
       "      <td>N13-03</td>\n",
       "      <td>N14-PE</td>\n",
       "    </tr>\n",
       "    <tr>\n",
       "      <th>7193</th>\n",
       "      <td>1uqV2PWD4GP9lou1ZSHO3D6PhQr</td>\n",
       "      <td>2022-01-03 15:46:58</td>\n",
       "      <td>2022-01-03T00:00:00</td>\n",
       "      <td>15:46:58</td>\n",
       "      <td>550000.0</td>\n",
       "      <td>522500.0</td>\n",
       "      <td>1.0</td>\n",
       "      <td>K1000000004773443BL2</td>\n",
       "      <td></td>\n",
       "      <td>CHIEC</td>\n",
       "      <td>...</td>\n",
       "      <td>1900-01-01T00:00:00</td>\n",
       "      <td>122.0</td>\n",
       "      <td>undefined</td>\n",
       "      <td>N02-ARISTINO</td>\n",
       "      <td>N05-2021</td>\n",
       "      <td>N08-QUANTHUDONG</td>\n",
       "      <td>N10-N00800</td>\n",
       "      <td>N12-00</td>\n",
       "      <td>N13-03</td>\n",
       "      <td>N14-CV</td>\n",
       "    </tr>\n",
       "    <tr>\n",
       "      <th>7199</th>\n",
       "      <td>1uqVP8zQeqinkT7IKoeZXQVymno</td>\n",
       "      <td>2022-01-03 21:49:33</td>\n",
       "      <td>2022-01-03T00:00:00</td>\n",
       "      <td>21:49:33</td>\n",
       "      <td>-850000.0</td>\n",
       "      <td>-807500.0</td>\n",
       "      <td>-1.0</td>\n",
       "      <td>K1000000004774133BL2</td>\n",
       "      <td></td>\n",
       "      <td>CHIEC</td>\n",
       "      <td>...</td>\n",
       "      <td>1976-11-09T00:00:00</td>\n",
       "      <td>45.0</td>\n",
       "      <td>41-46</td>\n",
       "      <td>N02-ARISTINO</td>\n",
       "      <td>N05-2020</td>\n",
       "      <td>N08-QUANAU</td>\n",
       "      <td>N10-E09507</td>\n",
       "      <td>N12-07</td>\n",
       "      <td>N13-06</td>\n",
       "      <td>N14-PE</td>\n",
       "    </tr>\n",
       "    <tr>\n",
       "      <th>7198</th>\n",
       "      <td>1uqVP8zQeqinkT7IKoeZXQVymno</td>\n",
       "      <td>2022-01-03 21:49:33</td>\n",
       "      <td>2022-01-03T00:00:00</td>\n",
       "      <td>21:49:33</td>\n",
       "      <td>55000.0</td>\n",
       "      <td>52250.0</td>\n",
       "      <td>1.0</td>\n",
       "      <td>K1000000004774133BL2</td>\n",
       "      <td></td>\n",
       "      <td>DOI</td>\n",
       "      <td>...</td>\n",
       "      <td>1976-11-09T00:00:00</td>\n",
       "      <td>45.0</td>\n",
       "      <td>41-46</td>\n",
       "      <td>N02-BIZMEN</td>\n",
       "      <td>N05-2019</td>\n",
       "      <td>N08-TATNAM</td>\n",
       "      <td>N10-G01803</td>\n",
       "      <td>N12-03</td>\n",
       "      <td>N13-34</td>\n",
       "      <td>N14-MC</td>\n",
       "    </tr>\n",
       "    <tr>\n",
       "      <th>7197</th>\n",
       "      <td>1uqVP8zQeqinkT7IKoeZXQVymno</td>\n",
       "      <td>2022-01-03 21:49:33</td>\n",
       "      <td>2022-01-03T00:00:00</td>\n",
       "      <td>21:49:33</td>\n",
       "      <td>750000.0</td>\n",
       "      <td>712500.0</td>\n",
       "      <td>1.0</td>\n",
       "      <td>K1000000004774133BL2</td>\n",
       "      <td></td>\n",
       "      <td>CHIEC</td>\n",
       "      <td>...</td>\n",
       "      <td>1976-11-09T00:00:00</td>\n",
       "      <td>45.0</td>\n",
       "      <td>41-46</td>\n",
       "      <td>N02-ARISTINO</td>\n",
       "      <td>N05-2020</td>\n",
       "      <td>N08-QUANAU</td>\n",
       "      <td>N10-G11800</td>\n",
       "      <td>N12-00</td>\n",
       "      <td>N13-07</td>\n",
       "      <td>N14-TR</td>\n",
       "    </tr>\n",
       "    <tr>\n",
       "      <th>...</th>\n",
       "      <td>...</td>\n",
       "      <td>...</td>\n",
       "      <td>...</td>\n",
       "      <td>...</td>\n",
       "      <td>...</td>\n",
       "      <td>...</td>\n",
       "      <td>...</td>\n",
       "      <td>...</td>\n",
       "      <td>...</td>\n",
       "      <td>...</td>\n",
       "      <td>...</td>\n",
       "      <td>...</td>\n",
       "      <td>...</td>\n",
       "      <td>...</td>\n",
       "      <td>...</td>\n",
       "      <td>...</td>\n",
       "      <td>...</td>\n",
       "      <td>...</td>\n",
       "      <td>...</td>\n",
       "      <td>...</td>\n",
       "      <td>...</td>\n",
       "    </tr>\n",
       "    <tr>\n",
       "      <th>2224</th>\n",
       "      <td>1uddthQm3Enoe9U6wqZJe65gecz</td>\n",
       "      <td>2021-12-29 20:04:12</td>\n",
       "      <td>2021-12-29T00:00:00</td>\n",
       "      <td>20:04:12</td>\n",
       "      <td>950000.0</td>\n",
       "      <td>902500.0</td>\n",
       "      <td>1.0</td>\n",
       "      <td>K1000000004740321BL2</td>\n",
       "      <td></td>\n",
       "      <td>CHIEC</td>\n",
       "      <td>...</td>\n",
       "      <td>1900-01-01T00:00:00</td>\n",
       "      <td>122.0</td>\n",
       "      <td>undefined</td>\n",
       "      <td>N02-ARISTINO</td>\n",
       "      <td>N05-2021</td>\n",
       "      <td>N08-QUANAU</td>\n",
       "      <td>N10-N02500</td>\n",
       "      <td>N12-00</td>\n",
       "      <td>N13-02</td>\n",
       "      <td>N14-TR</td>\n",
       "    </tr>\n",
       "    <tr>\n",
       "      <th>50</th>\n",
       "      <td>22vOFybZD9x7Lz9QnmaTYEAvuKA</td>\n",
       "      <td>2021-12-28 22:27:27</td>\n",
       "      <td>2021-12-28T00:00:00</td>\n",
       "      <td>22:27:27</td>\n",
       "      <td>750000.0</td>\n",
       "      <td>750000.0</td>\n",
       "      <td>1.0</td>\n",
       "      <td>K1000000004716350BL2</td>\n",
       "      <td></td>\n",
       "      <td>CHIEC</td>\n",
       "      <td>...</td>\n",
       "      <td>1988-05-26T00:00:00</td>\n",
       "      <td>33.0</td>\n",
       "      <td>31-35</td>\n",
       "      <td>N02-ARISTINO</td>\n",
       "      <td>N05-2021</td>\n",
       "      <td>N08-QUANAU</td>\n",
       "      <td>N10-B02507</td>\n",
       "      <td>N12-07</td>\n",
       "      <td>N13-02</td>\n",
       "      <td>N14-TR</td>\n",
       "    </tr>\n",
       "    <tr>\n",
       "      <th>51</th>\n",
       "      <td>22vOFybZD9x7Lz9QnmaTYEAvuKA</td>\n",
       "      <td>2021-12-28 22:27:27</td>\n",
       "      <td>2021-12-28T00:00:00</td>\n",
       "      <td>22:27:27</td>\n",
       "      <td>0.0</td>\n",
       "      <td>0.0</td>\n",
       "      <td>1.0</td>\n",
       "      <td>K1000000004716350BL2</td>\n",
       "      <td></td>\n",
       "      <td>CHIEC</td>\n",
       "      <td>...</td>\n",
       "      <td>1988-05-26T00:00:00</td>\n",
       "      <td>33.0</td>\n",
       "      <td>31-35</td>\n",
       "      <td>N02-NONE</td>\n",
       "      <td>N05-NONE</td>\n",
       "      <td>N08-NPL.NONE</td>\n",
       "      <td>N10-NONE</td>\n",
       "      <td>NaN</td>\n",
       "      <td>NaN</td>\n",
       "      <td>NaN</td>\n",
       "    </tr>\n",
       "    <tr>\n",
       "      <th>52</th>\n",
       "      <td>22vOFybZD9x7Lz9QnmaTYEAvuKA</td>\n",
       "      <td>2021-12-28 22:27:27</td>\n",
       "      <td>2021-12-28T00:00:00</td>\n",
       "      <td>22:27:27</td>\n",
       "      <td>0.0</td>\n",
       "      <td>0.0</td>\n",
       "      <td>1.0</td>\n",
       "      <td>K1000000004716350BL2</td>\n",
       "      <td></td>\n",
       "      <td>CAI</td>\n",
       "      <td>...</td>\n",
       "      <td>1988-05-26T00:00:00</td>\n",
       "      <td>33.0</td>\n",
       "      <td>31-35</td>\n",
       "      <td>N02-NONE</td>\n",
       "      <td>N05-NONE</td>\n",
       "      <td>N08-CCDC</td>\n",
       "      <td>N10-NONE</td>\n",
       "      <td>NaN</td>\n",
       "      <td>NaN</td>\n",
       "      <td>NaN</td>\n",
       "    </tr>\n",
       "    <tr>\n",
       "      <th>49</th>\n",
       "      <td>22vOFybZD9x7Lz9QnmaTYEAvuKA</td>\n",
       "      <td>2021-12-28 22:27:27</td>\n",
       "      <td>2021-12-28T00:00:00</td>\n",
       "      <td>22:27:27</td>\n",
       "      <td>750000.0</td>\n",
       "      <td>750000.0</td>\n",
       "      <td>1.0</td>\n",
       "      <td>K1000000004716350BL2</td>\n",
       "      <td></td>\n",
       "      <td>CHIEC</td>\n",
       "      <td>...</td>\n",
       "      <td>1988-05-26T00:00:00</td>\n",
       "      <td>33.0</td>\n",
       "      <td>31-35</td>\n",
       "      <td>N02-ARISTINO</td>\n",
       "      <td>N05-2021</td>\n",
       "      <td>N08-QUANAU</td>\n",
       "      <td>N10-N02507</td>\n",
       "      <td>N12-07</td>\n",
       "      <td>N13-02</td>\n",
       "      <td>N14-TR</td>\n",
       "    </tr>\n",
       "  </tbody>\n",
       "</table>\n",
       "<p>10746 rows × 31 columns</p>\n",
       "</div>"
      ],
      "text/plain": [
       "                     anonymous_id                  at              ngay_ct  \\\n",
       "0     23CLHKIOTeM4St7sbr0Tr9OtiNS 2022-01-03 12:24:35  2022-01-03T00:00:00   \n",
       "7193  1uqV2PWD4GP9lou1ZSHO3D6PhQr 2022-01-03 15:46:58  2022-01-03T00:00:00   \n",
       "7199  1uqVP8zQeqinkT7IKoeZXQVymno 2022-01-03 21:49:33  2022-01-03T00:00:00   \n",
       "7198  1uqVP8zQeqinkT7IKoeZXQVymno 2022-01-03 21:49:33  2022-01-03T00:00:00   \n",
       "7197  1uqVP8zQeqinkT7IKoeZXQVymno 2022-01-03 21:49:33  2022-01-03T00:00:00   \n",
       "...                           ...                 ...                  ...   \n",
       "2224  1uddthQm3Enoe9U6wqZJe65gecz 2021-12-29 20:04:12  2021-12-29T00:00:00   \n",
       "50    22vOFybZD9x7Lz9QnmaTYEAvuKA 2021-12-28 22:27:27  2021-12-28T00:00:00   \n",
       "51    22vOFybZD9x7Lz9QnmaTYEAvuKA 2021-12-28 22:27:27  2021-12-28T00:00:00   \n",
       "52    22vOFybZD9x7Lz9QnmaTYEAvuKA 2021-12-28 22:27:27  2021-12-28T00:00:00   \n",
       "49    22vOFybZD9x7Lz9QnmaTYEAvuKA 2021-12-28 22:27:27  2021-12-28T00:00:00   \n",
       "\n",
       "        gio_gh  order_value  t_tien_sau_ck  so_luong               stt_rec  \\\n",
       "0     12:24:35    1250000.0      1250000.0       1.0  K1000000004772968BL2   \n",
       "7193  15:46:58     550000.0       522500.0       1.0  K1000000004773443BL2   \n",
       "7199  21:49:33    -850000.0      -807500.0      -1.0  K1000000004774133BL2   \n",
       "7198  21:49:33      55000.0        52250.0       1.0  K1000000004774133BL2   \n",
       "7197  21:49:33     750000.0       712500.0       1.0  K1000000004774133BL2   \n",
       "...        ...          ...            ...       ...                   ...   \n",
       "2224  20:04:12     950000.0       902500.0       1.0  K1000000004740321BL2   \n",
       "50    22:27:27     750000.0       750000.0       1.0  K1000000004716350BL2   \n",
       "51    22:27:27          0.0            0.0       1.0  K1000000004716350BL2   \n",
       "52    22:27:27          0.0            0.0       1.0  K1000000004716350BL2   \n",
       "49    22:27:27     750000.0       750000.0       1.0  K1000000004716350BL2   \n",
       "\n",
       "     dich_vu    dvt  ...                  dob    age interval_age  \\\n",
       "0             CHIEC  ...  1985-09-30T00:00:00   36.0        36-40   \n",
       "7193          CHIEC  ...  1900-01-01T00:00:00  122.0    undefined   \n",
       "7199          CHIEC  ...  1976-11-09T00:00:00   45.0        41-46   \n",
       "7198            DOI  ...  1976-11-09T00:00:00   45.0        41-46   \n",
       "7197          CHIEC  ...  1976-11-09T00:00:00   45.0        41-46   \n",
       "...      ...    ...  ...                  ...    ...          ...   \n",
       "2224          CHIEC  ...  1900-01-01T00:00:00  122.0    undefined   \n",
       "50            CHIEC  ...  1988-05-26T00:00:00   33.0        31-35   \n",
       "51            CHIEC  ...  1988-05-26T00:00:00   33.0        31-35   \n",
       "52              CAI  ...  1988-05-26T00:00:00   33.0        31-35   \n",
       "49            CHIEC  ...  1988-05-26T00:00:00   33.0        31-35   \n",
       "\n",
       "            nh_vt2    nh_vt5           nh_vt8     nh_vt10 nh_vt12 nh_vt13  \\\n",
       "0     N02-ARISTINO  N05-2021       N08-JACKET  N10-E00200  N12-00  N13-03   \n",
       "7193  N02-ARISTINO  N05-2021  N08-QUANTHUDONG  N10-N00800  N12-00  N13-03   \n",
       "7199  N02-ARISTINO  N05-2020       N08-QUANAU  N10-E09507  N12-07  N13-06   \n",
       "7198    N02-BIZMEN  N05-2019       N08-TATNAM  N10-G01803  N12-03  N13-34   \n",
       "7197  N02-ARISTINO  N05-2020       N08-QUANAU  N10-G11800  N12-00  N13-07   \n",
       "...            ...       ...              ...         ...     ...     ...   \n",
       "2224  N02-ARISTINO  N05-2021       N08-QUANAU  N10-N02500  N12-00  N13-02   \n",
       "50    N02-ARISTINO  N05-2021       N08-QUANAU  N10-B02507  N12-07  N13-02   \n",
       "51        N02-NONE  N05-NONE     N08-NPL.NONE    N10-NONE     NaN     NaN   \n",
       "52        N02-NONE  N05-NONE         N08-CCDC    N10-NONE     NaN     NaN   \n",
       "49    N02-ARISTINO  N05-2021       N08-QUANAU  N10-N02507  N12-07  N13-02   \n",
       "\n",
       "     nh_vt14  \n",
       "0     N14-PE  \n",
       "7193  N14-CV  \n",
       "7199  N14-PE  \n",
       "7198  N14-MC  \n",
       "7197  N14-TR  \n",
       "...      ...  \n",
       "2224  N14-TR  \n",
       "50    N14-TR  \n",
       "51       NaN  \n",
       "52       NaN  \n",
       "49    N14-TR  \n",
       "\n",
       "[10746 rows x 31 columns]"
      ]
     },
     "execution_count": 19,
     "metadata": {},
     "output_type": "execute_result"
    }
   ],
   "source": [
    "erp3.sort_values('ngay_ct',ascending=False)"
   ]
  },
  {
   "cell_type": "code",
   "execution_count": 581,
   "id": "4a771203",
   "metadata": {},
   "outputs": [],
   "source": [
    "erp1['Province'].replace('','undefined',inplace=True)\n",
    "\n",
    "erp1['card_tier_name'].replace('','undefined',inplace=True)\n",
    "\n",
    "erp1['interval_age'].replace('','undefined',inplace=True)\n",
    "erp1['gender'].replace('','undefined',inplace=True)"
   ]
  },
  {
   "cell_type": "code",
   "execution_count": 580,
   "id": "a8cc5b68",
   "metadata": {},
   "outputs": [],
   "source": [
    "erp2['Province'].replace('','undefined',inplace=True)\n",
    "\n",
    "erp2['card_tier_name'].replace('','undefined',inplace=True)\n",
    "\n",
    "erp2['interval_age'].replace('','undefined',inplace=True)\n",
    "erp2['gender'].replace('','undefined',inplace=True)"
   ]
  },
  {
   "cell_type": "code",
   "execution_count": 575,
   "id": "016b9411",
   "metadata": {},
   "outputs": [
    {
     "data": {
      "text/html": [
       "<div>\n",
       "<style scoped>\n",
       "    .dataframe tbody tr th:only-of-type {\n",
       "        vertical-align: middle;\n",
       "    }\n",
       "\n",
       "    .dataframe tbody tr th {\n",
       "        vertical-align: top;\n",
       "    }\n",
       "\n",
       "    .dataframe thead th {\n",
       "        text-align: right;\n",
       "    }\n",
       "</style>\n",
       "<table border=\"1\" class=\"dataframe\">\n",
       "  <thead>\n",
       "    <tr style=\"text-align: right;\">\n",
       "      <th></th>\n",
       "      <th>anonymous_id</th>\n",
       "      <th>at</th>\n",
       "      <th>ngay_ct</th>\n",
       "      <th>gio_gh</th>\n",
       "      <th>order_value</th>\n",
       "      <th>t_tien_sau_ck</th>\n",
       "      <th>so_luong</th>\n",
       "      <th>stt_rec</th>\n",
       "      <th>dich_vu</th>\n",
       "      <th>dvt</th>\n",
       "      <th>...</th>\n",
       "      <th>dob</th>\n",
       "      <th>age</th>\n",
       "      <th>interval_age</th>\n",
       "      <th>nh_vt2</th>\n",
       "      <th>nh_vt5</th>\n",
       "      <th>nh_vt8</th>\n",
       "      <th>nh_vt10</th>\n",
       "      <th>nh_vt12</th>\n",
       "      <th>nh_vt13</th>\n",
       "      <th>nh_vt14</th>\n",
       "    </tr>\n",
       "  </thead>\n",
       "  <tbody>\n",
       "  </tbody>\n",
       "</table>\n",
       "<p>0 rows × 31 columns</p>\n",
       "</div>"
      ],
      "text/plain": [
       "Empty DataFrame\n",
       "Columns: [anonymous_id, at, ngay_ct, gio_gh, order_value, t_tien_sau_ck, so_luong, stt_rec, dich_vu, dvt, nguon_dh, status, ma_vt, ma_vt2, ma_ct_km, ten_ct_km, nh_dvcs1, nh_dvcs3, gender, Province, card_tier_name, dob, age, interval_age, nh_vt2, nh_vt5, nh_vt8, nh_vt10, nh_vt12, nh_vt13, nh_vt14]\n",
       "Index: []\n",
       "\n",
       "[0 rows x 31 columns]"
      ]
     },
     "execution_count": 575,
     "metadata": {},
     "output_type": "execute_result"
    }
   ],
   "source": [
    "erp2[erp2['interval_age']=='']"
   ]
  },
  {
   "cell_type": "code",
   "execution_count": 582,
   "id": "2c97af3d",
   "metadata": {},
   "outputs": [],
   "source": [
    "erp1.to_csv('erp1.txt',mode = 'w', sep = ';', header = True, index = None,encoding = 'utf-8')\n",
    "erp2.to_csv('erp2.txt',mode = 'w', sep = ';', header = True, index = None,encoding = 'utf-8')\n"
   ]
  },
  {
   "cell_type": "code",
   "execution_count": 25,
   "id": "65d6d318",
   "metadata": {},
   "outputs": [],
   "source": [
    "def transform_and_jsondump(data_push):\n",
    "    for i in data_push:\n",
    "        if data_push[i].dtypes == 'datetime64[ns]':\n",
    "            data_push[i] = data_push[i].astype(str)\n",
    "    data_push = data_push.to_dict('records')\n",
    "    data_push = json.dumps(data_push)\n",
    "    return data_push"
   ]
  },
  {
   "cell_type": "code",
   "execution_count": 337,
   "id": "1b12425a",
   "metadata": {},
   "outputs": [],
   "source": [
    "for i in erp:\n",
    "    if erp[i].dtypes == 'datetime64[ns]':\n",
    "        erp[i] = erp[i].astype(str)"
   ]
  },
  {
   "cell_type": "code",
   "execution_count": null,
   "id": "2354cfc1",
   "metadata": {},
   "outputs": [],
   "source": [
    "{'name': 'date', 'columns':\n",
    " [{ 'name': 'time', 'dataType': 'time'},\n",
    "  { 'name': 'hour', 'dataType': 'Int64'},\n",
    "  { 'name': 'minutes', 'dataType': 'Int64'},\n",
    "  { 'name': 'second', 'dataType': 'Int64'}\n",
    "]\n",
    "  }\n",
    "    \n",
    "      "
   ]
  },
  {
   "cell_type": "code",
   "execution_count": 420,
   "id": "d68f5bdc",
   "metadata": {},
   "outputs": [],
   "source": [
    "def show_table(dataframe):\n",
    "    erp_dtypes = dataframe.dtypes.to_frame(name ='dtypes').reset_index()\n",
    "    list_col = []\n",
    "    for i in range(len(erp_dtypes)):\n",
    "        if erp_dtypes.iloc[i]['dtypes'] == 'object':\n",
    "            list_col.append({'name':erp_dtypes.iloc[i]['index'],'dataType':'string'})\n",
    "        if erp_dtypes.iloc[i]['dtypes'] == 'float':\n",
    "            list_col.append({'name':erp_dtypes.iloc[i]['index'],'dataType':'decimal'})\n",
    "    return list_col\n",
    "      \n",
    "     \n",
    "    "
   ]
  },
  {
   "cell_type": "code",
   "execution_count": 421,
   "id": "d34dda89",
   "metadata": {},
   "outputs": [
    {
     "data": {
      "text/plain": [
       "[{'name': 'anonymous_id', 'dataType': 'string'},\n",
       " {'name': 'at', 'dataType': 'string'},\n",
       " {'name': 'order_value', 'dataType': 'decimal'},\n",
       " {'name': 't_tien_sau_ck', 'dataType': 'decimal'},\n",
       " {'name': 'so_luong', 'dataType': 'decimal'},\n",
       " {'name': 'stt_rec', 'dataType': 'string'},\n",
       " {'name': 'dich_vu', 'dataType': 'string'},\n",
       " {'name': 'dvt', 'dataType': 'string'},\n",
       " {'name': 'nguon_dh', 'dataType': 'string'},\n",
       " {'name': 'status', 'dataType': 'string'},\n",
       " {'name': 'ma_vt', 'dataType': 'string'},\n",
       " {'name': 'ma_vt2', 'dataType': 'string'},\n",
       " {'name': 'ma_ct_km', 'dataType': 'string'},\n",
       " {'name': 'ten_ct_km', 'dataType': 'string'},\n",
       " {'name': 'nh_dvcs1', 'dataType': 'string'},\n",
       " {'name': 'nh_dvcs3', 'dataType': 'string'},\n",
       " {'name': 'gender', 'dataType': 'string'},\n",
       " {'name': 'Province', 'dataType': 'string'},\n",
       " {'name': 'card_tier_name', 'dataType': 'string'},\n",
       " {'name': 'dob', 'dataType': 'string'},\n",
       " {'name': 'age', 'dataType': 'decimal'},\n",
       " {'name': 'interval_age', 'dataType': 'string'}]"
      ]
     },
     "execution_count": 421,
     "metadata": {},
     "output_type": "execute_result"
    }
   ],
   "source": [
    "list_col"
   ]
  },
  {
   "cell_type": "code",
   "execution_count": 428,
   "id": "6714ed2d",
   "metadata": {},
   "outputs": [],
   "source": [
    "create_table_erp={'name': 'erp', 'columns':list_col}\n"
   ]
  },
  {
   "cell_type": "code",
   "execution_count": 429,
   "id": "0279759e",
   "metadata": {},
   "outputs": [
    {
     "data": {
      "text/plain": [
       "{'name': 'erp',\n",
       " 'columns': [{'name': 'anonymous_id', 'dataType': 'string'},\n",
       "  {'name': 'at', 'dataType': 'string'},\n",
       "  {'name': 'order_value', 'dataType': 'decimal'},\n",
       "  {'name': 't_tien_sau_ck', 'dataType': 'decimal'},\n",
       "  {'name': 'so_luong', 'dataType': 'decimal'},\n",
       "  {'name': 'stt_rec', 'dataType': 'string'},\n",
       "  {'name': 'dich_vu', 'dataType': 'string'},\n",
       "  {'name': 'dvt', 'dataType': 'string'},\n",
       "  {'name': 'nguon_dh', 'dataType': 'string'},\n",
       "  {'name': 'status', 'dataType': 'string'},\n",
       "  {'name': 'ma_vt', 'dataType': 'string'},\n",
       "  {'name': 'ma_vt2', 'dataType': 'string'},\n",
       "  {'name': 'ma_ct_km', 'dataType': 'string'},\n",
       "  {'name': 'ten_ct_km', 'dataType': 'string'},\n",
       "  {'name': 'nh_dvcs1', 'dataType': 'string'},\n",
       "  {'name': 'nh_dvcs3', 'dataType': 'string'},\n",
       "  {'name': 'gender', 'dataType': 'string'},\n",
       "  {'name': 'Province', 'dataType': 'string'},\n",
       "  {'name': 'card_tier_name', 'dataType': 'string'},\n",
       "  {'name': 'dob', 'dataType': 'string'},\n",
       "  {'name': 'age', 'dataType': 'decimal'},\n",
       "  {'name': 'interval_age', 'dataType': 'string'}]}"
      ]
     },
     "execution_count": 429,
     "metadata": {},
     "output_type": "execute_result"
    }
   ],
   "source": [
    "create_table_erp"
   ]
  },
  {
   "cell_type": "markdown",
   "id": "cd19c818",
   "metadata": {},
   "source": [
    "<h2> transform table product"
   ]
  },
  {
   "cell_type": "markdown",
   "id": "a1903eb5",
   "metadata": {},
   "source": [
    "get product newAPi"
   ]
  },
  {
   "cell_type": "code",
   "execution_count": 109,
   "id": "ec4bd289",
   "metadata": {},
   "outputs": [],
   "source": [
    "import requests"
   ]
  },
  {
   "cell_type": "code",
   "execution_count": null,
   "id": "803f09e5",
   "metadata": {},
   "outputs": [],
   "source": []
  },
  {
   "cell_type": "code",
   "execution_count": 110,
   "id": "150c111c",
   "metadata": {},
   "outputs": [],
   "source": [
    "def daterange_api(start_date, end_date):\n",
    "    for n in range(0,int((end_date - start_date).days),180):\n",
    "        yield start_date + timedelta(n)"
   ]
  },
  {
   "cell_type": "code",
   "execution_count": 111,
   "id": "9f21a8e8",
   "metadata": {},
   "outputs": [],
   "source": [
    "def get_product_new(start_date,end_date,headers):\n",
    "    payload = {'ngay_bd': start_date,'ngay_kt': end_date}\n",
    "    r = requests.get(\"https://crm.aristino.com:4436/KGAPI/api/CategoryAPI/GetProducts_ByUpdate\",headers={'key': headers},\n",
    "                     params = payload)\n",
    "    return r"
   ]
  },
  {
   "cell_type": "code",
   "execution_count": 112,
   "id": "6df8cca5",
   "metadata": {},
   "outputs": [],
   "source": [
    "to"
   ]
  },
  {
   "cell_type": "code",
   "execution_count": 113,
   "id": "ef2038a9",
   "metadata": {},
   "outputs": [
    {
     "name": "stderr",
     "output_type": "stream",
     "text": [
      "C:\\Users\\ADMIN\\AppData\\Local\\Temp/ipykernel_24304/4006870286.py:4: FutureWarning: pandas.io.json.json_normalize is deprecated, use pandas.json_normalize instead\n",
      "  df = pd.io.json.json_normalize(df.Result)\n"
     ]
    }
   ],
   "source": [
    "start_date = date(2015,1,1)\n",
    "end_date = date.today()\n",
    "key='58cf21a9-af57-4fdd-8234-034e05aedfc2'\n",
    "resp = get_product_new(start_date,end_date,key)\n",
    "productNewapi = read_resp(resp)\n",
    "\n",
    "    "
   ]
  },
  {
   "cell_type": "code",
   "execution_count": 114,
   "id": "ab880b46",
   "metadata": {},
   "outputs": [
    {
     "data": {
      "text/html": [
       "<div>\n",
       "<style scoped>\n",
       "    .dataframe tbody tr th:only-of-type {\n",
       "        vertical-align: middle;\n",
       "    }\n",
       "\n",
       "    .dataframe tbody tr th {\n",
       "        vertical-align: top;\n",
       "    }\n",
       "\n",
       "    .dataframe thead th {\n",
       "        text-align: right;\n",
       "    }\n",
       "</style>\n",
       "<table border=\"1\" class=\"dataframe\">\n",
       "  <thead>\n",
       "    <tr style=\"text-align: right;\">\n",
       "      <th></th>\n",
       "      <th>ma_vt</th>\n",
       "      <th>ten_vt</th>\n",
       "      <th>ma_vt2</th>\n",
       "      <th>ten_vt2</th>\n",
       "      <th>dvt</th>\n",
       "      <th>nh_vt1</th>\n",
       "      <th>nh_vt2</th>\n",
       "      <th>nh_vt3</th>\n",
       "      <th>nh_vt4</th>\n",
       "      <th>nh_vt5</th>\n",
       "      <th>...</th>\n",
       "      <th>ten_nh_vt14</th>\n",
       "      <th>ten_nh_vt15</th>\n",
       "      <th>ten_nh_vt16</th>\n",
       "      <th>ten_nh_vt17</th>\n",
       "      <th>ten_nh_vt18</th>\n",
       "      <th>ten_nh_vt19</th>\n",
       "      <th>ten_nh_vt20</th>\n",
       "      <th>ten_nh_vt21</th>\n",
       "      <th>ghi_chu</th>\n",
       "      <th>status</th>\n",
       "    </tr>\n",
       "  </thead>\n",
       "  <tbody>\n",
       "    <tr>\n",
       "      <th>0</th>\n",
       "      <td>4KKMBX02.2</td>\n",
       "      <td>quần sịp boxer chun Kwin KKMBX02 cỡ S</td>\n",
       "      <td>4KKMBX02</td>\n",
       "      <td>quần sịp boxer chun Kwin KKMBX02</td>\n",
       "      <td>CHIEC</td>\n",
       "      <td>KKMBX02</td>\n",
       "      <td>N02-KWINMEN</td>\n",
       "      <td>N03-SIP-BOXER</td>\n",
       "      <td>N04-0</td>\n",
       "      <td>N05-2019</td>\n",
       "      <td>...</td>\n",
       "      <td></td>\n",
       "      <td></td>\n",
       "      <td></td>\n",
       "      <td></td>\n",
       "      <td></td>\n",
       "      <td>Sịp Boxer</td>\n",
       "      <td></td>\n",
       "      <td></td>\n",
       "      <td></td>\n",
       "      <td>1</td>\n",
       "    </tr>\n",
       "    <tr>\n",
       "      <th>1</th>\n",
       "      <td>3152508XXXX.2</td>\n",
       "      <td>BTP -Khăn Salina SD02 cỡ S</td>\n",
       "      <td>3152508XXXX</td>\n",
       "      <td>BTP -Khăn Salina SD02</td>\n",
       "      <td>CHIEC</td>\n",
       "      <td>BTP-SD02</td>\n",
       "      <td>N02-SALINA</td>\n",
       "      <td>N03-KHANMAT</td>\n",
       "      <td>N04-0</td>\n",
       "      <td>N05-NONE</td>\n",
       "      <td>...</td>\n",
       "      <td>Bamboo</td>\n",
       "      <td></td>\n",
       "      <td></td>\n",
       "      <td></td>\n",
       "      <td></td>\n",
       "      <td>Khăn</td>\n",
       "      <td></td>\n",
       "      <td></td>\n",
       "      <td></td>\n",
       "      <td>1</td>\n",
       "    </tr>\n",
       "    <tr>\n",
       "      <th>2</th>\n",
       "      <td>ASH06201KPE42K000104</td>\n",
       "      <td>Giày thể thao nam ASH06201 cỡ 40</td>\n",
       "      <td>ASH06201KPE42K00010</td>\n",
       "      <td>Giày thể thao nam ASH06201</td>\n",
       "      <td>DOI</td>\n",
       "      <td>ASH06201</td>\n",
       "      <td>N02-ARISTINO</td>\n",
       "      <td>N03-GIAY</td>\n",
       "      <td>N04-0</td>\n",
       "      <td>N05-2021</td>\n",
       "      <td>...</td>\n",
       "      <td>Polyester / Micro PES/ Microfiber</td>\n",
       "      <td></td>\n",
       "      <td></td>\n",
       "      <td></td>\n",
       "      <td></td>\n",
       "      <td></td>\n",
       "      <td></td>\n",
       "      <td></td>\n",
       "      <td></td>\n",
       "      <td>1</td>\n",
       "    </tr>\n",
       "    <tr>\n",
       "      <th>3</th>\n",
       "      <td>ASH08001LLT43K000363</td>\n",
       "      <td>Giày thể thao nam ASH08001 cỡ 39</td>\n",
       "      <td>ASH08001LLT43K00036</td>\n",
       "      <td>Giày thể thao nam ASH08001</td>\n",
       "      <td>DOI</td>\n",
       "      <td>ASH08001</td>\n",
       "      <td>N02-ARISTINO</td>\n",
       "      <td>N03-GIAY</td>\n",
       "      <td>N04-0</td>\n",
       "      <td>N05-2021</td>\n",
       "      <td>...</td>\n",
       "      <td>Leather</td>\n",
       "      <td></td>\n",
       "      <td></td>\n",
       "      <td></td>\n",
       "      <td></td>\n",
       "      <td></td>\n",
       "      <td></td>\n",
       "      <td></td>\n",
       "      <td></td>\n",
       "      <td>1</td>\n",
       "    </tr>\n",
       "    <tr>\n",
       "      <th>4</th>\n",
       "      <td>BSC00700KCO00K009000</td>\n",
       "      <td>Bít tất BSC007 Đen 9</td>\n",
       "      <td>BSC00700KCO00K00900</td>\n",
       "      <td>Bít tất BSC007 Đen 9</td>\n",
       "      <td>DOI</td>\n",
       "      <td>BSC007</td>\n",
       "      <td>N02-BIZMEN</td>\n",
       "      <td>N03-TATCONGSO</td>\n",
       "      <td>N04-0</td>\n",
       "      <td>N05-2018</td>\n",
       "      <td>...</td>\n",
       "      <td>Cotton</td>\n",
       "      <td></td>\n",
       "      <td></td>\n",
       "      <td></td>\n",
       "      <td></td>\n",
       "      <td>Tất</td>\n",
       "      <td></td>\n",
       "      <td></td>\n",
       "      <td></td>\n",
       "      <td>1</td>\n",
       "    </tr>\n",
       "  </tbody>\n",
       "</table>\n",
       "<p>5 rows × 49 columns</p>\n",
       "</div>"
      ],
      "text/plain": [
       "                  ma_vt                                 ten_vt  \\\n",
       "0            4KKMBX02.2  quần sịp boxer chun Kwin KKMBX02 cỡ S   \n",
       "1         3152508XXXX.2             BTP -Khăn Salina SD02 cỡ S   \n",
       "2  ASH06201KPE42K000104       Giày thể thao nam ASH06201 cỡ 40   \n",
       "3  ASH08001LLT43K000363       Giày thể thao nam ASH08001 cỡ 39   \n",
       "4  BSC00700KCO00K009000                   Bít tất BSC007 Đen 9   \n",
       "\n",
       "                ma_vt2                           ten_vt2    dvt    nh_vt1  \\\n",
       "0             4KKMBX02  quần sịp boxer chun Kwin KKMBX02  CHIEC   KKMBX02   \n",
       "1          3152508XXXX             BTP -Khăn Salina SD02  CHIEC  BTP-SD02   \n",
       "2  ASH06201KPE42K00010        Giày thể thao nam ASH06201    DOI  ASH06201   \n",
       "3  ASH08001LLT43K00036        Giày thể thao nam ASH08001    DOI  ASH08001   \n",
       "4  BSC00700KCO00K00900              Bít tất BSC007 Đen 9    DOI    BSC007   \n",
       "\n",
       "         nh_vt2         nh_vt3 nh_vt4    nh_vt5  ...  \\\n",
       "0   N02-KWINMEN  N03-SIP-BOXER  N04-0  N05-2019  ...   \n",
       "1    N02-SALINA    N03-KHANMAT  N04-0  N05-NONE  ...   \n",
       "2  N02-ARISTINO       N03-GIAY  N04-0  N05-2021  ...   \n",
       "3  N02-ARISTINO       N03-GIAY  N04-0  N05-2021  ...   \n",
       "4    N02-BIZMEN  N03-TATCONGSO  N04-0  N05-2018  ...   \n",
       "\n",
       "                         ten_nh_vt14 ten_nh_vt15 ten_nh_vt16 ten_nh_vt17  \\\n",
       "0                                                                          \n",
       "1                             Bamboo                                       \n",
       "2  Polyester / Micro PES/ Microfiber                                       \n",
       "3                            Leather                                       \n",
       "4                             Cotton                                       \n",
       "\n",
       "  ten_nh_vt18 ten_nh_vt19 ten_nh_vt20 ten_nh_vt21 ghi_chu status  \n",
       "0               Sịp Boxer                                      1  \n",
       "1                    Khăn                                      1  \n",
       "2                                                              1  \n",
       "3                                                              1  \n",
       "4                     Tất                                      1  \n",
       "\n",
       "[5 rows x 49 columns]"
      ]
     },
     "execution_count": 114,
     "metadata": {},
     "output_type": "execute_result"
    }
   ],
   "source": []
  },
  {
   "cell_type": "markdown",
   "id": "03edd09a",
   "metadata": {},
   "source": [
    "get product old APi"
   ]
  },
  {
   "cell_type": "code",
   "execution_count": 115,
   "id": "2a716b6f",
   "metadata": {},
   "outputs": [],
   "source": [
    "import psycopg2"
   ]
  },
  {
   "cell_type": "code",
   "execution_count": 116,
   "id": "e3202ddf",
   "metadata": {},
   "outputs": [],
   "source": [
    "conn = psycopg2.connect(\n",
    "    host=\"localhost\",\n",
    "    user=\"pd\",\n",
    "    password=\"iloveprimedata\",\n",
    "    dbname='eventify_stag',\n",
    "    port=45432)"
   ]
  },
  {
   "cell_type": "code",
   "execution_count": 117,
   "id": "fe023537",
   "metadata": {},
   "outputs": [],
   "source": [
    "cur = conn.cursor()"
   ]
  },
  {
   "cell_type": "code",
   "execution_count": 118,
   "id": "2c9e865e",
   "metadata": {},
   "outputs": [],
   "source": [
    "query_product = pd.read_sql_query(\"\"\"select * from public.product_item;\"\"\",conn)"
   ]
  },
  {
   "cell_type": "code",
   "execution_count": 119,
   "id": "214ba161",
   "metadata": {},
   "outputs": [
    {
     "name": "stderr",
     "output_type": "stream",
     "text": [
      "C:\\Users\\ADMIN\\AppData\\Local\\Temp/ipykernel_24304/3644626167.py:4: FutureWarning: pandas.io.json.json_normalize is deprecated, use pandas.json_normalize instead\n",
      "  product2= pd.io.json.json_normalize(query_product.properties)[['nh_vt2','nh_vt5','nh_vt8','nh_vt10','nh_vt12','nh_vt13','nh_vt14']]\n"
     ]
    }
   ],
   "source": [
    "product1 = query_product[['id']].copy()\n",
    "product1.rename(columns={'id':'ma_vt'},inplace=True) # rename id to ma_vt\n",
    "#convert columns properties with json type to table\n",
    "product2= pd.io.json.json_normalize(query_product.properties)[['nh_vt2','nh_vt5','nh_vt8','nh_vt10','nh_vt12','nh_vt13','nh_vt14']]\n",
    "product= pd.concat([product1,product2],axis=1)"
   ]
  },
  {
   "cell_type": "markdown",
   "id": "458d5d22",
   "metadata": {},
   "source": [
    "merge product new API voiws product postgres"
   ]
  },
  {
   "cell_type": "code",
   "execution_count": 597,
   "id": "e3c0fc87",
   "metadata": {},
   "outputs": [
    {
     "data": {
      "text/plain": [
       "Index(['ma_vt', 'ten_vt', 'ma_vt2', 'ten_vt2', 'dvt', 'nh_vt1', 'nh_vt2',\n",
       "       'nh_vt3', 'nh_vt4', 'nh_vt5', 'nh_vt6', 'nh_vt7', 'nh_vt8', 'nh_vt9',\n",
       "       'nh_vt10', 'nh_vt11', 'nh_vt12', 'nh_vt13', 'nh_vt14', 'nh_vt15',\n",
       "       'nh_vt16', 'nh_vt17', 'nh_vt18', 'nh_vt19', 'nh_vt20', 'nh_vt21',\n",
       "       'ten_nh_vt1', 'ten_nh_vt2', 'ten_nh_vt3', 'ten_nh_vt4', 'ten_nh_vt5',\n",
       "       'ten_nh_vt6', 'ten_nh_vt7', 'ten_nh_vt8', 'ten_nh_vt9', 'ten_nh_vt10',\n",
       "       'ten_nh_vt11', 'ten_nh_vt12', 'ten_nh_vt13', 'ten_nh_vt14',\n",
       "       'ten_nh_vt15', 'ten_nh_vt16', 'ten_nh_vt17', 'ten_nh_vt18',\n",
       "       'ten_nh_vt19', 'ten_nh_vt20', 'ten_nh_vt21', 'ghi_chu', 'status'],\n",
       "      dtype='object')"
      ]
     },
     "execution_count": 597,
     "metadata": {},
     "output_type": "execute_result"
    }
   ],
   "source": [
    "productNewapi.columns"
   ]
  },
  {
   "cell_type": "code",
   "execution_count": 608,
   "id": "ac678f73",
   "metadata": {},
   "outputs": [
    {
     "data": {
      "text/plain": [
       "Index(['ma_vt', 'nh_vt2', 'nh_vt5', 'nh_vt8', 'nh_vt10', 'nh_vt12', 'nh_vt13',\n",
       "       'nh_vt14'],\n",
       "      dtype='object')"
      ]
     },
     "execution_count": 608,
     "metadata": {},
     "output_type": "execute_result"
    }
   ],
   "source": [
    "product.columns"
   ]
  },
  {
   "cell_type": "code",
   "execution_count": 32,
   "id": "9906d01a",
   "metadata": {
    "scrolled": true
   },
   "outputs": [],
   "source": [
    "# merge erp to get nh_Vt\n",
    "erp1 = erp1.merge(product,on='ma_vt',how='left')"
   ]
  },
  {
   "cell_type": "code",
   "execution_count": 33,
   "id": "a61c1b79",
   "metadata": {},
   "outputs": [
    {
     "name": "stdout",
     "output_type": "stream",
     "text": [
      "<class 'pandas.core.frame.DataFrame'>\n",
      "Int64Index: 631704 entries, 0 to 631703\n",
      "Data columns (total 31 columns):\n",
      " #   Column          Non-Null Count   Dtype         \n",
      "---  ------          --------------   -----         \n",
      " 0   anonymous_id    631704 non-null  object        \n",
      " 1   at              631704 non-null  datetime64[ns]\n",
      " 2   ngay_ct         631704 non-null  object        \n",
      " 3   gio_gh          631704 non-null  object        \n",
      " 4   order_value     631704 non-null  float64       \n",
      " 5   t_tien_sau_ck   631704 non-null  float64       \n",
      " 6   so_luong        631704 non-null  float64       \n",
      " 7   stt_rec         631704 non-null  object        \n",
      " 8   dich_vu         631704 non-null  object        \n",
      " 9   dvt             631704 non-null  object        \n",
      " 10  nguon_dh        631704 non-null  object        \n",
      " 11  status          631704 non-null  object        \n",
      " 12  ma_vt           631704 non-null  object        \n",
      " 13  ma_vt2          631704 non-null  object        \n",
      " 14  ma_ct_km        631704 non-null  object        \n",
      " 15  ten_ct_km       631704 non-null  object        \n",
      " 16  nh_dvcs1        631704 non-null  object        \n",
      " 17  nh_dvcs3        631704 non-null  object        \n",
      " 18  gender          631704 non-null  object        \n",
      " 19  Province        631704 non-null  object        \n",
      " 20  card_tier_name  631704 non-null  object        \n",
      " 21  dob             631704 non-null  object        \n",
      " 22  age             0 non-null       object        \n",
      " 23  interval_age    631704 non-null  object        \n",
      " 24  nh_vt2          603458 non-null  object        \n",
      " 25  nh_vt5          603458 non-null  object        \n",
      " 26  nh_vt8          603458 non-null  object        \n",
      " 27  nh_vt10         603458 non-null  object        \n",
      " 28  nh_vt12         117992 non-null  object        \n",
      " 29  nh_vt13         117992 non-null  object        \n",
      " 30  nh_vt14         117992 non-null  object        \n",
      "dtypes: datetime64[ns](1), float64(3), object(27)\n",
      "memory usage: 154.2+ MB\n"
     ]
    }
   ],
   "source": [
    "erp1.info()"
   ]
  },
  {
   "cell_type": "code",
   "execution_count": 603,
   "id": "f47710a9",
   "metadata": {
    "scrolled": true
   },
   "outputs": [],
   "source": [
    "#product.merge(productNewapi[['ma_vt','ten_nh_vt2','ten_nh_vt5','ten_nh_vt8','ten_nh_vt10','ten_nh_vt12','ten_nh_vt13','ten_nh_vt14']],on='ma_vt',how='left')"
   ]
  },
  {
   "cell_type": "code",
   "execution_count": null,
   "id": "7964759f",
   "metadata": {},
   "outputs": [],
   "source": [
    "import numpy as np\n",
    "def replace_EmptyNanNull(x):\n",
    "    if x == None or x == '' or x==np.NaN:\n",
    "        return 'undefined'\n",
    "    else:\n",
    "        return x"
   ]
  },
  {
   "cell_type": "code",
   "execution_count": 91,
   "id": "a8d36edc",
   "metadata": {
    "scrolled": true
   },
   "outputs": [
    {
     "ename": "ValueError",
     "evalue": "The truth value of a DataFrame is ambiguous. Use a.empty, a.bool(), a.item(), a.any() or a.all().",
     "output_type": "error",
     "traceback": [
      "\u001b[1;31m---------------------------------------------------------------------------\u001b[0m",
      "\u001b[1;31mValueError\u001b[0m                                Traceback (most recent call last)",
      "\u001b[1;32m~\\AppData\\Local\\Temp/ipykernel_24304/1250906931.py\u001b[0m in \u001b[0;36m<module>\u001b[1;34m\u001b[0m\n\u001b[1;32m----> 1\u001b[1;33m \u001b[0mreplace_EmptyNanNull\u001b[0m\u001b[1;33m(\u001b[0m\u001b[0merp1\u001b[0m\u001b[1;33m[\u001b[0m\u001b[1;33m[\u001b[0m\u001b[1;34m'nh_vt13'\u001b[0m\u001b[1;33m,\u001b[0m\u001b[1;34m'nh_vt14'\u001b[0m\u001b[1;33m]\u001b[0m\u001b[1;33m]\u001b[0m\u001b[1;33m)\u001b[0m\u001b[1;33m\u001b[0m\u001b[1;33m\u001b[0m\u001b[0m\n\u001b[0m",
      "\u001b[1;32m~\\AppData\\Local\\Temp/ipykernel_24304/674493365.py\u001b[0m in \u001b[0;36mreplace_EmptyNanNull\u001b[1;34m(x)\u001b[0m\n\u001b[0;32m      1\u001b[0m \u001b[1;32mimport\u001b[0m \u001b[0mnumpy\u001b[0m \u001b[1;32mas\u001b[0m \u001b[0mnp\u001b[0m\u001b[1;33m\u001b[0m\u001b[1;33m\u001b[0m\u001b[0m\n\u001b[0;32m      2\u001b[0m \u001b[1;32mdef\u001b[0m \u001b[0mreplace_EmptyNanNull\u001b[0m\u001b[1;33m(\u001b[0m\u001b[0mx\u001b[0m\u001b[1;33m)\u001b[0m\u001b[1;33m:\u001b[0m\u001b[1;33m\u001b[0m\u001b[1;33m\u001b[0m\u001b[0m\n\u001b[1;32m----> 3\u001b[1;33m     \u001b[1;32mif\u001b[0m \u001b[0mx\u001b[0m \u001b[1;33m==\u001b[0m \u001b[1;32mNone\u001b[0m \u001b[1;32mor\u001b[0m \u001b[0mx\u001b[0m \u001b[1;33m==\u001b[0m \u001b[1;34m''\u001b[0m \u001b[1;32mor\u001b[0m \u001b[0mx\u001b[0m\u001b[1;33m==\u001b[0m\u001b[0mnp\u001b[0m\u001b[1;33m.\u001b[0m\u001b[0mNaN\u001b[0m\u001b[1;33m:\u001b[0m\u001b[1;33m\u001b[0m\u001b[1;33m\u001b[0m\u001b[0m\n\u001b[0m\u001b[0;32m      4\u001b[0m         \u001b[1;32mreturn\u001b[0m \u001b[1;34m'undefined'\u001b[0m\u001b[1;33m\u001b[0m\u001b[1;33m\u001b[0m\u001b[0m\n\u001b[0;32m      5\u001b[0m     \u001b[1;32melse\u001b[0m\u001b[1;33m:\u001b[0m\u001b[1;33m\u001b[0m\u001b[1;33m\u001b[0m\u001b[0m\n",
      "\u001b[1;32mc:\\users\\admin\\appdata\\local\\programs\\python\\python39\\lib\\site-packages\\pandas\\core\\generic.py\u001b[0m in \u001b[0;36m__nonzero__\u001b[1;34m(self)\u001b[0m\n\u001b[0;32m   1535\u001b[0m     \u001b[1;33m@\u001b[0m\u001b[0mfinal\u001b[0m\u001b[1;33m\u001b[0m\u001b[1;33m\u001b[0m\u001b[0m\n\u001b[0;32m   1536\u001b[0m     \u001b[1;32mdef\u001b[0m \u001b[0m__nonzero__\u001b[0m\u001b[1;33m(\u001b[0m\u001b[0mself\u001b[0m\u001b[1;33m)\u001b[0m\u001b[1;33m:\u001b[0m\u001b[1;33m\u001b[0m\u001b[1;33m\u001b[0m\u001b[0m\n\u001b[1;32m-> 1537\u001b[1;33m         raise ValueError(\n\u001b[0m\u001b[0;32m   1538\u001b[0m             \u001b[1;34mf\"The truth value of a {type(self).__name__} is ambiguous. \"\u001b[0m\u001b[1;33m\u001b[0m\u001b[1;33m\u001b[0m\u001b[0m\n\u001b[0;32m   1539\u001b[0m             \u001b[1;34m\"Use a.empty, a.bool(), a.item(), a.any() or a.all().\"\u001b[0m\u001b[1;33m\u001b[0m\u001b[1;33m\u001b[0m\u001b[0m\n",
      "\u001b[1;31mValueError\u001b[0m: The truth value of a DataFrame is ambiguous. Use a.empty, a.bool(), a.item(), a.any() or a.all()."
     ]
    }
   ],
   "source": []
  },
  {
   "cell_type": "code",
   "execution_count": null,
   "id": "cbc64ce2",
   "metadata": {},
   "outputs": [],
   "source": []
  },
  {
   "cell_type": "code",
   "execution_count": 86,
   "id": "8421880e",
   "metadata": {
    "scrolled": false
   },
   "outputs": [
    {
     "data": {
      "text/plain": [
       "N13-02    35390\n",
       "N13-03    30724\n",
       "N13-00    25060\n",
       "          11931\n",
       "N13-10     5260\n",
       "N13-06     3326\n",
       "N13-33     1593\n",
       "N13-12     1372\n",
       "N13-07     1097\n",
       "N13-39      773\n",
       "N13-38      616\n",
       "N13-13      219\n",
       "N13-20      170\n",
       "N13-27      132\n",
       "N13-23      131\n",
       "N13-26       67\n",
       "N13-22       65\n",
       "N13-28       36\n",
       "N13-34       28\n",
       "N13-05        2\n",
       "Name: nh_vt13, dtype: int64"
      ]
     },
     "execution_count": 86,
     "metadata": {},
     "output_type": "execute_result"
    }
   ],
   "source": []
  },
  {
   "cell_type": "code",
   "execution_count": 84,
   "id": "6533b2f6",
   "metadata": {},
   "outputs": [
    {
     "data": {
      "text/plain": [
       "N13-02       35390\n",
       "N13-03       30724\n",
       "N13-00       25060\n",
       "undefined    11931\n",
       "N13-10        5260\n",
       "N13-06        3326\n",
       "N13-33        1593\n",
       "N13-12        1372\n",
       "N13-07        1097\n",
       "N13-39         773\n",
       "N13-38         616\n",
       "N13-13         219\n",
       "N13-20         170\n",
       "N13-27         132\n",
       "N13-23         131\n",
       "N13-26          67\n",
       "N13-22          65\n",
       "N13-28          36\n",
       "N13-34          28\n",
       "N13-05           2\n",
       "Name: nh_vt13, dtype: int64"
      ]
     },
     "execution_count": 84,
     "metadata": {},
     "output_type": "execute_result"
    }
   ],
   "source": [
    "erp1['nh_vt13'].apply(replace_EmptyNanNull).value_counts()"
   ]
  },
  {
   "cell_type": "code",
   "execution_count": 73,
   "id": "b3fbde41",
   "metadata": {},
   "outputs": [
    {
     "data": {
      "text/plain": [
       "0         None\n",
       "1         None\n",
       "2         None\n",
       "3         None\n",
       "4         None\n",
       "          ... \n",
       "631699    None\n",
       "631700    None\n",
       "631701    None\n",
       "631702    None\n",
       "631703    None\n",
       "Name: nh_vt12, Length: 631704, dtype: object"
      ]
     },
     "execution_count": 73,
     "metadata": {},
     "output_type": "execute_result"
    }
   ],
   "source": [
    "erp1.nh_vt12"
   ]
  },
  {
   "cell_type": "code",
   "execution_count": 229,
   "id": "87943c1e",
   "metadata": {},
   "outputs": [],
   "source": [
    "def merge_product_and_erp(erp,product):\n",
    "    erp=erp.merge(product[['ma_vt','nh_vt2','nh_vt5','nh_vt8','nh_vt10','nh_vt12','nh_vt13','nh_vt14']],on='ma_vt',how='left')\n",
    "    return erp"
   ]
  },
  {
   "cell_type": "code",
   "execution_count": 427,
   "id": "bf6b6c1b",
   "metadata": {},
   "outputs": [],
   "source": [
    "productNewapi_dtypes = productNewapi.dtypes.to_frame(name ='dtypes').reset_index()\n",
    "list_col_product = []\n",
    "for i in range(len(productNewapi_dtypes)):\n",
    "    if productNewapi_dtypes.iloc[i]['dtypes'] == 'object':\n",
    "        list_col_product.append({'name':productNewapi_dtypes.iloc[i]['index'],'dataType':'string'})\n",
    "    if productNewapi_dtypes.iloc[i]['dtypes'] == 'float':\n",
    "        list_col_product.append({'name':productNewapi_dtypes.iloc[i]['index'],'dataType':'decimal'})\n",
    "      \n",
    "     \n",
    "    "
   ]
  },
  {
   "cell_type": "code",
   "execution_count": 474,
   "id": "9c1b0754",
   "metadata": {},
   "outputs": [],
   "source": [
    "create_table_product={\n",
    "      'name': 'segment',\n",
    "      'tables': [{'name': 'product', 'columns':list_col_product},\n",
    "                {'name': 'erp', 'columns':list_col}],\n",
    "        'relationship'\n",
    "}"
   ]
  },
  {
   "cell_type": "code",
   "execution_count": 451,
   "id": "8bf7fe40",
   "metadata": {},
   "outputs": [],
   "source": [
    "product = json.loads(resp.text)['Result']"
   ]
  },
  {
   "cell_type": "code",
   "execution_count": 473,
   "id": "7011e48a",
   "metadata": {},
   "outputs": [],
   "source": [
    "def create_dataset(data):\n",
    "    data = json.dumps(data)\n",
    "    return s.post('https://api.powerbi.com/v1.0/myorg/datasets',data)"
   ]
  },
  {
   "cell_type": "code",
   "execution_count": 475,
   "id": "5c25696f",
   "metadata": {},
   "outputs": [],
   "source": [
    "createdataset = create_dataset(create_table_product)"
   ]
  },
  {
   "cell_type": "code",
   "execution_count": 476,
   "id": "17b55b76",
   "metadata": {},
   "outputs": [
    {
     "data": {
      "text/plain": [
       "<Response [201]>"
      ]
     },
     "execution_count": 476,
     "metadata": {},
     "output_type": "execute_result"
    }
   ],
   "source": [
    "createdataset"
   ]
  },
  {
   "cell_type": "code",
   "execution_count": 490,
   "id": "364edc9e",
   "metadata": {},
   "outputs": [],
   "source": [
    "#add row into dataset\n",
    "def add_row_into_dataset(datasetId,tableName,data):\n",
    "    request_url = f'https://api.powerbi.com/v1.0/myorg/datasets/{datasetId}/tables/{tableName}/rows'\n",
    "    resp = s.post(request_url,data)\n",
    "    if resp.status_code != 200:\n",
    "        raise Exception(f\"Failed to push data to PowerBI: [{resp.status_code}] - {resp.text}\")\n",
    "    return resp\n",
    "                  "
   ]
  },
  {
   "cell_type": "code",
   "execution_count": 477,
   "id": "b8e4acef",
   "metadata": {},
   "outputs": [],
   "source": [
    "datasetId='0f35f863-5c9c-4754-aa99-e4ef8198ce92'\n",
    "tableName='product'"
   ]
  },
  {
   "cell_type": "code",
   "execution_count": 478,
   "id": "8f6d6fc4",
   "metadata": {},
   "outputs": [],
   "source": [
    "count = 0\n",
    "while count < len(product):\n",
    "    data = product[count:count+9900]\n",
    "    post_row = add_row_into_dataset(datasetId,tableName,data)\n",
    "    if post_row.status_code != 200:\n",
    "        raise Exception(f\"Failed at batch ...\",f\"{post_row.text}\",f'batch_index {batch}')\n",
    "    count+= 9900"
   ]
  },
  {
   "cell_type": "code",
   "execution_count": 493,
   "id": "f79ba8f4",
   "metadata": {},
   "outputs": [
    {
     "data": {
      "text/plain": [
       "0        2020-02-16 17:38:08\n",
       "1        2020-02-16 17:38:08\n",
       "2        2020-02-16 17:38:08\n",
       "3        2020-02-16 17:38:08\n",
       "4        2020-02-16 14:42:33\n",
       "                 ...        \n",
       "251301   2020-01-18 16:47:21\n",
       "251302   2020-01-18 16:47:21\n",
       "251303   2020-01-18 16:48:30\n",
       "251304   2020-01-18 16:48:30\n",
       "251305   2020-01-18 16:48:30\n",
       "Name: at, Length: 251306, dtype: datetime64[ns]"
      ]
     },
     "execution_count": 493,
     "metadata": {},
     "output_type": "execute_result"
    }
   ],
   "source": [
    "erp['at']"
   ]
  },
  {
   "cell_type": "code",
   "execution_count": 505,
   "id": "a1fa7ba5",
   "metadata": {},
   "outputs": [
    {
     "name": "stderr",
     "output_type": "stream",
     "text": [
      "C:\\Users\\ADMIN\\AppData\\Local\\Temp/ipykernel_24052/2244525372.py:4: SettingWithCopyWarning: \n",
      "A value is trying to be set on a copy of a slice from a DataFrame.\n",
      "Try using .loc[row_indexer,col_indexer] = value instead\n",
      "\n",
      "See the caveats in the documentation: https://pandas.pydata.org/pandas-docs/stable/user_guide/indexing.html#returning-a-view-versus-a-copy\n",
      "  data_push[i] = data_push[i].astype(str)\n"
     ]
    }
   ],
   "source": [
    "count = 0\n",
    "datasetId='0f35f863-5c9c-4754-aa99-e4ef8198ce92'\n",
    "tableName='erp'\n",
    "while count < len(erp):\n",
    "    data = erp.iloc[count:count+9900]\n",
    "    data_push = transform_and_jsondump(data)\n",
    "    post_row = add_row_into_dataset(datasetId,tableName,data_push)\n",
    "    if post_row.status_code != 200:\n",
    "        raise Exception(f\"Failed at batch ...\",f\"{post_row.text}\",f'batch_index {batch}')\n",
    "    count+= 9900"
   ]
  },
  {
   "cell_type": "code",
   "execution_count": 128,
   "id": "12c5a6df",
   "metadata": {},
   "outputs": [],
   "source": [
    "product_new = pd.concat([productNewapi,product], axis=0, ignore_index=True)"
   ]
  },
  {
   "cell_type": "code",
   "execution_count": 135,
   "id": "9dd28208",
   "metadata": {},
   "outputs": [],
   "source": [
    "def get_unique_field(product,field1,field2):\n",
    "    result = product[[field1,field2]].groupby([field1,field2]).size().reset_index(name='Freq')\n",
    "    return result.drop(columns='Freq')\n",
    "    \n"
   ]
  },
  {
   "cell_type": "code",
   "execution_count": 137,
   "id": "d76507ec",
   "metadata": {},
   "outputs": [
    {
     "data": {
      "text/html": [
       "<div>\n",
       "<style scoped>\n",
       "    .dataframe tbody tr th:only-of-type {\n",
       "        vertical-align: middle;\n",
       "    }\n",
       "\n",
       "    .dataframe tbody tr th {\n",
       "        vertical-align: top;\n",
       "    }\n",
       "\n",
       "    .dataframe thead th {\n",
       "        text-align: right;\n",
       "    }\n",
       "</style>\n",
       "<table border=\"1\" class=\"dataframe\">\n",
       "  <thead>\n",
       "    <tr style=\"text-align: right;\">\n",
       "      <th></th>\n",
       "      <th>nh_vt2</th>\n",
       "      <th>ten_nh_vt2</th>\n",
       "    </tr>\n",
       "  </thead>\n",
       "  <tbody>\n",
       "    <tr>\n",
       "      <th>0</th>\n",
       "      <td>N02-ARISTINO</td>\n",
       "      <td>Aristino</td>\n",
       "    </tr>\n",
       "    <tr>\n",
       "      <th>1</th>\n",
       "      <td>N02-ARISTINOBOSS</td>\n",
       "      <td>Aristino Boss</td>\n",
       "    </tr>\n",
       "    <tr>\n",
       "      <th>2</th>\n",
       "      <td>N02-BIOZONE</td>\n",
       "      <td>Biozone</td>\n",
       "    </tr>\n",
       "    <tr>\n",
       "      <th>3</th>\n",
       "      <td>N02-BIZMEN</td>\n",
       "      <td>Bizmen</td>\n",
       "    </tr>\n",
       "    <tr>\n",
       "      <th>4</th>\n",
       "      <td>N02-BIZS+</td>\n",
       "      <td>BIZS+</td>\n",
       "    </tr>\n",
       "    <tr>\n",
       "      <th>5</th>\n",
       "      <td>N02-CECINA</td>\n",
       "      <td>Cecina</td>\n",
       "    </tr>\n",
       "    <tr>\n",
       "      <th>6</th>\n",
       "      <td>N02-INSIDEMEN</td>\n",
       "      <td>Insidemen</td>\n",
       "    </tr>\n",
       "    <tr>\n",
       "      <th>7</th>\n",
       "      <td>N02-KIDMAN</td>\n",
       "      <td>Kidman</td>\n",
       "    </tr>\n",
       "    <tr>\n",
       "      <th>8</th>\n",
       "      <td>N02-KWINMEN</td>\n",
       "      <td>Kwin</td>\n",
       "    </tr>\n",
       "    <tr>\n",
       "      <th>9</th>\n",
       "      <td>N02-NONE</td>\n",
       "      <td>Không phân thương hiệu</td>\n",
       "    </tr>\n",
       "    <tr>\n",
       "      <th>10</th>\n",
       "      <td>N02-PODO</td>\n",
       "      <td>Podo</td>\n",
       "    </tr>\n",
       "    <tr>\n",
       "      <th>11</th>\n",
       "      <td>N02-SALINA</td>\n",
       "      <td>Salina</td>\n",
       "    </tr>\n",
       "    <tr>\n",
       "      <th>12</th>\n",
       "      <td>N02-VENISA</td>\n",
       "      <td>Venisa</td>\n",
       "    </tr>\n",
       "  </tbody>\n",
       "</table>\n",
       "</div>"
      ],
      "text/plain": [
       "              nh_vt2              ten_nh_vt2\n",
       "0       N02-ARISTINO                Aristino\n",
       "1   N02-ARISTINOBOSS           Aristino Boss\n",
       "2        N02-BIOZONE                 Biozone\n",
       "3         N02-BIZMEN                  Bizmen\n",
       "4          N02-BIZS+                   BIZS+\n",
       "5         N02-CECINA                  Cecina\n",
       "6      N02-INSIDEMEN               Insidemen\n",
       "7         N02-KIDMAN                  Kidman\n",
       "8        N02-KWINMEN                    Kwin\n",
       "9           N02-NONE  Không phân thương hiệu\n",
       "10          N02-PODO                    Podo\n",
       "11        N02-SALINA                  Salina\n",
       "12        N02-VENISA                  Venisa"
      ]
     },
     "execution_count": 137,
     "metadata": {},
     "output_type": "execute_result"
    }
   ],
   "source": [
    "get_unique_field(product_new,'nh_vt2','ten_nh_vt2')"
   ]
  },
  {
   "cell_type": "code",
   "execution_count": 136,
   "id": "28e80d16",
   "metadata": {},
   "outputs": [
    {
     "data": {
      "text/html": [
       "<div>\n",
       "<style scoped>\n",
       "    .dataframe tbody tr th:only-of-type {\n",
       "        vertical-align: middle;\n",
       "    }\n",
       "\n",
       "    .dataframe tbody tr th {\n",
       "        vertical-align: top;\n",
       "    }\n",
       "\n",
       "    .dataframe thead th {\n",
       "        text-align: right;\n",
       "    }\n",
       "</style>\n",
       "<table border=\"1\" class=\"dataframe\">\n",
       "  <thead>\n",
       "    <tr style=\"text-align: right;\">\n",
       "      <th></th>\n",
       "      <th>nh_vt2</th>\n",
       "      <th>ten_nh_vt2</th>\n",
       "      <th>Freq</th>\n",
       "    </tr>\n",
       "  </thead>\n",
       "  <tbody>\n",
       "    <tr>\n",
       "      <th>0</th>\n",
       "      <td>N02-ARISTINO</td>\n",
       "      <td>Aristino</td>\n",
       "      <td>30882</td>\n",
       "    </tr>\n",
       "    <tr>\n",
       "      <th>1</th>\n",
       "      <td>N02-ARISTINOBOSS</td>\n",
       "      <td>Aristino Boss</td>\n",
       "      <td>31</td>\n",
       "    </tr>\n",
       "    <tr>\n",
       "      <th>2</th>\n",
       "      <td>N02-BIOZONE</td>\n",
       "      <td>Biozone</td>\n",
       "      <td>20</td>\n",
       "    </tr>\n",
       "    <tr>\n",
       "      <th>3</th>\n",
       "      <td>N02-BIZMEN</td>\n",
       "      <td>Bizmen</td>\n",
       "      <td>464</td>\n",
       "    </tr>\n",
       "    <tr>\n",
       "      <th>4</th>\n",
       "      <td>N02-BIZS+</td>\n",
       "      <td>BIZS+</td>\n",
       "      <td>137</td>\n",
       "    </tr>\n",
       "    <tr>\n",
       "      <th>5</th>\n",
       "      <td>N02-CECINA</td>\n",
       "      <td>Cecina</td>\n",
       "      <td>1483</td>\n",
       "    </tr>\n",
       "    <tr>\n",
       "      <th>6</th>\n",
       "      <td>N02-INSIDEMEN</td>\n",
       "      <td>Insidemen</td>\n",
       "      <td>4782</td>\n",
       "    </tr>\n",
       "    <tr>\n",
       "      <th>7</th>\n",
       "      <td>N02-KIDMAN</td>\n",
       "      <td>Kidman</td>\n",
       "      <td>449</td>\n",
       "    </tr>\n",
       "    <tr>\n",
       "      <th>8</th>\n",
       "      <td>N02-KWINMEN</td>\n",
       "      <td>Kwin</td>\n",
       "      <td>4123</td>\n",
       "    </tr>\n",
       "    <tr>\n",
       "      <th>9</th>\n",
       "      <td>N02-NONE</td>\n",
       "      <td>Không phân thương hiệu</td>\n",
       "      <td>4643</td>\n",
       "    </tr>\n",
       "    <tr>\n",
       "      <th>10</th>\n",
       "      <td>N02-PODO</td>\n",
       "      <td>Podo</td>\n",
       "      <td>74</td>\n",
       "    </tr>\n",
       "    <tr>\n",
       "      <th>11</th>\n",
       "      <td>N02-SALINA</td>\n",
       "      <td>Salina</td>\n",
       "      <td>590</td>\n",
       "    </tr>\n",
       "    <tr>\n",
       "      <th>12</th>\n",
       "      <td>N02-VENISA</td>\n",
       "      <td>Venisa</td>\n",
       "      <td>33</td>\n",
       "    </tr>\n",
       "  </tbody>\n",
       "</table>\n",
       "</div>"
      ],
      "text/plain": [
       "              nh_vt2              ten_nh_vt2   Freq\n",
       "0       N02-ARISTINO                Aristino  30882\n",
       "1   N02-ARISTINOBOSS           Aristino Boss     31\n",
       "2        N02-BIOZONE                 Biozone     20\n",
       "3         N02-BIZMEN                  Bizmen    464\n",
       "4          N02-BIZS+                   BIZS+    137\n",
       "5         N02-CECINA                  Cecina   1483\n",
       "6      N02-INSIDEMEN               Insidemen   4782\n",
       "7         N02-KIDMAN                  Kidman    449\n",
       "8        N02-KWINMEN                    Kwin   4123\n",
       "9           N02-NONE  Không phân thương hiệu   4643\n",
       "10          N02-PODO                    Podo     74\n",
       "11        N02-SALINA                  Salina    590\n",
       "12        N02-VENISA                  Venisa     33"
      ]
     },
     "execution_count": 136,
     "metadata": {},
     "output_type": "execute_result"
    }
   ],
   "source": [
    "product_new[['nh_vt2','ten_nh_vt2']].groupby(['nh_vt2','ten_nh_vt2']).size().reset_index(name='Freq')"
   ]
  },
  {
   "cell_type": "markdown",
   "id": "213a67f5",
   "metadata": {},
   "source": [
    "# test delete row in dataset powerBi"
   ]
  },
  {
   "cell_type": "code",
   "execution_count": 138,
   "id": "edb85392",
   "metadata": {},
   "outputs": [
    {
     "name": "stdout",
     "output_type": "stream",
     "text": [
      "{'@odata.context': 'http://wabi-south-east-asia-b-primary-redirect.analysis.windows.net/v1.0/myorg/$metadata#groups', '@odata.count': 2, 'value': [{'id': '7da7604f-20b3-49c0-aee5-6eb0c2cc010d', 'isReadOnly': False, 'isOnDedicatedCapacity': False, 'type': 'Workspace', 'name': 'Default'}, {'id': '66871624-e0e7-4314-92ca-24e2864597b6', 'isReadOnly': False, 'isOnDedicatedCapacity': False, 'type': 'Workspace', 'name': 'aristino'}]}\n"
     ]
    }
   ],
   "source": [
    "import msal\n",
    "import requests\n",
    "import json\n",
    "\n",
    "# --------------------------------------------------\n",
    "# Set local variables\n",
    "# --------------------------------------------------\n",
    "client_id='b1e937d4-ade0-4aec-ba94-529a143c9cc1'\n",
    "username = 'integration@primedata.ai'\n",
    "password = 'jTbCm.3RR49RqARv'\n",
    "authority_url = 'https://login.microsoftonline.com/primedata.ai'\n",
    "scope = [\"https://analysis.windows.net/powerbi/api/.default\"]\n",
    "url_groups = 'https://api.powerbi.com/v1.0/myorg/groups'\n",
    "\n",
    "# --------------------------------------------------\n",
    "# Use MSAL to grab a token\n",
    "# --------------------------------------------------\n",
    "app = msal.PublicClientApplication(client_id, authority=authority_url)\n",
    "result = app.acquire_token_by_username_password(username=username,password=password,scopes=scope)\n",
    "\n",
    "# --------------------------------------------------\n",
    "# Check if a token was obtained, grab it and call the\n",
    "# Power BI REST API, otherwise throw up the error message\n",
    "# --------------------------------------------------\n",
    "if 'access_token' in result:\n",
    "    access_token = result['access_token']\n",
    "    header = {'Content-Type':'application/json','Authorization': f'Bearer {access_token}'}\n",
    "    api_out = requests.get(url=url_groups, headers=header)\n",
    "    print(api_out.json())\n",
    "else:\n",
    "    print(result.get(\"error\"))\n",
    "    print(result.get(\"error_description\"))"
   ]
  },
  {
   "cell_type": "code",
   "execution_count": 139,
   "id": "00d4dd94",
   "metadata": {},
   "outputs": [],
   "source": [
    "s = requests.Session()\n",
    "\n",
    "#s.headers['Content-Type'] = 'application/json'\n",
    "s.headers['Authorization'] = f'Bearer {access_token}'"
   ]
  },
  {
   "cell_type": "code",
   "execution_count": 166,
   "id": "1666b3bc",
   "metadata": {},
   "outputs": [],
   "source": [
    "def delete_row(datasetId,tableName):\n",
    "    return s.delete(f'https://api.powerbi.com/v1.0/myorg/datasets/{datasetId}/tables/{tableName}/rows')"
   ]
  },
  {
   "cell_type": "code",
   "execution_count": 167,
   "id": "badfa3f3",
   "metadata": {},
   "outputs": [],
   "source": [
    "datasetId='0f35f863-5c9c-4754-aa99-e4ef8198ce92'\n",
    "tableName='erp'\n"
   ]
  },
  {
   "cell_type": "code",
   "execution_count": 168,
   "id": "af00d4d1",
   "metadata": {},
   "outputs": [],
   "source": [
    "delete = delete_row(datasetId,tableName)"
   ]
  },
  {
   "cell_type": "code",
   "execution_count": 169,
   "id": "3e2977cd",
   "metadata": {},
   "outputs": [
    {
     "data": {
      "text/plain": [
       "<Response [200]>"
      ]
     },
     "execution_count": 169,
     "metadata": {},
     "output_type": "execute_result"
    }
   ],
   "source": [
    "delete"
   ]
  },
  {
   "cell_type": "code",
   "execution_count": 170,
   "id": "cbb6b0f0",
   "metadata": {},
   "outputs": [
    {
     "ename": "JSONDecodeError",
     "evalue": "Expecting value: line 1 column 1 (char 0)",
     "output_type": "error",
     "traceback": [
      "\u001b[1;31m---------------------------------------------------------------------------\u001b[0m",
      "\u001b[1;31mJSONDecodeError\u001b[0m                           Traceback (most recent call last)",
      "\u001b[1;32m~\\AppData\\Local\\Temp/ipykernel_24304/260443642.py\u001b[0m in \u001b[0;36m<module>\u001b[1;34m\u001b[0m\n\u001b[1;32m----> 1\u001b[1;33m \u001b[0mjson\u001b[0m\u001b[1;33m.\u001b[0m\u001b[0mloads\u001b[0m\u001b[1;33m(\u001b[0m\u001b[0mdelete\u001b[0m\u001b[1;33m.\u001b[0m\u001b[0mtext\u001b[0m\u001b[1;33m)\u001b[0m\u001b[1;33m\u001b[0m\u001b[1;33m\u001b[0m\u001b[0m\n\u001b[0m",
      "\u001b[1;32mc:\\users\\admin\\appdata\\local\\programs\\python\\python39\\lib\\json\\__init__.py\u001b[0m in \u001b[0;36mloads\u001b[1;34m(s, cls, object_hook, parse_float, parse_int, parse_constant, object_pairs_hook, **kw)\u001b[0m\n\u001b[0;32m    344\u001b[0m             \u001b[0mparse_int\u001b[0m \u001b[1;32mis\u001b[0m \u001b[1;32mNone\u001b[0m \u001b[1;32mand\u001b[0m \u001b[0mparse_float\u001b[0m \u001b[1;32mis\u001b[0m \u001b[1;32mNone\u001b[0m \u001b[1;32mand\u001b[0m\u001b[1;33m\u001b[0m\u001b[1;33m\u001b[0m\u001b[0m\n\u001b[0;32m    345\u001b[0m             parse_constant is None and object_pairs_hook is None and not kw):\n\u001b[1;32m--> 346\u001b[1;33m         \u001b[1;32mreturn\u001b[0m \u001b[0m_default_decoder\u001b[0m\u001b[1;33m.\u001b[0m\u001b[0mdecode\u001b[0m\u001b[1;33m(\u001b[0m\u001b[0ms\u001b[0m\u001b[1;33m)\u001b[0m\u001b[1;33m\u001b[0m\u001b[1;33m\u001b[0m\u001b[0m\n\u001b[0m\u001b[0;32m    347\u001b[0m     \u001b[1;32mif\u001b[0m \u001b[0mcls\u001b[0m \u001b[1;32mis\u001b[0m \u001b[1;32mNone\u001b[0m\u001b[1;33m:\u001b[0m\u001b[1;33m\u001b[0m\u001b[1;33m\u001b[0m\u001b[0m\n\u001b[0;32m    348\u001b[0m         \u001b[0mcls\u001b[0m \u001b[1;33m=\u001b[0m \u001b[0mJSONDecoder\u001b[0m\u001b[1;33m\u001b[0m\u001b[1;33m\u001b[0m\u001b[0m\n",
      "\u001b[1;32mc:\\users\\admin\\appdata\\local\\programs\\python\\python39\\lib\\json\\decoder.py\u001b[0m in \u001b[0;36mdecode\u001b[1;34m(self, s, _w)\u001b[0m\n\u001b[0;32m    335\u001b[0m \u001b[1;33m\u001b[0m\u001b[0m\n\u001b[0;32m    336\u001b[0m         \"\"\"\n\u001b[1;32m--> 337\u001b[1;33m         \u001b[0mobj\u001b[0m\u001b[1;33m,\u001b[0m \u001b[0mend\u001b[0m \u001b[1;33m=\u001b[0m \u001b[0mself\u001b[0m\u001b[1;33m.\u001b[0m\u001b[0mraw_decode\u001b[0m\u001b[1;33m(\u001b[0m\u001b[0ms\u001b[0m\u001b[1;33m,\u001b[0m \u001b[0midx\u001b[0m\u001b[1;33m=\u001b[0m\u001b[0m_w\u001b[0m\u001b[1;33m(\u001b[0m\u001b[0ms\u001b[0m\u001b[1;33m,\u001b[0m \u001b[1;36m0\u001b[0m\u001b[1;33m)\u001b[0m\u001b[1;33m.\u001b[0m\u001b[0mend\u001b[0m\u001b[1;33m(\u001b[0m\u001b[1;33m)\u001b[0m\u001b[1;33m)\u001b[0m\u001b[1;33m\u001b[0m\u001b[1;33m\u001b[0m\u001b[0m\n\u001b[0m\u001b[0;32m    338\u001b[0m         \u001b[0mend\u001b[0m \u001b[1;33m=\u001b[0m \u001b[0m_w\u001b[0m\u001b[1;33m(\u001b[0m\u001b[0ms\u001b[0m\u001b[1;33m,\u001b[0m \u001b[0mend\u001b[0m\u001b[1;33m)\u001b[0m\u001b[1;33m.\u001b[0m\u001b[0mend\u001b[0m\u001b[1;33m(\u001b[0m\u001b[1;33m)\u001b[0m\u001b[1;33m\u001b[0m\u001b[1;33m\u001b[0m\u001b[0m\n\u001b[0;32m    339\u001b[0m         \u001b[1;32mif\u001b[0m \u001b[0mend\u001b[0m \u001b[1;33m!=\u001b[0m \u001b[0mlen\u001b[0m\u001b[1;33m(\u001b[0m\u001b[0ms\u001b[0m\u001b[1;33m)\u001b[0m\u001b[1;33m:\u001b[0m\u001b[1;33m\u001b[0m\u001b[1;33m\u001b[0m\u001b[0m\n",
      "\u001b[1;32mc:\\users\\admin\\appdata\\local\\programs\\python\\python39\\lib\\json\\decoder.py\u001b[0m in \u001b[0;36mraw_decode\u001b[1;34m(self, s, idx)\u001b[0m\n\u001b[0;32m    353\u001b[0m             \u001b[0mobj\u001b[0m\u001b[1;33m,\u001b[0m \u001b[0mend\u001b[0m \u001b[1;33m=\u001b[0m \u001b[0mself\u001b[0m\u001b[1;33m.\u001b[0m\u001b[0mscan_once\u001b[0m\u001b[1;33m(\u001b[0m\u001b[0ms\u001b[0m\u001b[1;33m,\u001b[0m \u001b[0midx\u001b[0m\u001b[1;33m)\u001b[0m\u001b[1;33m\u001b[0m\u001b[1;33m\u001b[0m\u001b[0m\n\u001b[0;32m    354\u001b[0m         \u001b[1;32mexcept\u001b[0m \u001b[0mStopIteration\u001b[0m \u001b[1;32mas\u001b[0m \u001b[0merr\u001b[0m\u001b[1;33m:\u001b[0m\u001b[1;33m\u001b[0m\u001b[1;33m\u001b[0m\u001b[0m\n\u001b[1;32m--> 355\u001b[1;33m             \u001b[1;32mraise\u001b[0m \u001b[0mJSONDecodeError\u001b[0m\u001b[1;33m(\u001b[0m\u001b[1;34m\"Expecting value\"\u001b[0m\u001b[1;33m,\u001b[0m \u001b[0ms\u001b[0m\u001b[1;33m,\u001b[0m \u001b[0merr\u001b[0m\u001b[1;33m.\u001b[0m\u001b[0mvalue\u001b[0m\u001b[1;33m)\u001b[0m \u001b[1;32mfrom\u001b[0m \u001b[1;32mNone\u001b[0m\u001b[1;33m\u001b[0m\u001b[1;33m\u001b[0m\u001b[0m\n\u001b[0m\u001b[0;32m    356\u001b[0m         \u001b[1;32mreturn\u001b[0m \u001b[0mobj\u001b[0m\u001b[1;33m,\u001b[0m \u001b[0mend\u001b[0m\u001b[1;33m\u001b[0m\u001b[1;33m\u001b[0m\u001b[0m\n",
      "\u001b[1;31mJSONDecodeError\u001b[0m: Expecting value: line 1 column 1 (char 0)"
     ]
    }
   ],
   "source": [
    "json.loads(delete.text)"
   ]
  },
  {
   "cell_type": "markdown",
   "id": "74317156",
   "metadata": {},
   "source": [
    "# create relationship in dataset powerBi"
   ]
  },
  {
   "cell_type": "code",
   "execution_count": 8,
   "id": "e4da0730",
   "metadata": {},
   "outputs": [],
   "source": [
    "#date dimension\n",
    "date_columns =[\n",
    "  { 'name': 'date', 'dataType': 'DateTime','formatString':\"dd/mm/yyyy\"},\n",
    "  { 'name': 'week_day', 'dataType': 'string'},\n",
    "  { 'name': 'day', 'dataType': 'Int64'},\n",
    "  { 'name': 'month', 'dataType': 'Int64'},\n",
    "  { 'name': 'year', 'dataType': 'Int64'},\n",
    "  { 'name': 'week', 'dataType': 'Int64'},\n",
    "  { 'name': 'quarter', 'dataType': 'Int64'}\n",
    "]\n",
    "\n",
    "    \n",
    "      "
   ]
  },
  {
   "cell_type": "code",
   "execution_count": 9,
   "id": "144f52ec",
   "metadata": {},
   "outputs": [],
   "source": [
    "#Time dimension\n",
    "time_columns = [{ 'name': 'Time', 'dataType': 'DateTime','formatString': \"h:nn:ss\"},\n",
    "  { 'name': 'hour', 'dataType': 'Int64'},\n",
    "  { 'name': 'minutes', 'dataType': 'Int64'},\n",
    "  { 'name': 'second', 'dataType': 'Int64'}\n",
    "]\n",
    "    \n",
    "      "
   ]
  },
  {
   "cell_type": "code",
   "execution_count": 124,
   "id": "1ff11056",
   "metadata": {},
   "outputs": [],
   "source": [
    "def get_TypeOfColumns(dataframe): #convert type of columns to map with powerbi\n",
    "    erp_dtypes = dataframe.dtypes.to_frame(name ='dtypes').reset_index()\n",
    "    list_col = []\n",
    "    for i in range(len(erp_dtypes)):\n",
    "        if erp_dtypes.iloc[i]['dtypes'] == 'object':\n",
    "            list_col.append({'name':erp_dtypes.iloc[i]['index'],'dataType':'string'})\n",
    "        if erp_dtypes.iloc[i]['dtypes'] == 'float':\n",
    "            list_col.append({'name':erp_dtypes.iloc[i]['index'],'dataType':'decimal'})\n",
    "        if erp_dtypes.iloc[i]['dtypes'] == 'int':\n",
    "            list_col.append({'name':erp_dtypes.iloc[i]['index'],'dataType':'Int64'})\n",
    "    return list_col"
   ]
  },
  {
   "cell_type": "code",
   "execution_count": 45,
   "id": "8c78ef24",
   "metadata": {},
   "outputs": [
    {
     "data": {
      "text/plain": [
       "[{'name': 'anonymous_id', 'dataType': 'string'},\n",
       " {'name': 'at', 'dataType': 'string'},\n",
       " {'name': 'ngay_ct', 'dataType': 'string'},\n",
       " {'name': 'gio_gh', 'dataType': 'string'},\n",
       " {'name': 'order_value', 'dataType': 'string'},\n",
       " {'name': 't_tien_sau_ck', 'dataType': 'string'},\n",
       " {'name': 'so_luong', 'dataType': 'string'},\n",
       " {'name': 'stt_rec', 'dataType': 'string'},\n",
       " {'name': 'dich_vu', 'dataType': 'string'},\n",
       " {'name': 'dvt', 'dataType': 'string'},\n",
       " {'name': 'nguon_dh', 'dataType': 'string'},\n",
       " {'name': 'status', 'dataType': 'string'},\n",
       " {'name': 'ma_vt2', 'dataType': 'string'},\n",
       " {'name': 'ma_ct_km', 'dataType': 'string'},\n",
       " {'name': 'ten_ct_km', 'dataType': 'string'},\n",
       " {'name': 'nh_dvcs1', 'dataType': 'string'},\n",
       " {'name': 'nh_dvcs3', 'dataType': 'string'},\n",
       " {'name': 'gender', 'dataType': 'string'},\n",
       " {'name': 'Province', 'dataType': 'string'},\n",
       " {'name': 'card_tier_name', 'dataType': 'string'},\n",
       " {'name': 'dob', 'dataType': 'string'},\n",
       " {'name': 'age', 'dataType': 'string'},\n",
       " {'name': 'interval_age', 'dataType': 'string'},\n",
       " {'name': 'ma_vt', 'dataType': 'string'},\n",
       " {'name': 'nh_vt2', 'dataType': 'string'},\n",
       " {'name': 'nh_vt5', 'dataType': 'string'},\n",
       " {'name': 'nh_vt8', 'dataType': 'string'},\n",
       " {'name': 'nh_vt10', 'dataType': 'string'},\n",
       " {'name': 'nh_vt12', 'dataType': 'string'},\n",
       " {'name': 'nh_vt13', 'dataType': 'string'},\n",
       " {'name': 'nh_vt14', 'dataType': 'string'}]"
      ]
     },
     "execution_count": 45,
     "metadata": {},
     "output_type": "execute_result"
    }
   ],
   "source": [
    "get_TypeOfColumns(erp3)"
   ]
  },
  {
   "cell_type": "code",
   "execution_count": 10,
   "id": "e3e67541",
   "metadata": {},
   "outputs": [],
   "source": [
    "#erp columns\n",
    "erp_columns = [{'name': 'anonymous_id', 'dataType': 'string'},\n",
    "  {'name': 'ngay_ct', 'dataType': 'Datetime','formatString':\"dd/mm/yyyy\"},\n",
    "  {'name': 'gio_gh', 'dataType': 'Datetime','formatString': \"h:nn:ss\"},\n",
    "  {'name': 'order_value', 'dataType': 'decimal'},\n",
    "  {'name': 't_tien_sau_ck', 'dataType': 'decimal'},\n",
    "  {'name': 'so_luong', 'dataType': 'decimal'},\n",
    "  {'name': 'stt_rec', 'dataType': 'string'},\n",
    "  {'name': 'dich_vu', 'dataType': 'string'},\n",
    "  {'name': 'dvt', 'dataType': 'string'},\n",
    "  {'name': 'nguon_dh', 'dataType': 'string'},\n",
    "  {'name': 'status', 'dataType': 'string'},\n",
    "  {'name': 'ma_vt', 'dataType': 'string'},\n",
    "  {'name': 'ma_vt2', 'dataType': 'string'},\n",
    "  {'name': 'ma_ct_km', 'dataType': 'string'},\n",
    "  {'name': 'ten_ct_km', 'dataType': 'string'},\n",
    "  {'name': 'nh_dvcs1', 'dataType': 'string'},\n",
    "  {'name': 'nh_dvcs3', 'dataType': 'string'},\n",
    "  {'name': 'gender', 'dataType': 'string'},\n",
    "  {'name': 'Province', 'dataType': 'string'},\n",
    "  {'name': 'card_tier_name', 'dataType': 'string'},\n",
    "  {'name': 'interval_age', 'dataType': 'string'},\n",
    "  {'name': 'nh_vt2', 'dataType': 'string'},\n",
    "  {'name': 'nh_vt5', 'dataType': 'string'},\n",
    "  {'name': 'nh_vt8', 'dataType': 'string'},\n",
    "  {'name': 'nh_vt10', 'dataType': 'string'},\n",
    "  {'name': 'nh_vt12', 'dataType': 'string'},\n",
    "  {'name': 'nh_vt13', 'dataType': 'string'},\n",
    "  {'name': 'nh_vt14', 'dataType': 'string'}]"
   ]
  },
  {
   "cell_type": "code",
   "execution_count": 43,
   "id": "fabc2aa9",
   "metadata": {},
   "outputs": [],
   "source": [
    "#get columns product in postges\n",
    "import pandas as pd"
   ]
  },
  {
   "cell_type": "code",
   "execution_count": 11,
   "id": "12669254",
   "metadata": {
    "code_folding": []
   },
   "outputs": [],
   "source": [
    "product_columns=[{'name': 'ma_vt', 'dataType': 'string'},\n",
    "  {'name': 'ma_vt2', 'dataType': 'string'},\n",
    "  {'name': 'ten_vt', 'dataType': 'string'},\n",
    "  {'name': 'ten_vt2', 'dataType': 'string'},\n",
    "  {'name': 'dvt', 'dataType': 'string'},\n",
    "  {'name': 'nh_vt1', 'dataType': 'string'},\n",
    "  {'name': 'nh_vt2', 'dataType': 'string'},\n",
    "  {'name': 'nh_vt3', 'dataType': 'string'},\n",
    "  {'name': 'nh_vt4', 'dataType': 'string'},\n",
    "  {'name': 'nh_vt5', 'dataType': 'string'},\n",
    "  {'name': 'nh_vt6', 'dataType': 'string'},\n",
    "  {'name': 'nh_vt7', 'dataType': 'string'},\n",
    "  {'name': 'nh_vt8', 'dataType': 'string'},\n",
    "  {'name': 'nh_vt9', 'dataType': 'string'},\n",
    "  {'name': 'nh_vt10', 'dataType': 'string'},\n",
    "  {'name': 'nh_vt11', 'dataType': 'string'},\n",
    "  {'name': 'nh_vt12', 'dataType': 'string'},\n",
    "  {'name': 'nh_vt13', 'dataType': 'string'},\n",
    "  {'name': 'nh_vt14', 'dataType': 'string'},\n",
    "  {'name': 'nh_vt15', 'dataType': 'string'},\n",
    "  {'name': 'nh_vt16', 'dataType': 'string'},\n",
    "  {'name': 'nh_vt17', 'dataType': 'string'},\n",
    "  {'name': 'nh_vt18', 'dataType': 'string'},\n",
    "  {'name': 'nh_vt19', 'dataType': 'string'},\n",
    "  {'name': 'nh_vt20', 'dataType': 'string'},\n",
    "  {'name': 'nh_vt21', 'dataType': 'string'},\n",
    "  {'name': 'ten_nh_vt1', 'dataType': 'string'},\n",
    "  {'name': 'ten_nh_vt2', 'dataType': 'string'},\n",
    "  {'name': 'ten_nh_vt3', 'dataType': 'string'},\n",
    "  {'name': 'ten_nh_vt4', 'dataType': 'string'},\n",
    "  {'name': 'ten_nh_vt5', 'dataType': 'string'},\n",
    "  {'name': 'ten_nh_vt6', 'dataType': 'string'},\n",
    "  {'name': 'ten_nh_vt7', 'dataType': 'string'},\n",
    "  {'name': 'ten_nh_vt8', 'dataType': 'string'},\n",
    "  {'name': 'ten_nh_vt9', 'dataType': 'string'},\n",
    "  {'name': 'ten_nh_vt10', 'dataType': 'string'},\n",
    "  {'name': 'ten_nh_vt11', 'dataType': 'string'},\n",
    "  {'name': 'ten_nh_vt12', 'dataType': 'string'},\n",
    "  {'name': 'ten_nh_vt13', 'dataType': 'string'},\n",
    "  {'name': 'ten_nh_vt14', 'dataType': 'string'},\n",
    "  {'name': 'ten_nh_vt15', 'dataType': 'string'},\n",
    "  {'name': 'ten_nh_vt16', 'dataType': 'string'},\n",
    "  {'name': 'ten_nh_vt17', 'dataType': 'string'},\n",
    "  {'name': 'ten_nh_vt18', 'dataType': 'string'},\n",
    "  {'name': 'ten_nh_vt19', 'dataType': 'string'},\n",
    "  {'name': 'ten_nh_vt20', 'dataType': 'string'},\n",
    "  {'name': 'ten_nh_vt21', 'dataType': 'string'},\n",
    "  {'name': 'ghi_chu', 'dataType': 'string'},\n",
    "  {'name': 'status', 'dataType': 'string'}]"
   ]
  },
  {
   "cell_type": "code",
   "execution_count": 12,
   "id": "140bd0f2",
   "metadata": {},
   "outputs": [
    {
     "data": {
      "text/plain": [
       "{'name': 'user', 'columns': [{'name': 'user_id', 'dataType': 'string'}]}"
      ]
     },
     "execution_count": 12,
     "metadata": {},
     "output_type": "execute_result"
    }
   ],
   "source": [
    "#user\n",
    "{'name': 'user', 'columns':[{'name': 'user_id','dataType':'string'}]}"
   ]
  },
  {
   "cell_type": "code",
   "execution_count": 13,
   "id": "028594ef",
   "metadata": {},
   "outputs": [],
   "source": [
    "fact_segment_columns = [\n",
    "    {'name':'user_id','dataType':'string'},\n",
    "    {'name':'segment_transform','dataType':'string'}\n",
    "]"
   ]
  },
  {
   "cell_type": "code",
   "execution_count": 14,
   "id": "10b160ee",
   "metadata": {},
   "outputs": [],
   "source": [
    "dim_segment_columns=[\n",
    "    {'name':'segment_id','dataType':'string'},\n",
    "    {'name':'name','dataType':'string'},\n",
    "    {'name':'segment_transform','dataType':'string'},\n",
    "    {'name':'at','dataType':'DateTime'},\n",
    "]"
   ]
  },
  {
   "cell_type": "code",
   "execution_count": 15,
   "id": "02a86bde",
   "metadata": {},
   "outputs": [
    {
     "ename": "NameError",
     "evalue": "name 'segment_columns' is not defined",
     "output_type": "error",
     "traceback": [
      "\u001b[1;31m---------------------------------------------------------------------------\u001b[0m",
      "\u001b[1;31mNameError\u001b[0m                                 Traceback (most recent call last)",
      "\u001b[1;32m~\\AppData\\Local\\Temp/ipykernel_24540/2149640320.py\u001b[0m in \u001b[0;36m<module>\u001b[1;34m\u001b[0m\n\u001b[0;32m      8\u001b[0m           \u001b[1;33m{\u001b[0m\u001b[1;34m'name'\u001b[0m\u001b[1;33m:\u001b[0m \u001b[1;34m'product'\u001b[0m\u001b[1;33m,\u001b[0m \u001b[1;34m'columns'\u001b[0m\u001b[1;33m:\u001b[0m \u001b[0mproduct_columns\u001b[0m\u001b[1;33m}\u001b[0m\u001b[1;33m,\u001b[0m\u001b[1;33m\u001b[0m\u001b[1;33m\u001b[0m\u001b[0m\n\u001b[0;32m      9\u001b[0m           \u001b[1;33m{\u001b[0m\u001b[1;34m'name'\u001b[0m\u001b[1;33m:\u001b[0m \u001b[1;34m'user'\u001b[0m\u001b[1;33m,\u001b[0m \u001b[1;34m'columns'\u001b[0m\u001b[1;33m:\u001b[0m\u001b[1;33m[\u001b[0m\u001b[1;33m{\u001b[0m\u001b[1;34m'name'\u001b[0m\u001b[1;33m:\u001b[0m \u001b[1;34m'user_id'\u001b[0m\u001b[1;33m,\u001b[0m\u001b[1;34m'dataType'\u001b[0m\u001b[1;33m:\u001b[0m\u001b[1;34m'string'\u001b[0m\u001b[1;33m}\u001b[0m\u001b[1;33m]\u001b[0m\u001b[1;33m}\u001b[0m\u001b[1;33m,\u001b[0m\u001b[1;33m\u001b[0m\u001b[1;33m\u001b[0m\u001b[0m\n\u001b[1;32m---> 10\u001b[1;33m           \u001b[1;33m{\u001b[0m\u001b[1;34m'name'\u001b[0m\u001b[1;33m:\u001b[0m \u001b[1;34m'segment'\u001b[0m\u001b[1;33m,\u001b[0m \u001b[1;34m'columns'\u001b[0m\u001b[1;33m:\u001b[0m\u001b[0msegment_columns\u001b[0m\u001b[1;33m}\u001b[0m\u001b[1;33m,\u001b[0m\u001b[1;33m\u001b[0m\u001b[1;33m\u001b[0m\u001b[0m\n\u001b[0m\u001b[0;32m     11\u001b[0m           \u001b[1;33m{\u001b[0m\u001b[1;34m'name'\u001b[0m\u001b[1;33m:\u001b[0m \u001b[1;34m'dim_segment'\u001b[0m\u001b[1;33m,\u001b[0m \u001b[1;34m'columns'\u001b[0m\u001b[1;33m:\u001b[0m\u001b[0mdim_segment_columns\u001b[0m\u001b[1;33m}\u001b[0m\u001b[1;33m\u001b[0m\u001b[1;33m\u001b[0m\u001b[0m\n\u001b[0;32m     12\u001b[0m       ]\n",
      "\u001b[1;31mNameError\u001b[0m: name 'segment_columns' is not defined"
     ]
    }
   ],
   "source": [
    "#Create Json data include Dataset_name, table name, columns name and columns types\n",
    "result={\n",
    "      'name': 'dev_test_segment_dashboard',\n",
    "      'tables': [\n",
    "          {'name': 'date', 'columns':date_columns},\n",
    "          {'name': 'time', 'columns':time_columns},\n",
    "          {'name': 'erp', 'columns':erp_columns},\n",
    "          {'name': 'product', 'columns': product_columns},\n",
    "          {'name': 'user', 'columns':[{'name': 'user_id','dataType':'string'}]},\n",
    "          {'name': 'segment', 'columns':segment_columns},\n",
    "          {'name': 'dim_segment', 'columns':dim_segment_columns}\n",
    "      ]\n",
    "      }\n"
   ]
  },
  {
   "cell_type": "code",
   "execution_count": 77,
   "id": "c46bc0f5",
   "metadata": {},
   "outputs": [],
   "source": [
    "#Create Json data include Dataset_name, table name, columns name and columns types\n",
    "result={\n",
    "      'name': 'dev_test_segment_dashboard',\n",
    "      'tables': [\n",
    "          {'name': 'date', 'columns':date_columns},\n",
    "          {'name': 'time', 'columns':time_columns}\n",
    "      ]\n",
    "      }\n"
   ]
  },
  {
   "cell_type": "markdown",
   "id": "7db82e1f",
   "metadata": {},
   "source": [
    "# import state to postgres "
   ]
  },
  {
   "cell_type": "code",
   "execution_count": 1,
   "id": "9377a6fd",
   "metadata": {},
   "outputs": [],
   "source": [
    "import psycopg2"
   ]
  },
  {
   "cell_type": "code",
   "execution_count": 2,
   "id": "c6652945",
   "metadata": {},
   "outputs": [],
   "source": [
    "conn = psycopg2.connect(\n",
    "    host=\"localhost\",\n",
    "    user=\"pd\",\n",
    "    password=\"iloveprimedata\",\n",
    "    dbname='eventify_stag',\n",
    "    port=45432)"
   ]
  },
  {
   "cell_type": "code",
   "execution_count": 23,
   "id": "646c9aac",
   "metadata": {},
   "outputs": [
    {
     "ename": "OperationalError",
     "evalue": "connection to server at \"localhost\" (::1), port 45432 failed: Connection refused (0x0000274D/10061)\n\tIs the server running on that host and accepting TCP/IP connections?\nconnection to server at \"localhost\" (127.0.0.1), port 45432 failed: Connection refused (0x0000274D/10061)\n\tIs the server running on that host and accepting TCP/IP connections?\n",
     "output_type": "error",
     "traceback": [
      "\u001b[1;31m---------------------------------------------------------------------------\u001b[0m",
      "\u001b[1;31mOperationalError\u001b[0m                          Traceback (most recent call last)",
      "\u001b[1;32m~\\AppData\\Local\\Temp/ipykernel_26408/1287962400.py\u001b[0m in \u001b[0;36m<module>\u001b[1;34m\u001b[0m\n\u001b[1;32m----> 1\u001b[1;33m conn = psycopg2.connect(\n\u001b[0m\u001b[0;32m      2\u001b[0m     \u001b[0mhost\u001b[0m\u001b[1;33m=\u001b[0m\u001b[1;34m\"localhost\"\u001b[0m\u001b[1;33m,\u001b[0m\u001b[1;33m\u001b[0m\u001b[1;33m\u001b[0m\u001b[0m\n\u001b[0;32m      3\u001b[0m     \u001b[0muser\u001b[0m\u001b[1;33m=\u001b[0m\u001b[1;34m\"primedata\"\u001b[0m\u001b[1;33m,\u001b[0m\u001b[1;33m\u001b[0m\u001b[1;33m\u001b[0m\u001b[0m\n\u001b[0;32m      4\u001b[0m     \u001b[0mpassword\u001b[0m\u001b[1;33m=\u001b[0m\u001b[1;34m\"primedata10101!\"\u001b[0m\u001b[1;33m,\u001b[0m\u001b[1;33m\u001b[0m\u001b[1;33m\u001b[0m\u001b[0m\n\u001b[0;32m      5\u001b[0m     \u001b[0mdatabase\u001b[0m\u001b[1;33m=\u001b[0m \u001b[1;34m'eventify_stag'\u001b[0m\u001b[1;33m,\u001b[0m\u001b[1;33m\u001b[0m\u001b[1;33m\u001b[0m\u001b[0m\n",
      "\u001b[1;32mc:\\users\\admin\\appdata\\local\\programs\\python\\python39\\lib\\site-packages\\psycopg2\\__init__.py\u001b[0m in \u001b[0;36mconnect\u001b[1;34m(dsn, connection_factory, cursor_factory, **kwargs)\u001b[0m\n\u001b[0;32m    120\u001b[0m \u001b[1;33m\u001b[0m\u001b[0m\n\u001b[0;32m    121\u001b[0m     \u001b[0mdsn\u001b[0m \u001b[1;33m=\u001b[0m \u001b[0m_ext\u001b[0m\u001b[1;33m.\u001b[0m\u001b[0mmake_dsn\u001b[0m\u001b[1;33m(\u001b[0m\u001b[0mdsn\u001b[0m\u001b[1;33m,\u001b[0m \u001b[1;33m**\u001b[0m\u001b[0mkwargs\u001b[0m\u001b[1;33m)\u001b[0m\u001b[1;33m\u001b[0m\u001b[1;33m\u001b[0m\u001b[0m\n\u001b[1;32m--> 122\u001b[1;33m     \u001b[0mconn\u001b[0m \u001b[1;33m=\u001b[0m \u001b[0m_connect\u001b[0m\u001b[1;33m(\u001b[0m\u001b[0mdsn\u001b[0m\u001b[1;33m,\u001b[0m \u001b[0mconnection_factory\u001b[0m\u001b[1;33m=\u001b[0m\u001b[0mconnection_factory\u001b[0m\u001b[1;33m,\u001b[0m \u001b[1;33m**\u001b[0m\u001b[0mkwasync\u001b[0m\u001b[1;33m)\u001b[0m\u001b[1;33m\u001b[0m\u001b[1;33m\u001b[0m\u001b[0m\n\u001b[0m\u001b[0;32m    123\u001b[0m     \u001b[1;32mif\u001b[0m \u001b[0mcursor_factory\u001b[0m \u001b[1;32mis\u001b[0m \u001b[1;32mnot\u001b[0m \u001b[1;32mNone\u001b[0m\u001b[1;33m:\u001b[0m\u001b[1;33m\u001b[0m\u001b[1;33m\u001b[0m\u001b[0m\n\u001b[0;32m    124\u001b[0m         \u001b[0mconn\u001b[0m\u001b[1;33m.\u001b[0m\u001b[0mcursor_factory\u001b[0m \u001b[1;33m=\u001b[0m \u001b[0mcursor_factory\u001b[0m\u001b[1;33m\u001b[0m\u001b[1;33m\u001b[0m\u001b[0m\n",
      "\u001b[1;31mOperationalError\u001b[0m: connection to server at \"localhost\" (::1), port 45432 failed: Connection refused (0x0000274D/10061)\n\tIs the server running on that host and accepting TCP/IP connections?\nconnection to server at \"localhost\" (127.0.0.1), port 45432 failed: Connection refused (0x0000274D/10061)\n\tIs the server running on that host and accepting TCP/IP connections?\n"
     ]
    }
   ],
   "source": [
    "conn = psycopg2.connect(\n",
    "    host=\"localhost\",\n",
    "    user=\"primedata\",\n",
    "    password=\"primedata10101!\",\n",
    "    database= 'eventify_stag',\n",
    "    port=45432)"
   ]
  },
  {
   "cell_type": "code",
   "execution_count": 8,
   "id": "fce3cc3e",
   "metadata": {},
   "outputs": [],
   "source": [
    "conn = psycopg2.connect(\n",
    "    host=\"localhost\",\n",
    "    user=\"postgres\",\n",
    "    password=\"concac123\",\n",
    "    port=5432)"
   ]
  },
  {
   "cell_type": "code",
   "execution_count": 4,
   "id": "00ee369e",
   "metadata": {},
   "outputs": [],
   "source": [
    "cur = conn.cursor()"
   ]
  },
  {
   "cell_type": "code",
   "execution_count": 10,
   "id": "872ee5fb",
   "metadata": {},
   "outputs": [],
   "source": [
    "sql_query = \"\"\"CREATE TABLE ManageState (\n",
    "  id serial NOT NULL PRIMARY KEY,\n",
    "  datasetId text NOT NULL,\n",
    "  object json NOT NULL,\n",
    "  timestamp timestamp default current_timestamp\n",
    ")\"\"\""
   ]
  },
  {
   "cell_type": "code",
   "execution_count": 16,
   "id": "f93924e7",
   "metadata": {},
   "outputs": [],
   "source": [
    "stateObj={\n",
    "    'erp':{\n",
    "        'at': '2020-01-02 00:00:00'\n",
    "    },\n",
    "    'segment': {\n",
    "        'segment_start_time': '',\n",
    "        'segment_id': '',\n",
    "        'user': ''\n",
    "    },\n",
    "    'segment_name': {\n",
    "        'start_time': '',\n",
    "        'end_time': '',\n",
    "        'user_id': ''\n",
    "    },\n",
    "    'user_id': {\n",
    "        'user': ''\n",
    "    },\n",
    "    'product':{}\n",
    "}"
   ]
  },
  {
   "cell_type": "code",
   "execution_count": 11,
   "id": "bfe145c1",
   "metadata": {},
   "outputs": [],
   "source": [
    "cur.execute(sql_query)"
   ]
  },
  {
   "cell_type": "code",
   "execution_count": 12,
   "id": "8810ceef",
   "metadata": {},
   "outputs": [],
   "source": [
    "cur.execute('select * from ManageState')"
   ]
  },
  {
   "cell_type": "code",
   "execution_count": 13,
   "id": "c1dfe332",
   "metadata": {},
   "outputs": [
    {
     "data": {
      "text/plain": [
       "[]"
      ]
     },
     "execution_count": 13,
     "metadata": {},
     "output_type": "execute_result"
    }
   ],
   "source": [
    "cur.fetchall()"
   ]
  },
  {
   "cell_type": "code",
   "execution_count": 14,
   "id": "75cb3a5d",
   "metadata": {},
   "outputs": [],
   "source": [
    "import json"
   ]
  },
  {
   "cell_type": "code",
   "execution_count": 19,
   "id": "18d7004a",
   "metadata": {},
   "outputs": [],
   "source": [
    "dumped_stateObj = json.dumps(stateObj)"
   ]
  },
  {
   "cell_type": "code",
   "execution_count": 20,
   "id": "c81f3df4",
   "metadata": {},
   "outputs": [
    {
     "ename": "NameError",
     "evalue": "name 'obj1' is not defined",
     "output_type": "error",
     "traceback": [
      "\u001b[1;31m---------------------------------------------------------------------------\u001b[0m",
      "\u001b[1;31mNameError\u001b[0m                                 Traceback (most recent call last)",
      "\u001b[1;32m~\\AppData\\Local\\Temp/ipykernel_26408/1464183480.py\u001b[0m in \u001b[0;36m<module>\u001b[1;34m\u001b[0m\n\u001b[0;32m      1\u001b[0m \u001b[0minsert_query\u001b[0m \u001b[1;33m=\u001b[0m \u001b[1;34m\"\"\"INSERT INTO ManageState (\"object\") VALUES (%s)\"\"\"\u001b[0m\u001b[1;33m\u001b[0m\u001b[1;33m\u001b[0m\u001b[0m\n\u001b[1;32m----> 2\u001b[1;33m \u001b[0mrecord_insert\u001b[0m \u001b[1;33m=\u001b[0m \u001b[1;33m(\u001b[0m\u001b[0mobj1\u001b[0m\u001b[1;33m,\u001b[0m\u001b[1;33m)\u001b[0m\u001b[1;33m\u001b[0m\u001b[1;33m\u001b[0m\u001b[0m\n\u001b[0m",
      "\u001b[1;31mNameError\u001b[0m: name 'obj1' is not defined"
     ]
    }
   ],
   "source": [
    "insert_query = \"\"\"INSERT INTO ManageState (\"datasetId,object\") VALUES (%s)\"\"\"\n",
    "record_insert = (obj1,)"
   ]
  },
  {
   "cell_type": "code",
   "execution_count": null,
   "id": "0ac8d84a",
   "metadata": {},
   "outputs": [],
   "source": [
    "cur.execute(insert_query,record_insert)"
   ]
  },
  {
   "cell_type": "markdown",
   "id": "9e4bd152",
   "metadata": {},
   "source": [
    "# create dataset"
   ]
  },
  {
   "cell_type": "code",
   "execution_count": 4,
   "id": "976b4ed7",
   "metadata": {},
   "outputs": [
    {
     "name": "stdout",
     "output_type": "stream",
     "text": [
      "{'@odata.context': 'http://wabi-south-east-asia-b-primary-redirect.analysis.windows.net/v1.0/myorg/$metadata#groups', '@odata.count': 3, 'value': [{'id': '7da7604f-20b3-49c0-aee5-6eb0c2cc010d', 'isReadOnly': False, 'isOnDedicatedCapacity': False, 'type': 'Workspace', 'name': 'Default'}, {'id': '66871624-e0e7-4314-92ca-24e2864597b6', 'isReadOnly': False, 'isOnDedicatedCapacity': False, 'type': 'Workspace', 'name': 'aristino'}, {'id': 'f1d27fc1-a8ca-40fa-aca9-19c1e277384f', 'isReadOnly': False, 'isOnDedicatedCapacity': False, 'type': 'Workspace', 'name': 'dev_Test'}]}\n"
     ]
    }
   ],
   "source": [
    "import msal\n",
    "import requests\n",
    "import json\n",
    "\n",
    "# --------------------------------------------------\n",
    "# Set local variables\n",
    "# --------------------------------------------------\n",
    "client_id='b1e937d4-ade0-4aec-ba94-529a143c9cc1'\n",
    "username = 'integration@primedata.ai'\n",
    "password = 'SbSetznmvEepvEvehDnO@'\n",
    "authority_url = 'https://login.microsoftonline.com/primedata.ai'\n",
    "scope = [\"https://analysis.windows.net/powerbi/api/.default\"]\n",
    "url_groups = 'https://api.powerbi.com/v1.0/myorg/groups'\n",
    "\n",
    "# --------------------------------------------------\n",
    "# Use MSAL to grab a token\n",
    "# --------------------------------------------------\n",
    "app = msal.PublicClientApplication(client_id, authority=authority_url)\n",
    "result = app.acquire_token_by_username_password(username=username,password=password,scopes=scope)\n",
    "\n",
    "# --------------------------------------------------\n",
    "# Check if a token was obtained, grab it and call the\n",
    "# Power BI REST API, otherwise throw up the error message\n",
    "# --------------------------------------------------\n",
    "if 'access_token' in result:\n",
    "    access_token = result['access_token']\n",
    "    header = {'Content-Type':'application/json','Authorization': f'Bearer {access_token}'}\n",
    "    api_out = requests.get(url=url_groups, headers=header)\n",
    "    print(api_out.json())\n",
    "else:\n",
    "    print(result.get(\"error\"))\n",
    "    print(result.get(\"error_description\"))"
   ]
  },
  {
   "cell_type": "code",
   "execution_count": 5,
   "id": "4dfd87b4",
   "metadata": {},
   "outputs": [],
   "source": [
    "s = requests.Session()"
   ]
  },
  {
   "cell_type": "code",
   "execution_count": 6,
   "id": "50682e59",
   "metadata": {},
   "outputs": [],
   "source": [
    "#s.headers['Content-Type'] = 'application/json'\n",
    "s.headers['Authorization'] = f'Bearer {access_token}'"
   ]
  },
  {
   "cell_type": "code",
   "execution_count": 16,
   "id": "35592213",
   "metadata": {},
   "outputs": [],
   "source": [
    "#Create Json data include Dataset_name, table name, columns name and columns types\n",
    "result={\n",
    "      'name': 'dev_test_segment_dashboard',\n",
    "      'tables': [\n",
    "          {'name': 'dim_date', 'columns':date_columns},\n",
    "          {'name': 'dim_time', 'columns':time_columns},\n",
    "          {'name': 'erp', 'columns':erp_columns},\n",
    "          {'name': 'product', 'columns': product_columns},\n",
    "          {'name': 'user', 'columns':[{'name': 'user_id','dataType':'string'}]},\n",
    "          {'name': 'fact_segment', 'columns':fact_segment_columns},\n",
    "          {'name': 'dim_segment', 'columns':dim_segment_columns}],\n",
    "        \"relationships\": [\n",
    "            {'name': 'filter_ngay_ct',\n",
    "             'fromTable': 'erp',\n",
    "             'fromColumn': 'ngay_ct',\n",
    "             'toTable': 'dim_date',\n",
    "             'toColumn': 'date',\n",
    "             \"crossFilteringBehavior\": 'OneDirection'},\n",
    "            {'name': 'filter_gio_gh',\n",
    "             'fromTable': 'erp',\n",
    "             'fromColumn': 'gio_gh',\n",
    "             'toTable': 'dim_time',\n",
    "             'toColumn': 'time',\n",
    "             \"crossFilteringBehavior\": 'OneDirection'},\n",
    "            {'name': 'purchases_product',\n",
    "             'fromTable': 'erp',\n",
    "             'fromColumn': 'ma_vt',\n",
    "             'toTable': 'product',\n",
    "             'toColumn': 'ma_vt',\n",
    "             \"crossFilteringBehavior\": 'OneDirection'},\n",
    "            {'name': 'User_buying',\n",
    "             'fromTable': 'erp',\n",
    "             'fromColumn': 'anonymous_id',\n",
    "             'toTable': 'user',\n",
    "             'toColumn': 'user_id',\n",
    "             \"crossFilteringBehavior\": 'OneDirection'},\n",
    "            {'name': 'segment_user',\n",
    "             'fromTable': 'user',\n",
    "             'fromColumn': 'user_id',\n",
    "             'toTable': 'fact_segment',\n",
    "             'toColumn': 'user_id',\n",
    "             \"crossFilteringBehavior\": 'BothDirections'},\n",
    "            {'name': 'filter_segment',\n",
    "             'fromTable': 'fact_segment',\n",
    "             'fromColumn': 'segment_transform',\n",
    "             'toTable': 'dim_segment',\n",
    "             'toColumn': 'segment_transform',\n",
    "             \"crossFilteringBehavior\": 'OneDirection'}\n",
    "              \n",
    "        ]\n",
    "      }\n"
   ]
  },
  {
   "cell_type": "code",
   "execution_count": 41,
   "id": "d6cd8c32",
   "metadata": {},
   "outputs": [],
   "source": [
    "def create_dataset(data):\n",
    "    data = json.dumps(data)\n",
    "    resp = s.post('https://api.powerbi.com/v1.0/myorg/datasets',data)\n",
    "    return resp"
   ]
  },
  {
   "cell_type": "code",
   "execution_count": 19,
   "id": "ca11e56d",
   "metadata": {},
   "outputs": [],
   "source": [
    "def create_dataset_ingroup(data,groupId):\n",
    "    data = json.dumps(data)\n",
    "    resp = s.post(f'https://api.powerbi.com/v1.0/myorg/groups/{groupId}/datasets',data)\n",
    "    return resp"
   ]
  },
  {
   "cell_type": "code",
   "execution_count": 17,
   "id": "d243d42c",
   "metadata": {},
   "outputs": [],
   "source": [
    "groupId= 'f1d27fc1-a8ca-40fa-aca9-19c1e277384f'"
   ]
  },
  {
   "cell_type": "code",
   "execution_count": 21,
   "id": "30c9bf11",
   "metadata": {},
   "outputs": [
    {
     "data": {
      "text/plain": [
       "<Response [201]>"
      ]
     },
     "execution_count": 21,
     "metadata": {},
     "output_type": "execute_result"
    }
   ],
   "source": [
    "response = create_dataset_ingroup(result,groupId)\n",
    "response"
   ]
  },
  {
   "cell_type": "code",
   "execution_count": 22,
   "id": "9ee6ccef",
   "metadata": {},
   "outputs": [
    {
     "data": {
      "text/plain": [
       "{'@odata.context': 'http://api.powerbi.com/v1.0/myorg/groups/f1d27fc1-a8ca-40fa-aca9-19c1e277384f/$metadata#datasets/$entity',\n",
       " 'id': '4a2e081b-b0eb-4850-b481-aafe1c9a658c',\n",
       " 'name': 'dev_test_segment_dashboard',\n",
       " 'defaultRetentionPolicy': 'None',\n",
       " 'targetStorageMode': 'Unknown',\n",
       " 'upstreamDatasets': [],\n",
       " 'users': []}"
      ]
     },
     "execution_count": 22,
     "metadata": {},
     "output_type": "execute_result"
    }
   ],
   "source": [
    "json.loads(response.text)"
   ]
  },
  {
   "cell_type": "markdown",
   "id": "89063aec",
   "metadata": {},
   "source": [
    "# save state"
   ]
  },
  {
   "cell_type": "code",
   "execution_count": 23,
   "id": "fb014d91",
   "metadata": {},
   "outputs": [],
   "source": [
    "import psycopg2"
   ]
  },
  {
   "cell_type": "code",
   "execution_count": 31,
   "id": "e2edd6cd",
   "metadata": {},
   "outputs": [],
   "source": [
    "conn = psycopg2.connect(\n",
    "    host=\"localhost\",\n",
    "    user=\"pd\",\n",
    "    password=\"iloveprimedata\",\n",
    "    database = 'eventify_stag',\n",
    "    port=15432)"
   ]
  },
  {
   "cell_type": "code",
   "execution_count": 32,
   "id": "6149299d",
   "metadata": {},
   "outputs": [],
   "source": [
    "new_state={\n",
    "        'erp':{\n",
    "            'at': '2021-01-01 00:00:00',\n",
    "        },\n",
    "        'dim_segment': {\n",
    "            'at': '',\n",
    "            'segment_id': '',\n",
    "        },\n",
    "        'fact_segment': {\n",
    "            'at': '',\n",
    "            'segment_id': '',\n",
    "            'user_id': ''\n",
    "        },\n",
    "        'user': {\n",
    "            'user_id': ''\n",
    "        },\n",
    "        'product':{\n",
    "            'ma_vt':''\n",
    "        }\n",
    "        }"
   ]
  },
  {
   "cell_type": "code",
   "execution_count": 33,
   "id": "65ec7a6a",
   "metadata": {},
   "outputs": [],
   "source": [
    "def SaveState(conn, schema, state_table,state_obj):\n",
    "    obj = json.dumps(state_obj)\n",
    "    try:\n",
    "        with conn.cursor() as cur:\n",
    "            # insert table in postgres\n",
    "            sql_query = f\"\"\"INSERT INTO {schema}.{state_table} (groupId,datasetId,object) VALUES (%s,%s,%s)\"\"\"\n",
    "\n",
    "            # insert object\n",
    "\n",
    "            record_insert = ('f1d27fc1-a8ca-40fa-aca9-19c1e277384f','4a2e081b-b0eb-4850-b481-aafe1c9a658c',obj)\n",
    "\n",
    "            # execute\n",
    "            cur = conn.cursor()\n",
    "            cur.execute(sql_query, record_insert)\n",
    "            conn.commit()\n",
    "\n",
    "            # count row insert into table\n",
    "\n",
    "            count = cur.rowcount\n",
    "    except (Exception, psycopg2.Error) as error:\n",
    "        raise error\n",
    "\n",
    "    finally:\n",
    "        # closing database connection.\n",
    "        conn.close()"
   ]
  },
  {
   "cell_type": "code",
   "execution_count": 34,
   "id": "150040ec",
   "metadata": {},
   "outputs": [],
   "source": [
    "SaveState(conn, 'powerbi','state_management',new_state)"
   ]
  },
  {
   "cell_type": "code",
   "execution_count": 55,
   "id": "8fe0aac7",
   "metadata": {},
   "outputs": [
    {
     "ename": "InterfaceError",
     "evalue": "connection already closed",
     "output_type": "error",
     "traceback": [
      "\u001b[1;31m---------------------------------------------------------------------------\u001b[0m",
      "\u001b[1;31mInterfaceError\u001b[0m                            Traceback (most recent call last)",
      "\u001b[1;32m~\\AppData\\Local\\Temp/ipykernel_13188/2416395363.py\u001b[0m in \u001b[0;36m<module>\u001b[1;34m\u001b[0m\n\u001b[1;32m----> 1\u001b[1;33m \u001b[0mcur\u001b[0m \u001b[1;33m=\u001b[0m \u001b[0mconn\u001b[0m\u001b[1;33m.\u001b[0m\u001b[0mcursor\u001b[0m\u001b[1;33m(\u001b[0m\u001b[1;33m)\u001b[0m\u001b[1;33m\u001b[0m\u001b[1;33m\u001b[0m\u001b[0m\n\u001b[0m",
      "\u001b[1;31mInterfaceError\u001b[0m: connection already closed"
     ]
    }
   ],
   "source": [
    "cur = conn.cursor()"
   ]
  },
  {
   "cell_type": "code",
   "execution_count": 98,
   "id": "e16d794e",
   "metadata": {},
   "outputs": [],
   "source": [
    "cur.execute('select * from powerbi.state_management')"
   ]
  },
  {
   "cell_type": "code",
   "execution_count": 99,
   "id": "da5cf86a",
   "metadata": {},
   "outputs": [
    {
     "data": {
      "text/plain": [
       "[(2,\n",
       "  '1',\n",
       "  '4252e8f9-80de-4f2f-bde5-0e496459d6ca',\n",
       "  {'erp': {'at': '2020-01-02 00:00:00'},\n",
       "   'dim_segment': {'at_final': '', 'segment_id': ''},\n",
       "   'fact_segment': {'segment_start_time': '',\n",
       "    'segment_id_state': '',\n",
       "    'segment_user_id_state': ''},\n",
       "   'user': {'user_id_state': ''},\n",
       "   'product': {}},\n",
       "  datetime.datetime(2022, 1, 12, 9, 9, 58, 811675))]"
      ]
     },
     "execution_count": 99,
     "metadata": {},
     "output_type": "execute_result"
    }
   ],
   "source": [
    "cur.fetchall()"
   ]
  },
  {
   "cell_type": "code",
   "execution_count": 36,
   "id": "72c3d05a",
   "metadata": {},
   "outputs": [],
   "source": [
    "conn.close()\n",
    "cur.close()"
   ]
  },
  {
   "cell_type": "code",
   "execution_count": 86,
   "id": "2c6aaf5f",
   "metadata": {},
   "outputs": [
    {
     "data": {
      "text/plain": [
       "'2022:01:12 16:03:37'"
      ]
     },
     "execution_count": 86,
     "metadata": {},
     "output_type": "execute_result"
    }
   ],
   "source": [
    "datetime.now().strftime(\"%Y:%m:%d %H:%M:%S\")"
   ]
  },
  {
   "cell_type": "code",
   "execution_count": 104,
   "id": "1e913a79",
   "metadata": {},
   "outputs": [],
   "source": [
    "def get_kwagrs(dictionary):\n",
    "    return kwagrs\n"
   ]
  },
  {
   "cell_type": "code",
   "execution_count": 117,
   "id": "4c9ae078",
   "metadata": {},
   "outputs": [],
   "source": [
    "choose_query = {\n",
    "        'erp': {\n",
    "            'query': 1,\n",
    "            'args': {\n",
    "                'cfg': 2,\n",
    "                'CH_schema': 'eventify',\n",
    "                'start_time': 3,\n",
    "                'end_time': 4\n",
    "            }},\n",
    "    'fact_segment': {\n",
    "            'query': 2,\n",
    "            'args': {\n",
    "                'cfg': 1,\n",
    "                'CH_schema': 'eventify',\n",
    "                'segment_start_time': 2,\n",
    "                'segment_id_state': 1,\n",
    "                'segment_user_id_state': 3\n",
    "            }}}"
   ]
  },
  {
   "cell_type": "code",
   "execution_count": 129,
   "id": "22465810",
   "metadata": {},
   "outputs": [
    {
     "name": "stdout",
     "output_type": "stream",
     "text": [
      "1\n"
     ]
    },
    {
     "ename": "TypeError",
     "evalue": "'cfg' is an invalid keyword argument for print()",
     "output_type": "error",
     "traceback": [
      "\u001b[1;31m---------------------------------------------------------------------------\u001b[0m",
      "\u001b[1;31mTypeError\u001b[0m                                 Traceback (most recent call last)",
      "\u001b[1;32m~\\AppData\\Local\\Temp/ipykernel_20932/3192552891.py\u001b[0m in \u001b[0;36m<module>\u001b[1;34m\u001b[0m\n\u001b[0;32m      1\u001b[0m \u001b[1;32mfor\u001b[0m \u001b[0mtable\u001b[0m \u001b[1;32min\u001b[0m \u001b[0mchoose_query\u001b[0m\u001b[1;33m:\u001b[0m\u001b[1;33m\u001b[0m\u001b[1;33m\u001b[0m\u001b[0m\n\u001b[0;32m      2\u001b[0m     \u001b[0mprint\u001b[0m\u001b[1;33m(\u001b[0m\u001b[0mchoose_query\u001b[0m\u001b[1;33m[\u001b[0m\u001b[0mtable\u001b[0m\u001b[1;33m]\u001b[0m\u001b[1;33m[\u001b[0m\u001b[1;34m'query'\u001b[0m\u001b[1;33m]\u001b[0m\u001b[1;33m)\u001b[0m\u001b[1;33m\u001b[0m\u001b[1;33m\u001b[0m\u001b[0m\n\u001b[1;32m----> 3\u001b[1;33m     \u001b[0mprint\u001b[0m\u001b[1;33m(\u001b[0m\u001b[1;33m**\u001b[0m\u001b[0mchoose_query\u001b[0m\u001b[1;33m[\u001b[0m\u001b[0mtable\u001b[0m\u001b[1;33m]\u001b[0m\u001b[1;33m[\u001b[0m\u001b[1;34m'args'\u001b[0m\u001b[1;33m]\u001b[0m\u001b[1;33m)\u001b[0m\u001b[1;33m\u001b[0m\u001b[1;33m\u001b[0m\u001b[0m\n\u001b[0m",
      "\u001b[1;31mTypeError\u001b[0m: 'cfg' is an invalid keyword argument for print()"
     ]
    }
   ],
   "source": [
    "for table in choose_query:\n",
    "    print(choose_query[table]['query'])\n",
    "    print(**choose_query[table]['args'])\n",
    "    print(cfg=2)"
   ]
  },
  {
   "cell_type": "code",
   "execution_count": 147,
   "id": "b9b0fe9c",
   "metadata": {},
   "outputs": [
    {
     "ename": "ValueError",
     "evalue": "time data '2013-08-08' does not match format '%Y-%m-%d %H:%M:%S'",
     "output_type": "error",
     "traceback": [
      "\u001b[1;31m---------------------------------------------------------------------------\u001b[0m",
      "\u001b[1;31mValueError\u001b[0m                                Traceback (most recent call last)",
      "\u001b[1;32m~\\AppData\\Local\\Temp/ipykernel_20932/1663828774.py\u001b[0m in \u001b[0;36m<module>\u001b[1;34m\u001b[0m\n\u001b[1;32m----> 1\u001b[1;33m \u001b[0mdatetime\u001b[0m\u001b[1;33m.\u001b[0m\u001b[0mstrptime\u001b[0m\u001b[1;33m(\u001b[0m\u001b[1;34m'2013-08-08'\u001b[0m\u001b[1;33m,\u001b[0m \u001b[1;34m\"%Y-%m-%d %H:%M:%S\"\u001b[0m\u001b[1;33m)\u001b[0m\u001b[1;33m\u001b[0m\u001b[1;33m\u001b[0m\u001b[0m\n\u001b[0m",
      "\u001b[1;32mc:\\users\\admin\\appdata\\local\\programs\\python\\python39\\lib\\_strptime.py\u001b[0m in \u001b[0;36m_strptime_datetime\u001b[1;34m(cls, data_string, format)\u001b[0m\n\u001b[0;32m    566\u001b[0m     \"\"\"Return a class cls instance based on the input string and the\n\u001b[0;32m    567\u001b[0m     format string.\"\"\"\n\u001b[1;32m--> 568\u001b[1;33m     \u001b[0mtt\u001b[0m\u001b[1;33m,\u001b[0m \u001b[0mfraction\u001b[0m\u001b[1;33m,\u001b[0m \u001b[0mgmtoff_fraction\u001b[0m \u001b[1;33m=\u001b[0m \u001b[0m_strptime\u001b[0m\u001b[1;33m(\u001b[0m\u001b[0mdata_string\u001b[0m\u001b[1;33m,\u001b[0m \u001b[0mformat\u001b[0m\u001b[1;33m)\u001b[0m\u001b[1;33m\u001b[0m\u001b[1;33m\u001b[0m\u001b[0m\n\u001b[0m\u001b[0;32m    569\u001b[0m     \u001b[0mtzname\u001b[0m\u001b[1;33m,\u001b[0m \u001b[0mgmtoff\u001b[0m \u001b[1;33m=\u001b[0m \u001b[0mtt\u001b[0m\u001b[1;33m[\u001b[0m\u001b[1;33m-\u001b[0m\u001b[1;36m2\u001b[0m\u001b[1;33m:\u001b[0m\u001b[1;33m]\u001b[0m\u001b[1;33m\u001b[0m\u001b[1;33m\u001b[0m\u001b[0m\n\u001b[0;32m    570\u001b[0m     \u001b[0margs\u001b[0m \u001b[1;33m=\u001b[0m \u001b[0mtt\u001b[0m\u001b[1;33m[\u001b[0m\u001b[1;33m:\u001b[0m\u001b[1;36m6\u001b[0m\u001b[1;33m]\u001b[0m \u001b[1;33m+\u001b[0m \u001b[1;33m(\u001b[0m\u001b[0mfraction\u001b[0m\u001b[1;33m,\u001b[0m\u001b[1;33m)\u001b[0m\u001b[1;33m\u001b[0m\u001b[1;33m\u001b[0m\u001b[0m\n",
      "\u001b[1;32mc:\\users\\admin\\appdata\\local\\programs\\python\\python39\\lib\\_strptime.py\u001b[0m in \u001b[0;36m_strptime\u001b[1;34m(data_string, format)\u001b[0m\n\u001b[0;32m    347\u001b[0m     \u001b[0mfound\u001b[0m \u001b[1;33m=\u001b[0m \u001b[0mformat_regex\u001b[0m\u001b[1;33m.\u001b[0m\u001b[0mmatch\u001b[0m\u001b[1;33m(\u001b[0m\u001b[0mdata_string\u001b[0m\u001b[1;33m)\u001b[0m\u001b[1;33m\u001b[0m\u001b[1;33m\u001b[0m\u001b[0m\n\u001b[0;32m    348\u001b[0m     \u001b[1;32mif\u001b[0m \u001b[1;32mnot\u001b[0m \u001b[0mfound\u001b[0m\u001b[1;33m:\u001b[0m\u001b[1;33m\u001b[0m\u001b[1;33m\u001b[0m\u001b[0m\n\u001b[1;32m--> 349\u001b[1;33m         raise ValueError(\"time data %r does not match format %r\" %\n\u001b[0m\u001b[0;32m    350\u001b[0m                          (data_string, format))\n\u001b[0;32m    351\u001b[0m     \u001b[1;32mif\u001b[0m \u001b[0mlen\u001b[0m\u001b[1;33m(\u001b[0m\u001b[0mdata_string\u001b[0m\u001b[1;33m)\u001b[0m \u001b[1;33m!=\u001b[0m \u001b[0mfound\u001b[0m\u001b[1;33m.\u001b[0m\u001b[0mend\u001b[0m\u001b[1;33m(\u001b[0m\u001b[1;33m)\u001b[0m\u001b[1;33m:\u001b[0m\u001b[1;33m\u001b[0m\u001b[1;33m\u001b[0m\u001b[0m\n",
      "\u001b[1;31mValueError\u001b[0m: time data '2013-08-08' does not match format '%Y-%m-%d %H:%M:%S'"
     ]
    }
   ],
   "source": [
    "datetime.strptime('2013-08-08 00:00:00', \"%Y-%m-%d %H:%M:%S\")"
   ]
  },
  {
   "cell_type": "code",
   "execution_count": 148,
   "id": "d6a81cef",
   "metadata": {},
   "outputs": [],
   "source": [
    "stateObj={\"erp\": \n",
    " {\"at\": \"2022-01-02 00:00:00\"}, \n",
    " \"dim_segment\": {\"at_final_state\": \"\", \n",
    "                 \"segment_id_state\": \"\"}, \n",
    " \"fact_segment\": {\"segment_start_time\": \"\", \n",
    "                  \"segment_id_state\": \"\", \n",
    "                  \"segment_user_id_state\": \"\"}, \n",
    " \"user\": {\"user_id_state\": \"\"}, \"product\": {}}"
   ]
  },
  {
   "cell_type": "code",
   "execution_count": 150,
   "id": "3fb3462d",
   "metadata": {},
   "outputs": [
    {
     "name": "stdout",
     "output_type": "stream",
     "text": [
      "erp\n",
      "dim_segment\n",
      "fact_segment\n",
      "user\n",
      "product\n"
     ]
    }
   ],
   "source": [
    "for table in stateObj:\n",
    "    print(table)"
   ]
  },
  {
   "cell_type": "code",
   "execution_count": 48,
   "id": "2e5d5c1e",
   "metadata": {},
   "outputs": [
    {
     "data": {
      "text/plain": [
       "[{'name': 'anonymous_id', 'dataType': 'string'},\n",
       " {'name': 'ngay_ct', 'dataType': 'Datetime', 'formatString': 'dd/mm/yyyy'},\n",
       " {'name': 'gio_gh', 'dataType': 'Datetime', 'formatString': 'h:nn:ss'},\n",
       " {'name': 'order_value', 'dataType': 'decimal'},\n",
       " {'name': 't_tien_sau_ck', 'dataType': 'decimal'},\n",
       " {'name': 'so_luong', 'dataType': 'decimal'},\n",
       " {'name': 'stt_rec', 'dataType': 'string'},\n",
       " {'name': 'dich_vu', 'dataType': 'string'},\n",
       " {'name': 'dvt', 'dataType': 'string'},\n",
       " {'name': 'nguon_dh', 'dataType': 'string'},\n",
       " {'name': 'status', 'dataType': 'string'},\n",
       " {'name': 'ma_vt', 'dataType': 'string'},\n",
       " {'name': 'ma_vt2', 'dataType': 'string'},\n",
       " {'name': 'ma_ct_km', 'dataType': 'string'},\n",
       " {'name': 'ten_ct_km', 'dataType': 'string'},\n",
       " {'name': 'nh_dvcs1', 'dataType': 'string'},\n",
       " {'name': 'nh_dvcs3', 'dataType': 'string'},\n",
       " {'name': 'gender', 'dataType': 'string'},\n",
       " {'name': 'Province', 'dataType': 'string'},\n",
       " {'name': 'card_tier_name', 'dataType': 'string'},\n",
       " {'name': 'interval_age', 'dataType': 'string'},\n",
       " {'name': 'nh_vt2', 'dataType': 'string'},\n",
       " {'name': 'nh_vt5', 'dataType': 'string'},\n",
       " {'name': 'nh_vt8', 'dataType': 'string'},\n",
       " {'name': 'nh_vt10', 'dataType': 'string'},\n",
       " {'name': 'nh_vt12', 'dataType': 'string'},\n",
       " {'name': 'nh_vt13', 'dataType': 'string'},\n",
       " {'name': 'nh_vt14', 'dataType': 'string'}]"
      ]
     },
     "execution_count": 48,
     "metadata": {},
     "output_type": "execute_result"
    }
   ],
   "source": [
    "erp_columns"
   ]
  },
  {
   "cell_type": "code",
   "execution_count": 50,
   "id": "f2722f7e",
   "metadata": {},
   "outputs": [
    {
     "data": {
      "text/plain": [
       "[{'name': 'segment_id', 'dataType': 'string'},\n",
       " {'name': 'name', 'dataType': 'string'},\n",
       " {'name': 'segment_transform', 'dataType': 'string'},\n",
       " {'name': 'at', 'dataType': 'DateTime'}]"
      ]
     },
     "execution_count": 50,
     "metadata": {},
     "output_type": "execute_result"
    }
   ],
   "source": [
    "dim_segment_columns\n"
   ]
  },
  {
   "cell_type": "code",
   "execution_count": 96,
   "id": "6286122b",
   "metadata": {},
   "outputs": [
    {
     "ename": "FileNotFoundError",
     "evalue": "[Errno 2] No such file or directory: 'C:\\\\Users\\\\ADMIN\\\\Desktop\\\\Du-lieu.xlsx'",
     "output_type": "error",
     "traceback": [
      "\u001b[1;31m---------------------------------------------------------------------------\u001b[0m",
      "\u001b[1;31mFileNotFoundError\u001b[0m                         Traceback (most recent call last)",
      "\u001b[1;32m~\\AppData\\Local\\Temp/ipykernel_16044/1633135582.py\u001b[0m in \u001b[0;36m<module>\u001b[1;34m\u001b[0m\n\u001b[1;32m----> 1\u001b[1;33m \u001b[0mdf\u001b[0m \u001b[1;33m=\u001b[0m \u001b[0mpd\u001b[0m\u001b[1;33m.\u001b[0m\u001b[0mread_excel\u001b[0m\u001b[1;33m(\u001b[0m\u001b[1;34mr'C:\\Users\\ADMIN\\Desktop\\Du-lieu.xlsx'\u001b[0m\u001b[1;33m)\u001b[0m\u001b[1;33m\u001b[0m\u001b[1;33m\u001b[0m\u001b[0m\n\u001b[0m",
      "\u001b[1;32mc:\\users\\admin\\appdata\\local\\programs\\python\\python39\\lib\\site-packages\\pandas\\util\\_decorators.py\u001b[0m in \u001b[0;36mwrapper\u001b[1;34m(*args, **kwargs)\u001b[0m\n\u001b[0;32m    309\u001b[0m                     \u001b[0mstacklevel\u001b[0m\u001b[1;33m=\u001b[0m\u001b[0mstacklevel\u001b[0m\u001b[1;33m,\u001b[0m\u001b[1;33m\u001b[0m\u001b[1;33m\u001b[0m\u001b[0m\n\u001b[0;32m    310\u001b[0m                 )\n\u001b[1;32m--> 311\u001b[1;33m             \u001b[1;32mreturn\u001b[0m \u001b[0mfunc\u001b[0m\u001b[1;33m(\u001b[0m\u001b[1;33m*\u001b[0m\u001b[0margs\u001b[0m\u001b[1;33m,\u001b[0m \u001b[1;33m**\u001b[0m\u001b[0mkwargs\u001b[0m\u001b[1;33m)\u001b[0m\u001b[1;33m\u001b[0m\u001b[1;33m\u001b[0m\u001b[0m\n\u001b[0m\u001b[0;32m    312\u001b[0m \u001b[1;33m\u001b[0m\u001b[0m\n\u001b[0;32m    313\u001b[0m         \u001b[1;32mreturn\u001b[0m \u001b[0mwrapper\u001b[0m\u001b[1;33m\u001b[0m\u001b[1;33m\u001b[0m\u001b[0m\n",
      "\u001b[1;32mc:\\users\\admin\\appdata\\local\\programs\\python\\python39\\lib\\site-packages\\pandas\\io\\excel\\_base.py\u001b[0m in \u001b[0;36mread_excel\u001b[1;34m(io, sheet_name, header, names, index_col, usecols, squeeze, dtype, engine, converters, true_values, false_values, skiprows, nrows, na_values, keep_default_na, na_filter, verbose, parse_dates, date_parser, thousands, comment, skipfooter, convert_float, mangle_dupe_cols, storage_options)\u001b[0m\n\u001b[0;32m    362\u001b[0m     \u001b[1;32mif\u001b[0m \u001b[1;32mnot\u001b[0m \u001b[0misinstance\u001b[0m\u001b[1;33m(\u001b[0m\u001b[0mio\u001b[0m\u001b[1;33m,\u001b[0m \u001b[0mExcelFile\u001b[0m\u001b[1;33m)\u001b[0m\u001b[1;33m:\u001b[0m\u001b[1;33m\u001b[0m\u001b[1;33m\u001b[0m\u001b[0m\n\u001b[0;32m    363\u001b[0m         \u001b[0mshould_close\u001b[0m \u001b[1;33m=\u001b[0m \u001b[1;32mTrue\u001b[0m\u001b[1;33m\u001b[0m\u001b[1;33m\u001b[0m\u001b[0m\n\u001b[1;32m--> 364\u001b[1;33m         \u001b[0mio\u001b[0m \u001b[1;33m=\u001b[0m \u001b[0mExcelFile\u001b[0m\u001b[1;33m(\u001b[0m\u001b[0mio\u001b[0m\u001b[1;33m,\u001b[0m \u001b[0mstorage_options\u001b[0m\u001b[1;33m=\u001b[0m\u001b[0mstorage_options\u001b[0m\u001b[1;33m,\u001b[0m \u001b[0mengine\u001b[0m\u001b[1;33m=\u001b[0m\u001b[0mengine\u001b[0m\u001b[1;33m)\u001b[0m\u001b[1;33m\u001b[0m\u001b[1;33m\u001b[0m\u001b[0m\n\u001b[0m\u001b[0;32m    365\u001b[0m     \u001b[1;32melif\u001b[0m \u001b[0mengine\u001b[0m \u001b[1;32mand\u001b[0m \u001b[0mengine\u001b[0m \u001b[1;33m!=\u001b[0m \u001b[0mio\u001b[0m\u001b[1;33m.\u001b[0m\u001b[0mengine\u001b[0m\u001b[1;33m:\u001b[0m\u001b[1;33m\u001b[0m\u001b[1;33m\u001b[0m\u001b[0m\n\u001b[0;32m    366\u001b[0m         raise ValueError(\n",
      "\u001b[1;32mc:\\users\\admin\\appdata\\local\\programs\\python\\python39\\lib\\site-packages\\pandas\\io\\excel\\_base.py\u001b[0m in \u001b[0;36m__init__\u001b[1;34m(self, path_or_buffer, engine, storage_options)\u001b[0m\n\u001b[0;32m   1189\u001b[0m                 \u001b[0mext\u001b[0m \u001b[1;33m=\u001b[0m \u001b[1;34m\"xls\"\u001b[0m\u001b[1;33m\u001b[0m\u001b[1;33m\u001b[0m\u001b[0m\n\u001b[0;32m   1190\u001b[0m             \u001b[1;32melse\u001b[0m\u001b[1;33m:\u001b[0m\u001b[1;33m\u001b[0m\u001b[1;33m\u001b[0m\u001b[0m\n\u001b[1;32m-> 1191\u001b[1;33m                 ext = inspect_excel_format(\n\u001b[0m\u001b[0;32m   1192\u001b[0m                     \u001b[0mcontent_or_path\u001b[0m\u001b[1;33m=\u001b[0m\u001b[0mpath_or_buffer\u001b[0m\u001b[1;33m,\u001b[0m \u001b[0mstorage_options\u001b[0m\u001b[1;33m=\u001b[0m\u001b[0mstorage_options\u001b[0m\u001b[1;33m\u001b[0m\u001b[1;33m\u001b[0m\u001b[0m\n\u001b[0;32m   1193\u001b[0m                 )\n",
      "\u001b[1;32mc:\\users\\admin\\appdata\\local\\programs\\python\\python39\\lib\\site-packages\\pandas\\io\\excel\\_base.py\u001b[0m in \u001b[0;36minspect_excel_format\u001b[1;34m(content_or_path, storage_options)\u001b[0m\n\u001b[0;32m   1068\u001b[0m         \u001b[0mcontent_or_path\u001b[0m \u001b[1;33m=\u001b[0m \u001b[0mBytesIO\u001b[0m\u001b[1;33m(\u001b[0m\u001b[0mcontent_or_path\u001b[0m\u001b[1;33m)\u001b[0m\u001b[1;33m\u001b[0m\u001b[1;33m\u001b[0m\u001b[0m\n\u001b[0;32m   1069\u001b[0m \u001b[1;33m\u001b[0m\u001b[0m\n\u001b[1;32m-> 1070\u001b[1;33m     with get_handle(\n\u001b[0m\u001b[0;32m   1071\u001b[0m         \u001b[0mcontent_or_path\u001b[0m\u001b[1;33m,\u001b[0m \u001b[1;34m\"rb\"\u001b[0m\u001b[1;33m,\u001b[0m \u001b[0mstorage_options\u001b[0m\u001b[1;33m=\u001b[0m\u001b[0mstorage_options\u001b[0m\u001b[1;33m,\u001b[0m \u001b[0mis_text\u001b[0m\u001b[1;33m=\u001b[0m\u001b[1;32mFalse\u001b[0m\u001b[1;33m\u001b[0m\u001b[1;33m\u001b[0m\u001b[0m\n\u001b[0;32m   1072\u001b[0m     ) as handle:\n",
      "\u001b[1;32mc:\\users\\admin\\appdata\\local\\programs\\python\\python39\\lib\\site-packages\\pandas\\io\\common.py\u001b[0m in \u001b[0;36mget_handle\u001b[1;34m(path_or_buf, mode, encoding, compression, memory_map, is_text, errors, storage_options)\u001b[0m\n\u001b[0;32m    709\u001b[0m         \u001b[1;32melse\u001b[0m\u001b[1;33m:\u001b[0m\u001b[1;33m\u001b[0m\u001b[1;33m\u001b[0m\u001b[0m\n\u001b[0;32m    710\u001b[0m             \u001b[1;31m# Binary mode\u001b[0m\u001b[1;33m\u001b[0m\u001b[1;33m\u001b[0m\u001b[1;33m\u001b[0m\u001b[0m\n\u001b[1;32m--> 711\u001b[1;33m             \u001b[0mhandle\u001b[0m \u001b[1;33m=\u001b[0m \u001b[0mopen\u001b[0m\u001b[1;33m(\u001b[0m\u001b[0mhandle\u001b[0m\u001b[1;33m,\u001b[0m \u001b[0mioargs\u001b[0m\u001b[1;33m.\u001b[0m\u001b[0mmode\u001b[0m\u001b[1;33m)\u001b[0m\u001b[1;33m\u001b[0m\u001b[1;33m\u001b[0m\u001b[0m\n\u001b[0m\u001b[0;32m    712\u001b[0m         \u001b[0mhandles\u001b[0m\u001b[1;33m.\u001b[0m\u001b[0mappend\u001b[0m\u001b[1;33m(\u001b[0m\u001b[0mhandle\u001b[0m\u001b[1;33m)\u001b[0m\u001b[1;33m\u001b[0m\u001b[1;33m\u001b[0m\u001b[0m\n\u001b[0;32m    713\u001b[0m \u001b[1;33m\u001b[0m\u001b[0m\n",
      "\u001b[1;31mFileNotFoundError\u001b[0m: [Errno 2] No such file or directory: 'C:\\\\Users\\\\ADMIN\\\\Desktop\\\\Du-lieu.xlsx'"
     ]
    }
   ],
   "source": [
    "df = pd.read_excel(r'C:\\Users\\ADMIN\\Desktop\\Du-lieu.xlsx')"
   ]
  },
  {
   "cell_type": "code",
   "execution_count": 97,
   "id": "862f80df",
   "metadata": {},
   "outputs": [],
   "source": [
    "df.drop(columns='check',inplace=True)"
   ]
  },
  {
   "cell_type": "code",
   "execution_count": 101,
   "id": "d60733b5",
   "metadata": {},
   "outputs": [],
   "source": [
    "df.columns = ['hd','date','employee','revenue']"
   ]
  },
  {
   "cell_type": "code",
   "execution_count": 102,
   "id": "237d5e70",
   "metadata": {},
   "outputs": [],
   "source": [
    "df_grouped = df.groupby(['hd','employee']).agg({'revenue':sum}).reset_index()"
   ]
  },
  {
   "cell_type": "code",
   "execution_count": 103,
   "id": "93251c16",
   "metadata": {},
   "outputs": [
    {
     "data": {
      "text/html": [
       "<div>\n",
       "<style scoped>\n",
       "    .dataframe tbody tr th:only-of-type {\n",
       "        vertical-align: middle;\n",
       "    }\n",
       "\n",
       "    .dataframe tbody tr th {\n",
       "        vertical-align: top;\n",
       "    }\n",
       "\n",
       "    .dataframe thead th {\n",
       "        text-align: right;\n",
       "    }\n",
       "</style>\n",
       "<table border=\"1\" class=\"dataframe\">\n",
       "  <thead>\n",
       "    <tr style=\"text-align: right;\">\n",
       "      <th></th>\n",
       "      <th>hd</th>\n",
       "      <th>employee</th>\n",
       "      <th>revenue</th>\n",
       "    </tr>\n",
       "  </thead>\n",
       "  <tbody>\n",
       "    <tr>\n",
       "      <th>0</th>\n",
       "      <td>HD2029561</td>\n",
       "      <td>CH 09</td>\n",
       "      <td>85000</td>\n",
       "    </tr>\n",
       "    <tr>\n",
       "      <th>1</th>\n",
       "      <td>HD2029562</td>\n",
       "      <td>CH 07</td>\n",
       "      <td>60000</td>\n",
       "    </tr>\n",
       "    <tr>\n",
       "      <th>2</th>\n",
       "      <td>HD2029563</td>\n",
       "      <td>CH 06</td>\n",
       "      <td>50000</td>\n",
       "    </tr>\n",
       "    <tr>\n",
       "      <th>3</th>\n",
       "      <td>HD2029566</td>\n",
       "      <td>CH 03</td>\n",
       "      <td>139000</td>\n",
       "    </tr>\n",
       "    <tr>\n",
       "      <th>4</th>\n",
       "      <td>HD2029567</td>\n",
       "      <td>CH 03</td>\n",
       "      <td>97000</td>\n",
       "    </tr>\n",
       "    <tr>\n",
       "      <th>...</th>\n",
       "      <td>...</td>\n",
       "      <td>...</td>\n",
       "      <td>...</td>\n",
       "    </tr>\n",
       "    <tr>\n",
       "      <th>7469</th>\n",
       "      <td>HDO1641547026412</td>\n",
       "      <td>CH 05</td>\n",
       "      <td>100000</td>\n",
       "    </tr>\n",
       "    <tr>\n",
       "      <th>7470</th>\n",
       "      <td>HDO1641554618766</td>\n",
       "      <td>CH 33</td>\n",
       "      <td>66000</td>\n",
       "    </tr>\n",
       "    <tr>\n",
       "      <th>7471</th>\n",
       "      <td>HDO1641795736316_174150</td>\n",
       "      <td>CH 28</td>\n",
       "      <td>30000</td>\n",
       "    </tr>\n",
       "    <tr>\n",
       "      <th>7472</th>\n",
       "      <td>HDO1641890959869</td>\n",
       "      <td>CH 06</td>\n",
       "      <td>879000</td>\n",
       "    </tr>\n",
       "    <tr>\n",
       "      <th>7473</th>\n",
       "      <td>HDO1641966194459</td>\n",
       "      <td>CH 33</td>\n",
       "      <td>150000</td>\n",
       "    </tr>\n",
       "  </tbody>\n",
       "</table>\n",
       "<p>7474 rows × 3 columns</p>\n",
       "</div>"
      ],
      "text/plain": [
       "                           hd employee  revenue\n",
       "0                   HD2029561    CH 09    85000\n",
       "1                   HD2029562    CH 07    60000\n",
       "2                   HD2029563    CH 06    50000\n",
       "3                   HD2029566    CH 03   139000\n",
       "4                   HD2029567    CH 03    97000\n",
       "...                       ...      ...      ...\n",
       "7469         HDO1641547026412    CH 05   100000\n",
       "7470         HDO1641554618766    CH 33    66000\n",
       "7471  HDO1641795736316_174150    CH 28    30000\n",
       "7472         HDO1641890959869    CH 06   879000\n",
       "7473         HDO1641966194459    CH 33   150000\n",
       "\n",
       "[7474 rows x 3 columns]"
      ]
     },
     "execution_count": 103,
     "metadata": {},
     "output_type": "execute_result"
    }
   ],
   "source": [
    "df_grouped"
   ]
  },
  {
   "cell_type": "code",
   "execution_count": 105,
   "id": "03c84cde",
   "metadata": {},
   "outputs": [
    {
     "data": {
      "text/html": [
       "<div>\n",
       "<style scoped>\n",
       "    .dataframe tbody tr th:only-of-type {\n",
       "        vertical-align: middle;\n",
       "    }\n",
       "\n",
       "    .dataframe tbody tr th {\n",
       "        vertical-align: top;\n",
       "    }\n",
       "\n",
       "    .dataframe thead th {\n",
       "        text-align: right;\n",
       "    }\n",
       "</style>\n",
       "<table border=\"1\" class=\"dataframe\">\n",
       "  <thead>\n",
       "    <tr style=\"text-align: right;\">\n",
       "      <th></th>\n",
       "      <th>hd</th>\n",
       "      <th>employee</th>\n",
       "      <th>revenue</th>\n",
       "    </tr>\n",
       "  </thead>\n",
       "  <tbody>\n",
       "    <tr>\n",
       "      <th>3</th>\n",
       "      <td>HD2029566</td>\n",
       "      <td>CH 03</td>\n",
       "      <td>139000</td>\n",
       "    </tr>\n",
       "    <tr>\n",
       "      <th>7</th>\n",
       "      <td>HD2029571</td>\n",
       "      <td>CH 13</td>\n",
       "      <td>101000</td>\n",
       "    </tr>\n",
       "    <tr>\n",
       "      <th>8</th>\n",
       "      <td>HD2029572</td>\n",
       "      <td>CH 33</td>\n",
       "      <td>125000</td>\n",
       "    </tr>\n",
       "    <tr>\n",
       "      <th>16</th>\n",
       "      <td>HD2029588</td>\n",
       "      <td>CH 03</td>\n",
       "      <td>139000</td>\n",
       "    </tr>\n",
       "    <tr>\n",
       "      <th>33</th>\n",
       "      <td>HD2029612</td>\n",
       "      <td>CH 09</td>\n",
       "      <td>127000</td>\n",
       "    </tr>\n",
       "    <tr>\n",
       "      <th>...</th>\n",
       "      <td>...</td>\n",
       "      <td>...</td>\n",
       "      <td>...</td>\n",
       "    </tr>\n",
       "    <tr>\n",
       "      <th>7464</th>\n",
       "      <td>HDO1641546717821</td>\n",
       "      <td>CH 06</td>\n",
       "      <td>410000</td>\n",
       "    </tr>\n",
       "    <tr>\n",
       "      <th>7465</th>\n",
       "      <td>HDO1641546746538</td>\n",
       "      <td>CH 06</td>\n",
       "      <td>110000</td>\n",
       "    </tr>\n",
       "    <tr>\n",
       "      <th>7466</th>\n",
       "      <td>HDO1641546869597</td>\n",
       "      <td>CH 18</td>\n",
       "      <td>139000</td>\n",
       "    </tr>\n",
       "    <tr>\n",
       "      <th>7472</th>\n",
       "      <td>HDO1641890959869</td>\n",
       "      <td>CH 06</td>\n",
       "      <td>879000</td>\n",
       "    </tr>\n",
       "    <tr>\n",
       "      <th>7473</th>\n",
       "      <td>HDO1641966194459</td>\n",
       "      <td>CH 33</td>\n",
       "      <td>150000</td>\n",
       "    </tr>\n",
       "  </tbody>\n",
       "</table>\n",
       "<p>1580 rows × 3 columns</p>\n",
       "</div>"
      ],
      "text/plain": [
       "                    hd employee  revenue\n",
       "3            HD2029566    CH 03   139000\n",
       "7            HD2029571    CH 13   101000\n",
       "8            HD2029572    CH 33   125000\n",
       "16           HD2029588    CH 03   139000\n",
       "33           HD2029612    CH 09   127000\n",
       "...                ...      ...      ...\n",
       "7464  HDO1641546717821    CH 06   410000\n",
       "7465  HDO1641546746538    CH 06   110000\n",
       "7466  HDO1641546869597    CH 18   139000\n",
       "7472  HDO1641890959869    CH 06   879000\n",
       "7473  HDO1641966194459    CH 33   150000\n",
       "\n",
       "[1580 rows x 3 columns]"
      ]
     },
     "execution_count": 105,
     "metadata": {},
     "output_type": "execute_result"
    }
   ],
   "source": [
    "df_grouped[df_grouped['revenue']>100000]"
   ]
  },
  {
   "cell_type": "code",
   "execution_count": 85,
   "id": "9514fbfa",
   "metadata": {},
   "outputs": [],
   "source": [
    "def check(number):\n",
    "    if number > 100000:\n",
    "        return 'x'\n",
    "    return 'none'"
   ]
  },
  {
   "cell_type": "code",
   "execution_count": 107,
   "id": "0010482e",
   "metadata": {},
   "outputs": [],
   "source": [
    "df_grouped['check'] = df_grouped['revenue'].apply(check)"
   ]
  },
  {
   "cell_type": "code",
   "execution_count": 110,
   "id": "9566c035",
   "metadata": {},
   "outputs": [],
   "source": [
    "df_new = df_grouped[df_grouped['check']==\"x\"].copy().reset_index(drop=True)"
   ]
  },
  {
   "cell_type": "code",
   "execution_count": 114,
   "id": "8af57a5f",
   "metadata": {},
   "outputs": [
    {
     "data": {
      "text/html": [
       "<div>\n",
       "<style scoped>\n",
       "    .dataframe tbody tr th:only-of-type {\n",
       "        vertical-align: middle;\n",
       "    }\n",
       "\n",
       "    .dataframe tbody tr th {\n",
       "        vertical-align: top;\n",
       "    }\n",
       "\n",
       "    .dataframe thead th {\n",
       "        text-align: right;\n",
       "    }\n",
       "</style>\n",
       "<table border=\"1\" class=\"dataframe\">\n",
       "  <thead>\n",
       "    <tr style=\"text-align: right;\">\n",
       "      <th></th>\n",
       "      <th>employee</th>\n",
       "      <th>hd</th>\n",
       "    </tr>\n",
       "  </thead>\n",
       "  <tbody>\n",
       "    <tr>\n",
       "      <th>0</th>\n",
       "      <td>CH 02</td>\n",
       "      <td>29</td>\n",
       "    </tr>\n",
       "    <tr>\n",
       "      <th>1</th>\n",
       "      <td>CH 03</td>\n",
       "      <td>212</td>\n",
       "    </tr>\n",
       "    <tr>\n",
       "      <th>2</th>\n",
       "      <td>CH 04</td>\n",
       "      <td>13</td>\n",
       "    </tr>\n",
       "    <tr>\n",
       "      <th>3</th>\n",
       "      <td>CH 05</td>\n",
       "      <td>79</td>\n",
       "    </tr>\n",
       "    <tr>\n",
       "      <th>4</th>\n",
       "      <td>CH 06</td>\n",
       "      <td>138</td>\n",
       "    </tr>\n",
       "    <tr>\n",
       "      <th>5</th>\n",
       "      <td>CH 07</td>\n",
       "      <td>56</td>\n",
       "    </tr>\n",
       "    <tr>\n",
       "      <th>6</th>\n",
       "      <td>CH 09</td>\n",
       "      <td>79</td>\n",
       "    </tr>\n",
       "    <tr>\n",
       "      <th>7</th>\n",
       "      <td>CH 10</td>\n",
       "      <td>74</td>\n",
       "    </tr>\n",
       "    <tr>\n",
       "      <th>8</th>\n",
       "      <td>CH 11</td>\n",
       "      <td>22</td>\n",
       "    </tr>\n",
       "    <tr>\n",
       "      <th>9</th>\n",
       "      <td>CH 13</td>\n",
       "      <td>119</td>\n",
       "    </tr>\n",
       "    <tr>\n",
       "      <th>10</th>\n",
       "      <td>CH 14</td>\n",
       "      <td>46</td>\n",
       "    </tr>\n",
       "    <tr>\n",
       "      <th>11</th>\n",
       "      <td>CH 15</td>\n",
       "      <td>77</td>\n",
       "    </tr>\n",
       "    <tr>\n",
       "      <th>12</th>\n",
       "      <td>CH 17</td>\n",
       "      <td>95</td>\n",
       "    </tr>\n",
       "    <tr>\n",
       "      <th>13</th>\n",
       "      <td>CH 18</td>\n",
       "      <td>50</td>\n",
       "    </tr>\n",
       "    <tr>\n",
       "      <th>14</th>\n",
       "      <td>CH 19</td>\n",
       "      <td>13</td>\n",
       "    </tr>\n",
       "    <tr>\n",
       "      <th>15</th>\n",
       "      <td>CH 20</td>\n",
       "      <td>25</td>\n",
       "    </tr>\n",
       "    <tr>\n",
       "      <th>16</th>\n",
       "      <td>CH 21</td>\n",
       "      <td>39</td>\n",
       "    </tr>\n",
       "    <tr>\n",
       "      <th>17</th>\n",
       "      <td>CH 25</td>\n",
       "      <td>13</td>\n",
       "    </tr>\n",
       "    <tr>\n",
       "      <th>18</th>\n",
       "      <td>CH 28</td>\n",
       "      <td>169</td>\n",
       "    </tr>\n",
       "    <tr>\n",
       "      <th>19</th>\n",
       "      <td>CH 32</td>\n",
       "      <td>10</td>\n",
       "    </tr>\n",
       "    <tr>\n",
       "      <th>20</th>\n",
       "      <td>CH 33</td>\n",
       "      <td>189</td>\n",
       "    </tr>\n",
       "    <tr>\n",
       "      <th>21</th>\n",
       "      <td>CH 35</td>\n",
       "      <td>11</td>\n",
       "    </tr>\n",
       "    <tr>\n",
       "      <th>22</th>\n",
       "      <td>CH 38</td>\n",
       "      <td>16</td>\n",
       "    </tr>\n",
       "    <tr>\n",
       "      <th>23</th>\n",
       "      <td>CH 42</td>\n",
       "      <td>6</td>\n",
       "    </tr>\n",
       "  </tbody>\n",
       "</table>\n",
       "</div>"
      ],
      "text/plain": [
       "   employee   hd\n",
       "0     CH 02   29\n",
       "1     CH 03  212\n",
       "2     CH 04   13\n",
       "3     CH 05   79\n",
       "4     CH 06  138\n",
       "5     CH 07   56\n",
       "6     CH 09   79\n",
       "7     CH 10   74\n",
       "8     CH 11   22\n",
       "9     CH 13  119\n",
       "10    CH 14   46\n",
       "11    CH 15   77\n",
       "12    CH 17   95\n",
       "13    CH 18   50\n",
       "14    CH 19   13\n",
       "15    CH 20   25\n",
       "16    CH 21   39\n",
       "17    CH 25   13\n",
       "18    CH 28  169\n",
       "19    CH 32   10\n",
       "20    CH 33  189\n",
       "21    CH 35   11\n",
       "22    CH 38   16\n",
       "23    CH 42    6"
      ]
     },
     "execution_count": 114,
     "metadata": {},
     "output_type": "execute_result"
    }
   ],
   "source": [
    "df_new.groupby('employee').agg({'hd':len}).reset_index().sort_values('employee',ascending=False)"
   ]
  },
  {
   "cell_type": "code",
   "execution_count": 117,
   "id": "3af5c779",
   "metadata": {},
   "outputs": [],
   "source": [
    "df_grouped.to_csv(r'C:\\Users\\ADMIN\\Desktop\\grouped.txt',mode = 'w', sep = '\\t', header = True, index = None,encoding = 'utf-8')"
   ]
  },
  {
   "cell_type": "code",
   "execution_count": 63,
   "id": "ebbce961",
   "metadata": {},
   "outputs": [],
   "source": [
    "from datetime import datetime"
   ]
  },
  {
   "cell_type": "code",
   "execution_count": 96,
   "id": "74aaabab",
   "metadata": {},
   "outputs": [
    {
     "data": {
      "text/plain": [
       "'2021-06-01 07:00:00'"
      ]
     },
     "execution_count": 96,
     "metadata": {},
     "output_type": "execute_result"
    }
   ],
   "source": [
    "datetime.fromtimestamp(1622505600).strftime(\"%Y-%m-%d %H:%M:%S\")"
   ]
  },
  {
   "cell_type": "code",
   "execution_count": 79,
   "id": "a88cc056",
   "metadata": {},
   "outputs": [],
   "source": [
    "test= datetime.strptime('2022-01-16 21:00:15',\"%Y-%m-%d %H:%M:%S\")"
   ]
  },
  {
   "cell_type": "code",
   "execution_count": 120,
   "id": "2e622c0f",
   "metadata": {},
   "outputs": [],
   "source": [
    "test2= 1622505600000000000"
   ]
  },
  {
   "cell_type": "code",
   "execution_count": 123,
   "id": "beafbbb7",
   "metadata": {},
   "outputs": [],
   "source": [
    "def standardized_in_state(x): # x is in [datetime,date,ctime]\n",
    "    if type(x) is datetime:\n",
    "        return x.strftime(\"%Y-%m-%d %H:%M:%S\")\n",
    "    if type(x) == int:\n",
    "        return datetime.fromtimestamp(x/1e9).strftime(\"%Y-%m-%d %H:%M:%S\")\n",
    "    return x"
   ]
  },
  {
   "cell_type": "code",
   "execution_count": 124,
   "id": "1c050b8d",
   "metadata": {},
   "outputs": [
    {
     "data": {
      "text/plain": [
       "'2021-06-01 07:00:00'"
      ]
     },
     "execution_count": 124,
     "metadata": {},
     "output_type": "execute_result"
    }
   ],
   "source": [
    "standardized_in_state(test2)"
   ]
  },
  {
   "cell_type": "code",
   "execution_count": 107,
   "id": "385a5947",
   "metadata": {},
   "outputs": [
    {
     "data": {
      "text/plain": [
       "True"
      ]
     },
     "execution_count": 107,
     "metadata": {},
     "output_type": "execute_result"
    }
   ],
   "source": [
    "type(test) is datetime"
   ]
  },
  {
   "cell_type": "code",
   "execution_count": 115,
   "id": "4624aea5",
   "metadata": {},
   "outputs": [
    {
     "data": {
      "text/plain": [
       "True"
      ]
     },
     "execution_count": 115,
     "metadata": {},
     "output_type": "execute_result"
    }
   ],
   "source": [
    "isinstance(test, datetime)"
   ]
  },
  {
   "cell_type": "code",
   "execution_count": 118,
   "id": "28f2d500",
   "metadata": {},
   "outputs": [
    {
     "data": {
      "text/plain": [
       "1000000000"
      ]
     },
     "execution_count": 118,
     "metadata": {},
     "output_type": "execute_result"
    }
   ],
   "source": [
    "int(1e9)"
   ]
  },
  {
   "cell_type": "code",
   "execution_count": null,
   "id": "490410a7",
   "metadata": {},
   "outputs": [],
   "source": [
    "1622505600000000000"
   ]
  },
  {
   "cell_type": "code",
   "execution_count": 70,
   "id": "6387360c",
   "metadata": {},
   "outputs": [],
   "source": [
    "a= {\n",
    "  \"erp\": {\n",
    "    \"at\": \"2021-01-01 00:00:00\"\n",
    "  },\n",
    "  \"dim_segment\": {\n",
    "    \"at\": \"\",\n",
    "    \"segment_id\": \"\"\n",
    "  },\n",
    "  \"fact_segment\": {\n",
    "    \"at\": \"\",\n",
    "    \"segment_id\": \"\",\n",
    "    \"user_id\": \"\"\n",
    "  },\n",
    "  \"user\": {\n",
    "    \"user_id\": \"\"\n",
    "  },\n",
    "  \"product\": {\n",
    "    \"ma_vt\": \"\"\n",
    "  }\n",
    "}"
   ]
  },
  {
   "cell_type": "code",
   "execution_count": 72,
   "id": "bb8bdfc1",
   "metadata": {},
   "outputs": [],
   "source": [
    "import copy\n",
    "b = copy.deepcopy(a)"
   ]
  },
  {
   "cell_type": "code",
   "execution_count": 73,
   "id": "18cb800c",
   "metadata": {},
   "outputs": [
    {
     "data": {
      "text/plain": [
       "{'erp': {'at': '2021-01-01 00:00:00'},\n",
       " 'dim_segment': {'at': '', 'segment_id': ''},\n",
       " 'fact_segment': {'at': '', 'segment_id': '', 'user_id': ''},\n",
       " 'user': {'user_id': ''},\n",
       " 'product': {'ma_vt': ''}}"
      ]
     },
     "execution_count": 73,
     "metadata": {},
     "output_type": "execute_result"
    }
   ],
   "source": [
    "b"
   ]
  },
  {
   "cell_type": "code",
   "execution_count": 74,
   "id": "0abd0580",
   "metadata": {},
   "outputs": [],
   "source": [
    "b['dim_segment']['segment_id']=1"
   ]
  },
  {
   "cell_type": "code",
   "execution_count": 75,
   "id": "81b9a50a",
   "metadata": {},
   "outputs": [
    {
     "data": {
      "text/plain": [
       "{'erp': {'at': '2021-01-01 00:00:00'},\n",
       " 'dim_segment': {'at': '', 'segment_id': 1},\n",
       " 'fact_segment': {'at': '', 'segment_id': '', 'user_id': ''},\n",
       " 'user': {'user_id': ''},\n",
       " 'product': {'ma_vt': ''}}"
      ]
     },
     "execution_count": 75,
     "metadata": {},
     "output_type": "execute_result"
    }
   ],
   "source": [
    "b"
   ]
  },
  {
   "cell_type": "code",
   "execution_count": 76,
   "id": "d0bcce33",
   "metadata": {},
   "outputs": [
    {
     "data": {
      "text/plain": [
       "{'erp': {'at': '2021-01-01 00:00:00'},\n",
       " 'dim_segment': {'at': '', 'segment_id': ''},\n",
       " 'fact_segment': {'at': '', 'segment_id': '', 'user_id': ''},\n",
       " 'user': {'user_id': ''},\n",
       " 'product': {'ma_vt': ''}}"
      ]
     },
     "execution_count": 76,
     "metadata": {},
     "output_type": "execute_result"
    }
   ],
   "source": [
    "a"
   ]
  },
  {
   "cell_type": "code",
   "execution_count": null,
   "id": "1744c497",
   "metadata": {},
   "outputs": [],
   "source": []
  }
 ],
 "metadata": {
  "kernelspec": {
   "display_name": "Python 3 (ipykernel)",
   "language": "python",
   "name": "python3"
  },
  "language_info": {
   "codemirror_mode": {
    "name": "ipython",
    "version": 3
   },
   "file_extension": ".py",
   "mimetype": "text/x-python",
   "name": "python",
   "nbconvert_exporter": "python",
   "pygments_lexer": "ipython3",
   "version": "3.9.0"
  },
  "toc": {
   "base_numbering": 1,
   "nav_menu": {},
   "number_sections": true,
   "sideBar": true,
   "skip_h1_title": false,
   "title_cell": "Table of Contents",
   "title_sidebar": "Contents",
   "toc_cell": false,
   "toc_position": {
    "height": "calc(100% - 180px)",
    "left": "10px",
    "top": "150px",
    "width": "307.2px"
   },
   "toc_section_display": true,
   "toc_window_display": true
  },
  "varInspector": {
   "cols": {
    "lenName": 16,
    "lenType": 16,
    "lenVar": 40
   },
   "kernels_config": {
    "python": {
     "delete_cmd_postfix": "",
     "delete_cmd_prefix": "del ",
     "library": "var_list.py",
     "varRefreshCmd": "print(var_dic_list())"
    },
    "r": {
     "delete_cmd_postfix": ") ",
     "delete_cmd_prefix": "rm(",
     "library": "var_list.r",
     "varRefreshCmd": "cat(var_dic_list()) "
    }
   },
   "types_to_exclude": [
    "module",
    "function",
    "builtin_function_or_method",
    "instance",
    "_Feature"
   ],
   "window_display": false
  }
 },
 "nbformat": 4,
 "nbformat_minor": 5
}
